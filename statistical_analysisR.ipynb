{
 "cells": [
  {
   "cell_type": "markdown",
   "id": "449d7dcd",
   "metadata": {},
   "source": [
    "# Defacing Pre-registration"
   ]
  },
  {
   "cell_type": "markdown",
   "id": "6e0a56d7",
   "metadata": {},
   "source": [
    "## Statistical analysis in R"
   ]
  },
  {
   "cell_type": "markdown",
   "id": "09c82e5d",
   "metadata": {},
   "source": [
    "### Simulate data"
   ]
  },
  {
   "cell_type": "markdown",
   "id": "e9f3a101",
   "metadata": {},
   "source": [
    "Simulate 12 raters each rating 130 original images and their defaced counterpart. The ratings are randomly distributed across subjects."
   ]
  },
  {
   "cell_type": "code",
   "execution_count": 1,
   "id": "318608de",
   "metadata": {},
   "outputs": [],
   "source": [
    "manual_original <- matrix(, nrow = 580, ncol = 12)\n",
    "manual_defaced <- matrix(, nrow = 580, ncol = 12)\n",
    "for (i in 1:12) {\n",
    "    ind <- sample(1:580, 130, replace = F)\n",
    "    manual_original[ind, i] <- sample(1:4, 130, replace = T)\n",
    "    manual_defaced[ind, i] <- sample(1:4, 130, replace = T)\n",
    "}"
   ]
  },
  {
   "cell_type": "markdown",
   "id": "06aabceb",
   "metadata": {},
   "source": [
    "### Continuation ratio mixed effects regression"
   ]
  },
  {
   "cell_type": "markdown",
   "id": "c894e31d",
   "metadata": {},
   "source": [
    "Because the ratings are ordinal and to model raters’ variabilities, we will use mixed effects regression from the GLMMadaptive package in R."
   ]
  },
  {
   "cell_type": "code",
   "execution_count": null,
   "id": "8d6c5f73",
   "metadata": {},
   "outputs": [],
   "source": [
    "set.seed(1234)\n",
    "n <- 580 # number of subjects\n",
    "K <- 12 # number of measurements per subject\n",
    "t_max <- 2 # maximum follow-up time\n",
    "\n",
    "# we construct a data frame with the design: \n",
    "# everyone has a baseline measurement, and then measurements at random follow-up times\n",
    "DF <- data.frame(sub = rep(seq_len(n), each = K),\n",
    "                 rater = c(replicate(n, c(0, sort(runif(K - 1, 0, t_max))))),\n",
    "                 defaced = rep(gl(2, n/2, labels = c(\"original\", \"defaced\")), each = K))\n",
    "\n"
   ]
  },
  {
   "cell_type": "code",
   "execution_count": null,
   "id": "7b7914da",
   "metadata": {},
   "outputs": [],
   "source": [
    "# design matrices for the fixed and random effects\n",
    "# we exclude the intercept from the design matrix of the fixed effects because in the\n",
    "# CR model we have K intercepts (the alpha_k coefficients in the formulation above)\n",
    "X <- model.matrix(~ defaced * rater, data = DF)[, -1]\n",
    "Z <- model.matrix(~ rater, data = DF)\n",
    "\n",
    "thrs <- c(-1.5, 0, 0.9) # thresholds for the different ordinal categories\n",
    "betas <- c(-0.25, 0.24, -0.05) # fixed effects coefficients\n",
    "D11 <- 0.48 # variance of random intercepts\n",
    "D22 <- 0.1 # variance of random slopes\n",
    "\n",
    "# we simulate random effects\n",
    "b <- cbind(rnorm(n, sd = sqrt(D11)), rnorm(n, sd = sqrt(D22)))\n",
    "# linear predictor\n",
    "eta_y <- drop(X %*% betas + rowSums(Z * b[DF$id, , drop = FALSE]))\n",
    "# linear predictor for each category under forward CR formulation\n",
    "# for the backward formulation, check the note below\n",
    "eta_y <- outer(eta_y, thrs, \"+\")\n",
    "# marginal probabilities per category\n",
    "mprobs <- cr_marg_probs(eta_y)\n",
    "# we simulate ordinal longitudinal data\n",
    "DF$y <- unname(apply(mprobs, 1, sample, x = ncol(mprobs), size = 1, replace = TRUE))\n",
    "DF$y <- factor(DF$y, levels = 1:4, labels = c(\"excluded\", \"poor\", \"good\", \"excellent\"))\n",
    "\n",
    "cr_vals <- cr_setup(DF$y)\n",
    "cr_data <- DF[cr_vals$subs, ]\n",
    "cr_data$y_new <- cr_vals$y\n",
    "cr_data$cohort <- cr_vals$cohort"
   ]
  }
 ],
 "metadata": {
  "kernelspec": {
   "display_name": "R",
   "language": "R",
   "name": "ir"
  },
  "language_info": {
   "codemirror_mode": "r",
   "file_extension": ".r",
   "mimetype": "text/x-r-source",
   "name": "R",
   "pygments_lexer": "r",
   "version": "4.2.0"
  }
 },
 "nbformat": 4,
 "nbformat_minor": 5
}
