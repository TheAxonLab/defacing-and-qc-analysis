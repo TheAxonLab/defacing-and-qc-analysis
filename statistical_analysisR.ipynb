{
 "cells": [
  {
   "cell_type": "markdown",
   "id": "b0eb9d3f",
   "metadata": {},
   "source": [
    "# Defacing pre-registration"
   ]
  },
  {
   "cell_type": "markdown",
   "id": "d627c0ee",
   "metadata": {},
   "source": [
    "## Statistical analysis in R"
   ]
  },
  {
   "cell_type": "code",
   "execution_count": 10,
   "id": "c3a1b1e9",
   "metadata": {},
   "outputs": [],
   "source": [
    "library(GLMMadaptive)"
   ]
  },
  {
   "cell_type": "markdown",
   "id": "29c7b55d",
   "metadata": {},
   "source": [
    "### Simulate data"
   ]
  },
  {
   "cell_type": "markdown",
   "id": "7ecab785",
   "metadata": {},
   "source": [
    "Simulate 12 raters each rating 130 original images. The ratings are randomly sampled from {1,2,3,4} and randomly distributed across subjects. To introduce a bias in the ratings of defaced images, we add +1 to a predefined precentage of the ratings on original images. The percentage of scan affected varies between raters."
   ]
  },
  {
   "cell_type": "code",
   "execution_count": 11,
   "id": "bbb7b5dc",
   "metadata": {},
   "outputs": [],
   "source": [
    "set.seed(1234)\n",
    "\n",
    "n_rated <- 580 #nbr of subjects rated per rater\n",
    "n_sub <- 580 #nbr of subjects available in the dataset\n",
    "n_rater <- 12 #nbr of raters\n",
    "\n",
    "manual_original <- matrix(, nrow = n_sub, ncol = n_rater)\n",
    "manual_defaced <- matrix(, nrow = n_sub, ncol = n_rater)\n",
    "\n",
    "#Define for each rater the percentage of biased ratings\n",
    "perc_biased <- c(2,10,10,30,40,40,50,50,60,70,90,90)\n",
    "for (i in 1:n_rater) {\n",
    "    #Each rater rate 130 subjects picked at random\n",
    "    ind_sub <- sample(1:n_sub, n_rated, replace = F)\n",
    "    #130 random original ratings sampled from {1,2,3,4}\n",
    "    ratings <- sample(1:4, n_rated, replace = T)\n",
    "    manual_original[ind_sub, i] <- ratings\n",
    "    \n",
    "    #Improve the ratings of a percentage of the original scans\n",
    "    ind_rat <- sample(1:n_rated, round(n_rated*perc_biased[i]/100), replace = F)\n",
    "    ratings_biased <- ratings\n",
    "    ratings_biased[ind_rat] <- ratings_biased[ind_rat] + 1\n",
    "    #The scale stops at 4 so clip to 4 higher values\n",
    "    ratings_biased[ratings_biased == 5] <- 4\n",
    "    manual_defaced[ind_sub, i] <- ratings_biased\n",
    "}\n",
    "\n",
    "manual_original_vec <- c(t(manual_original))\n",
    "manual_defaced_vec <- c(t(manual_defaced))\n",
    "defaced <- c(rep(c('original'), times = n_rater*n_sub), rep(c('defaced'), times = n_rater*n_sub))\n",
    "rater <- rep(1:n_rater, times = n_sub)\n",
    "sub <- rep(1:n_sub, each=n_rater, length.out=n_rater*n_sub*2)\n",
    "\n",
    "#Convert to dataframe to use in regression\n",
    "df <- data.frame(sub = sub, rater = rater , defaced = defaced)\n",
    "df$ratings <- factor(c(manual_original_vec, manual_defaced_vec), levels = 1:4, labels = c(\"excluded\", \"poor\", \"good\", \"excellent\"))"
   ]
  },
  {
   "cell_type": "markdown",
   "id": "8a2d73ec",
   "metadata": {},
   "source": [
    "### Continuation ratio mixed effects regression"
   ]
  },
  {
   "cell_type": "markdown",
   "id": "73e2a5ff",
   "metadata": {},
   "source": [
    "Because the ratings are ordinal, we will use mixed effects regression from the GLMMadaptive package in R to model raters’ variabilities."
   ]
  },
  {
   "cell_type": "code",
   "execution_count": 25,
   "id": "cfdebade",
   "metadata": {},
   "outputs": [
    {
     "name": "stderr",
     "output_type": "stream",
     "text": [
      "Warning message:\n",
      "“In lm.fit(x, y, offset = offset, singular.ok = singular.ok, ...) :\n",
      " extra argument ‘family’ will be disregarded”\n"
     ]
    },
    {
     "data": {
      "text/plain": [
       "\n",
       "Call:\n",
       "lm(formula = ratings_new ~ defaced + rater, data = cr_data, family = binomial())\n",
       "\n",
       "Coefficients:\n",
       "    (Intercept)  defacedoriginal            rater  \n",
       "       0.366716        -0.094922         0.009251  \n"
      ]
     },
     "metadata": {},
     "output_type": "display_data"
    }
   ],
   "source": [
    "cr_vals <- cr_setup(df$ratings, direction = \"backward\")\n",
    "cr_data <- df[cr_vals$subs, ]\n",
    "cr_data$ratings_new <- cr_vals$y\n",
    "cr_data$cohort <- cr_vals$cohort\n",
    "\n",
    "fm <- mixed_model(ratings_new ~ defaced + rater, random = ~ 1 | rater, data = cr_data, family = binomial())\n",
    "fm"
   ]
  },
  {
   "cell_type": "markdown",
   "id": "29f7e3b6",
   "metadata": {},
   "source": [
    "### Ordered logistic regression"
   ]
  },
  {
   "cell_type": "markdown",
   "id": "d3d057d5",
   "metadata": {},
   "source": [
    "Test just ordered logistic regression before increasing the complexity using mixed_model. Inspired from https://stats.oarc.ucla.edu/r/dae/ordinal-logistic-regression/"
   ]
  },
  {
   "cell_type": "code",
   "execution_count": 34,
   "id": "e08f97c6",
   "metadata": {},
   "outputs": [
    {
     "data": {
      "text/plain": [
       "Call:\n",
       "polr(formula = ratings ~ defaced + rater, data = df, Hess = TRUE, \n",
       "    method = \"logistic\")\n",
       "\n",
       "Coefficients:\n",
       "defacedoriginal           rater \n",
       "    -0.54861742      0.05227948 \n",
       "\n",
       "Intercepts:\n",
       " excluded|poor      poor|good good|excellent \n",
       "    -1.3730969     -0.1424015      0.9006451 \n",
       "\n",
       "Residual Deviance: 37781.85 \n",
       "AIC: 37791.85 "
      ]
     },
     "metadata": {},
     "output_type": "display_data"
    }
   ],
   "source": [
    "library(MASS)\n",
    "m <- polr(ratings ~ defaced + rater, data = df, Hess=TRUE, method = \"logistic\")\n",
    "m"
   ]
  },
  {
   "cell_type": "markdown",
   "id": "12351ac3",
   "metadata": {},
   "source": [
    "One way to calculate a p-value in this case is by comparing the t-value against the standard normal distribution, like a z test. Of course this is only true with infinite degrees of freedom, but is reasonably approximated by large samples, becoming increasingly biased as sample size decreases"
   ]
  },
  {
   "cell_type": "code",
   "execution_count": 36,
   "id": "a80492dc",
   "metadata": {},
   "outputs": [
    {
     "data": {
      "text/html": [
       "<table class=\"dataframe\">\n",
       "<caption>A matrix: 5 × 4 of type dbl</caption>\n",
       "<thead>\n",
       "\t<tr><th></th><th scope=col>Value</th><th scope=col>Std. Error</th><th scope=col>t value</th><th scope=col>p value</th></tr>\n",
       "</thead>\n",
       "<tbody>\n",
       "\t<tr><th scope=row>defacedoriginal</th><td>-0.54861742</td><td>0.03072127</td><td>-17.857904</td><td> 2.508829e-71</td></tr>\n",
       "\t<tr><th scope=row>rater</th><td> 0.05227948</td><td>0.00443805</td><td> 11.779831</td><td> 4.959221e-32</td></tr>\n",
       "\t<tr><th scope=row>excluded|poor</th><td>-1.37309692</td><td>0.03900182</td><td>-35.205974</td><td>1.620050e-271</td></tr>\n",
       "\t<tr><th scope=row>poor|good</th><td>-0.14240145</td><td>0.03691166</td><td> -3.857899</td><td> 1.143660e-04</td></tr>\n",
       "\t<tr><th scope=row>good|excellent</th><td> 0.90064511</td><td>0.03770962</td><td> 23.883699</td><td>4.524274e-126</td></tr>\n",
       "</tbody>\n",
       "</table>\n"
      ],
      "text/latex": [
       "A matrix: 5 × 4 of type dbl\n",
       "\\begin{tabular}{r|llll}\n",
       "  & Value & Std. Error & t value & p value\\\\\n",
       "\\hline\n",
       "\tdefacedoriginal & -0.54861742 & 0.03072127 & -17.857904 &  2.508829e-71\\\\\n",
       "\trater &  0.05227948 & 0.00443805 &  11.779831 &  4.959221e-32\\\\\n",
       "\texcluded\\textbar{}poor & -1.37309692 & 0.03900182 & -35.205974 & 1.620050e-271\\\\\n",
       "\tpoor\\textbar{}good & -0.14240145 & 0.03691166 &  -3.857899 &  1.143660e-04\\\\\n",
       "\tgood\\textbar{}excellent &  0.90064511 & 0.03770962 &  23.883699 & 4.524274e-126\\\\\n",
       "\\end{tabular}\n"
      ],
      "text/markdown": [
       "\n",
       "A matrix: 5 × 4 of type dbl\n",
       "\n",
       "| <!--/--> | Value | Std. Error | t value | p value |\n",
       "|---|---|---|---|---|\n",
       "| defacedoriginal | -0.54861742 | 0.03072127 | -17.857904 |  2.508829e-71 |\n",
       "| rater |  0.05227948 | 0.00443805 |  11.779831 |  4.959221e-32 |\n",
       "| excluded|poor | -1.37309692 | 0.03900182 | -35.205974 | 1.620050e-271 |\n",
       "| poor|good | -0.14240145 | 0.03691166 |  -3.857899 |  1.143660e-04 |\n",
       "| good|excellent |  0.90064511 | 0.03770962 |  23.883699 | 4.524274e-126 |\n",
       "\n"
      ],
      "text/plain": [
       "                Value       Std. Error t value    p value      \n",
       "defacedoriginal -0.54861742 0.03072127 -17.857904  2.508829e-71\n",
       "rater            0.05227948 0.00443805  11.779831  4.959221e-32\n",
       "excluded|poor   -1.37309692 0.03900182 -35.205974 1.620050e-271\n",
       "poor|good       -0.14240145 0.03691166  -3.857899  1.143660e-04\n",
       "good|excellent   0.90064511 0.03770962  23.883699 4.524274e-126"
      ]
     },
     "metadata": {},
     "output_type": "display_data"
    }
   ],
   "source": [
    "## Store table\n",
    "ctable <- coef(summary(m))\n",
    "\n",
    "## calculate and store p values\n",
    "p <- pnorm(abs(ctable[, \"t value\"]), lower.tail = FALSE) * 2\n",
    "\n",
    "## combined table\n",
    "(ctable <- cbind(ctable, \"p value\" = p))"
   ]
  },
  {
   "cell_type": "markdown",
   "id": "b0004dd7",
   "metadata": {},
   "source": [
    "We can also get confidence intervals for the parameter estimates. These can be obtained either by profiling the likelihood function or by using the standard errors and assuming a normal distribution. Note that profiled CIs are not symmetric (although they are usually close to symmetric). If the 95% CI does not cross 0, the parameter estimate is statistically significant."
   ]
  },
  {
   "cell_type": "code",
   "execution_count": 37,
   "id": "dd45b70f",
   "metadata": {},
   "outputs": [
    {
     "name": "stderr",
     "output_type": "stream",
     "text": [
      "Waiting for profiling to be done...\n",
      "\n"
     ]
    },
    {
     "data": {
      "text/html": [
       "<table class=\"dataframe\">\n",
       "<caption>A matrix: 2 × 2 of type dbl</caption>\n",
       "<thead>\n",
       "\t<tr><th></th><th scope=col>2.5 %</th><th scope=col>97.5 %</th></tr>\n",
       "</thead>\n",
       "<tbody>\n",
       "\t<tr><th scope=row>defacedoriginal</th><td>-0.60886781</td><td>-0.48844059</td></tr>\n",
       "\t<tr><th scope=row>rater</th><td> 0.04358562</td><td> 0.06098284</td></tr>\n",
       "</tbody>\n",
       "</table>\n"
      ],
      "text/latex": [
       "A matrix: 2 × 2 of type dbl\n",
       "\\begin{tabular}{r|ll}\n",
       "  & 2.5 \\% & 97.5 \\%\\\\\n",
       "\\hline\n",
       "\tdefacedoriginal & -0.60886781 & -0.48844059\\\\\n",
       "\trater &  0.04358562 &  0.06098284\\\\\n",
       "\\end{tabular}\n"
      ],
      "text/markdown": [
       "\n",
       "A matrix: 2 × 2 of type dbl\n",
       "\n",
       "| <!--/--> | 2.5 % | 97.5 % |\n",
       "|---|---|---|\n",
       "| defacedoriginal | -0.60886781 | -0.48844059 |\n",
       "| rater |  0.04358562 |  0.06098284 |\n",
       "\n"
      ],
      "text/plain": [
       "                2.5 %       97.5 %     \n",
       "defacedoriginal -0.60886781 -0.48844059\n",
       "rater            0.04358562  0.06098284"
      ]
     },
     "metadata": {},
     "output_type": "display_data"
    },
    {
     "data": {
      "text/html": [
       "<table class=\"dataframe\">\n",
       "<caption>A matrix: 2 × 2 of type dbl</caption>\n",
       "<thead>\n",
       "\t<tr><th></th><th scope=col>2.5 %</th><th scope=col>97.5 %</th></tr>\n",
       "</thead>\n",
       "<tbody>\n",
       "\t<tr><th scope=row>defacedoriginal</th><td>-0.60882999</td><td>-0.4884048</td></tr>\n",
       "\t<tr><th scope=row>rater</th><td> 0.04358106</td><td> 0.0609779</td></tr>\n",
       "</tbody>\n",
       "</table>\n"
      ],
      "text/latex": [
       "A matrix: 2 × 2 of type dbl\n",
       "\\begin{tabular}{r|ll}\n",
       "  & 2.5 \\% & 97.5 \\%\\\\\n",
       "\\hline\n",
       "\tdefacedoriginal & -0.60882999 & -0.4884048\\\\\n",
       "\trater &  0.04358106 &  0.0609779\\\\\n",
       "\\end{tabular}\n"
      ],
      "text/markdown": [
       "\n",
       "A matrix: 2 × 2 of type dbl\n",
       "\n",
       "| <!--/--> | 2.5 % | 97.5 % |\n",
       "|---|---|---|\n",
       "| defacedoriginal | -0.60882999 | -0.4884048 |\n",
       "| rater |  0.04358106 |  0.0609779 |\n",
       "\n"
      ],
      "text/plain": [
       "                2.5 %       97.5 %    \n",
       "defacedoriginal -0.60882999 -0.4884048\n",
       "rater            0.04358106  0.0609779"
      ]
     },
     "metadata": {},
     "output_type": "display_data"
    }
   ],
   "source": [
    "(ci <- confint(m)) # default method gives profiled CIs\n",
    "confint.default(m) # CIs assuming normality"
   ]
  },
  {
   "cell_type": "markdown",
   "id": "150178b6",
   "metadata": {},
   "source": [
    "Both the p-values and the confidence interval indicate that both defacing and rater improves the fit of the model."
   ]
  },
  {
   "cell_type": "markdown",
   "id": "e3da207b",
   "metadata": {},
   "source": [
    "### Test significance of predictors"
   ]
  },
  {
   "cell_type": "markdown",
   "id": "68f9404d",
   "metadata": {},
   "source": [
    "We test significance of the predictors using Wald test. Specifically, we want to test whether the coefficient associated to the fixed effect defacing is significantly non-zero. Note that the use of this test is possible because we have a balanced, nested GLMM.\n"
   ]
  },
  {
   "cell_type": "code",
   "execution_count": null,
   "id": "6b14b3ac",
   "metadata": {},
   "outputs": [],
   "source": [
    "library(aod)\n",
    "\n",
    "#perform Wald Test to determine if defacing variables is zero\n",
    "#This is copied from an example using lm but doesn't work for mixed_model\n",
    "wald.test(Sigma = vcov(fm), b = coef(fm), Terms = 1)"
   ]
  },
  {
   "cell_type": "code",
   "execution_count": null,
   "id": "4f4601cc",
   "metadata": {},
   "outputs": [],
   "source": []
  },
  {
   "cell_type": "markdown",
   "id": "e3f8b4fe",
   "metadata": {},
   "source": [
    "If p-value > 0.05, it means we fail to reject the null hypothesis, meaning defacing coefficient is approximately zero. Thus you can drop that predictor from the model, because it doesn't significantly improve the fit of the model."
   ]
  }
 ],
 "metadata": {
  "kernelspec": {
   "display_name": "R",
   "language": "R",
   "name": "ir"
  },
  "language_info": {
   "codemirror_mode": "r",
   "file_extension": ".r",
   "mimetype": "text/x-r-source",
   "name": "R",
   "pygments_lexer": "r",
   "version": "4.2.0"
  }
 },
 "nbformat": 4,
 "nbformat_minor": 5
}
