{
 "cells": [
  {
   "cell_type": "code",
   "execution_count": null,
   "id": "5ed84208",
   "metadata": {},
   "outputs": [],
   "source": [
    "import random\n",
    "\n",
    "day = 220830\n",
    "time = 543417\n",
    "random.seed(day + time)\n",
    "\n",
    "# Randomly select 40 subjects that will be shown twice\n",
    "subset_rep = random.sample(range(1, 185), 40)"
   ]
  }
 ],
 "metadata": {
  "kernelspec": {
   "display_name": "Python 3 (ipykernel)",
   "language": "python",
   "name": "python3"
  },
  "language_info": {
   "codemirror_mode": {
    "name": "ipython",
    "version": 3
   },
   "file_extension": ".py",
   "mimetype": "text/x-python",
   "name": "python",
   "nbconvert_exporter": "python",
   "pygments_lexer": "ipython3",
   "version": "3.8.13"
  }
 },
 "nbformat": 4,
 "nbformat_minor": 5
}
