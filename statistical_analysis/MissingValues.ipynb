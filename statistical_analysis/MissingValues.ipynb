{
 "cells": [
  {
   "cell_type": "markdown",
   "id": "7b2b3d64",
   "metadata": {},
   "source": [
    "# Defacing pre-registration - Statistical analysis in R"
   ]
  },
  {
   "cell_type": "markdown",
   "id": "9a16a6dc",
   "metadata": {},
   "source": [
    "We are running simulations order to evaluate how many missing values we are able to handle. The goal is to determine the maximum number of missing values before the model stops converging. We start with all the raters rating all the subjects and iteratively droping subjects."
   ]
  },
  {
   "cell_type": "markdown",
   "id": "fa3b7278",
   "metadata": {},
   "source": [
    "#### Function to simulate data with missing values"
   ]
  },
  {
   "cell_type": "code",
   "execution_count": 1,
   "id": "b56c36cb",
   "metadata": {},
   "outputs": [],
   "source": [
    "source(\"simulate_data.R\")"
   ]
  },
  {
   "cell_type": "markdown",
   "id": "827e1231",
   "metadata": {},
   "source": [
    "#### Run lmer on dataset with missing values"
   ]
  },
  {
   "cell_type": "code",
   "execution_count": 9,
   "id": "0b2e5e3c",
   "metadata": {
    "scrolled": false
   },
   "outputs": [
    {
     "name": "stderr",
     "output_type": "stream",
     "text": [
      "boundary (singular) fit: see ?isSingular\n",
      "\n"
     ]
    },
    {
     "name": "stdout",
     "output_type": "stream",
     "text": [
      "[1] \"_______________0.00 missing values__________\"\n",
      "Linear mixed model fit by REML ['lmerMod']\n",
      "Formula: as.numeric(ratings) ~ defaced + (defaced | rater)\n",
      "   Data: df\n",
      "\n",
      "REML criterion at convergence: 13969.2\n",
      "\n",
      "Scaled residuals: \n",
      "     Min       1Q   Median       3Q      Max \n",
      "-1.96584 -0.85299  0.06633  0.79213  1.39325 \n",
      "\n",
      "Random effects:\n",
      " Groups   Name           Variance Std.Dev. Corr\n",
      " rater    (Intercept)    0.00000  0.0000       \n",
      "          defaceddefaced 0.08573  0.2928    NaN\n",
      " Residual                1.18322  1.0878       \n",
      "Number of obs: 4640, groups:  rater, 4\n",
      "\n",
      "Fixed effects:\n",
      "               Estimate Std. Error t value\n",
      "(Intercept)     2.48448    0.02258 110.014\n",
      "defaceddefaced  0.30948    0.14984   2.065\n",
      "\n",
      "Correlation of Fixed Effects:\n",
      "            (Intr)\n",
      "defaceddfcd -0.151\n",
      "optimizer (nloptwrap) convergence code: 0 (OK)\n",
      "boundary (singular) fit: see ?isSingular\n",
      "\n",
      "$rater\n",
      "        (Intercept) defaceddefaced\n",
      "rater01           0     -0.2265065\n",
      "rater02           0     -0.2517675\n",
      "rater03           0      0.1338831\n",
      "rater04           0      0.3443910\n",
      "\n",
      "with conditional variances for “rater” \n"
     ]
    },
    {
     "name": "stderr",
     "output_type": "stream",
     "text": [
      "boundary (singular) fit: see ?isSingular\n",
      "\n"
     ]
    },
    {
     "name": "stdout",
     "output_type": "stream",
     "text": [
      "[1] \"_______________8.62 missing values__________\"\n",
      "Linear mixed model fit by REML ['lmerMod']\n",
      "Formula: as.numeric(ratings) ~ defaced + (defaced | rater)\n",
      "   Data: df\n",
      "\n",
      "REML criterion at convergence: 12699.4\n",
      "\n",
      "Scaled residuals: \n",
      "     Min       1Q   Median       3Q      Max \n",
      "-1.98867 -0.90359  0.02304  0.79122  1.39130 \n",
      "\n",
      "Random effects:\n",
      " Groups   Name           Variance  Std.Dev. Corr \n",
      " rater    (Intercept)    9.543e-05 0.009769      \n",
      "          defaceddefaced 9.718e-02 0.311737 -1.00\n",
      " Residual                1.165e+00 1.079178      \n",
      "Number of obs: 4240, groups:  rater, 4\n",
      "\n",
      "Fixed effects:\n",
      "               Estimate Std. Error t value\n",
      "(Intercept)     2.50943    0.02394 104.814\n",
      "defaceddefaced  0.30000    0.15935   1.883\n",
      "\n",
      "Correlation of Fixed Effects:\n",
      "            (Intr)\n",
      "defaceddfcd -0.344\n",
      "optimizer (nloptwrap) convergence code: 0 (OK)\n",
      "boundary (singular) fit: see ?isSingular\n",
      "\n",
      "$rater\n",
      "         (Intercept) defaceddefaced\n",
      "rater01  0.008355147     -0.2666224\n",
      "rater02  0.007897902     -0.2520312\n",
      "rater03 -0.005360538      0.1710609\n",
      "rater04 -0.010892511      0.3475926\n",
      "\n",
      "with conditional variances for “rater” \n"
     ]
    },
    {
     "name": "stderr",
     "output_type": "stream",
     "text": [
      "boundary (singular) fit: see ?isSingular\n",
      "\n"
     ]
    },
    {
     "data": {
      "image/png": "[encoded data removed]",
      "text/plain": [
       "Plot with title “Regression estimates”"
      ]
     },
     "metadata": {
      "image/png": {
       "height": 420,
       "width": 420
      }
     },
     "output_type": "display_data"
    },
    {
     "name": "stdout",
     "output_type": "stream",
     "text": [
      "[1] \"_______________17.24 missing values__________\"\n",
      "Linear mixed model fit by REML ['lmerMod']\n",
      "Formula: as.numeric(ratings) ~ defaced + (defaced | rater)\n",
      "   Data: df\n",
      "\n",
      "REML criterion at convergence: 11435.6\n",
      "\n",
      "Scaled residuals: \n",
      "     Min       1Q   Median       3Q      Max \n",
      "-2.02999 -0.94330 -0.00846  0.77455  1.41830 \n",
      "\n",
      "Random effects:\n",
      " Groups   Name           Variance Std.Dev. Corr\n",
      " rater    (Intercept)    0.001094 0.03307      \n",
      "          defaceddefaced 0.089881 0.29980  1.00\n",
      " Residual                1.144240 1.06969      \n",
      "Number of obs: 3840, groups:  rater, 4\n",
      "\n",
      "Fixed effects:\n",
      "               Estimate Std. Error t value\n",
      "(Intercept)     2.51406    0.02949  85.263\n",
      "defaceddefaced  0.29792    0.15382   1.937\n",
      "\n",
      "Correlation of Fixed Effects:\n",
      "            (Intr)\n",
      "defaceddfcd 0.415 \n",
      "optimizer (nloptwrap) convergence code: 0 (OK)\n",
      "boundary (singular) fit: see ?isSingular\n",
      "\n",
      "$rater\n",
      "        (Intercept) defaceddefaced\n",
      "rater01 -0.03121060     -0.2829170\n",
      "rater02 -0.02408662     -0.2183397\n",
      "rater03  0.01957969      0.1774854\n",
      "rater04  0.03571753      0.3237713\n",
      "\n",
      "with conditional variances for “rater” \n"
     ]
    },
    {
     "name": "stderr",
     "output_type": "stream",
     "text": [
      "boundary (singular) fit: see ?isSingular\n",
      "\n"
     ]
    },
    {
     "data": {
      "image/png": "[encoded data removed]",
      "text/plain": [
       "Plot with title “Regression estimates”"
      ]
     },
     "metadata": {
      "image/png": {
       "height": 420,
       "width": 420
      }
     },
     "output_type": "display_data"
    },
    {
     "name": "stdout",
     "output_type": "stream",
     "text": [
      "[1] \"_______________25.86 missing values__________\"\n",
      "Linear mixed model fit by REML ['lmerMod']\n",
      "Formula: as.numeric(ratings) ~ defaced + (defaced | rater)\n",
      "   Data: df\n",
      "\n",
      "REML criterion at convergence: 10333.6\n",
      "\n",
      "Scaled residuals: \n",
      "     Min       1Q   Median       3Q      Max \n",
      "-1.93627 -0.85846  0.06443  0.83241  1.43555 \n",
      "\n",
      "Random effects:\n",
      " Groups   Name           Variance  Std.Dev. Corr \n",
      " rater    (Intercept)    0.0004687 0.02165       \n",
      "          defaceddefaced 0.0963064 0.31033  -1.00\n",
      " Residual                1.1740766 1.08355       \n",
      "Number of obs: 3440, groups:  rater, 4\n",
      "\n",
      "Fixed effects:\n",
      "               Estimate Std. Error t value\n",
      "(Intercept)     2.46860    0.02828  87.291\n",
      "defaceddefaced  0.30814    0.15950   1.932\n",
      "\n",
      "Correlation of Fixed Effects:\n",
      "            (Intr)\n",
      "defaceddfcd -0.524\n",
      "optimizer (nloptwrap) convergence code: 0 (OK)\n",
      "boundary (singular) fit: see ?isSingular\n",
      "\n",
      "$rater\n",
      "        (Intercept) defaceddefaced\n",
      "rater01  0.02052116     -0.2941736\n",
      "rater02  0.01507963     -0.2161685\n",
      "rater03 -0.01150656      0.1649481\n",
      "rater04 -0.02409423      0.3453940\n",
      "\n",
      "with conditional variances for “rater” \n"
     ]
    },
    {
     "name": "stderr",
     "output_type": "stream",
     "text": [
      "boundary (singular) fit: see ?isSingular\n",
      "\n"
     ]
    },
    {
     "data": {
      "image/png": "[encoded data removed]",
      "text/plain": [
       "Plot with title “Regression estimates”"
      ]
     },
     "metadata": {
      "image/png": {
       "height": 420,
       "width": 420
      }
     },
     "output_type": "display_data"
    },
    {
     "name": "stdout",
     "output_type": "stream",
     "text": [
      "[1] \"_______________34.48 missing values__________\"\n",
      "Linear mixed model fit by REML ['lmerMod']\n",
      "Formula: as.numeric(ratings) ~ defaced + (defaced | rater)\n",
      "   Data: df\n",
      "\n",
      "REML criterion at convergence: 9067.7\n",
      "\n",
      "Scaled residuals: \n",
      "     Min       1Q   Median       3Q      Max \n",
      "-2.05822 -0.85278  0.08031  0.74104  1.42481 \n",
      "\n",
      "Random effects:\n",
      " Groups   Name           Variance  Std.Dev. Corr\n",
      " rater    (Intercept)    0.0006731 0.02594      \n",
      "          defaceddefaced 0.0895746 0.29929  1.00\n",
      " Residual                1.1485585 1.07171      \n",
      "Number of obs: 3040, groups:  rater, 4\n",
      "\n",
      "Fixed effects:\n",
      "               Estimate Std. Error t value\n",
      "(Intercept)      2.5013     0.0304  82.292\n",
      "defaceddefaced   0.3079     0.1546   1.991\n",
      "\n",
      "Correlation of Fixed Effects:\n",
      "            (Intr)\n",
      "defaceddfcd 0.252 \n",
      "optimizer (nloptwrap) convergence code: 0 (OK)\n",
      "boundary (singular) fit: see ?isSingular\n",
      "\n",
      "$rater\n",
      "         (Intercept) defaceddefaced\n",
      "rater01 -0.026817244    -0.30937142\n",
      "rater02 -0.013172731    -0.15196440\n",
      "rater03  0.008353337     0.09636649\n",
      "rater04  0.031636639     0.36496934\n",
      "\n",
      "with conditional variances for “rater” \n"
     ]
    },
    {
     "name": "stderr",
     "output_type": "stream",
     "text": [
      "boundary (singular) fit: see ?isSingular\n",
      "\n"
     ]
    },
    {
     "data": {
      "image/png": "[encoded data removed]",
      "text/plain": [
       "Plot with title “Regression estimates”"
      ]
     },
     "metadata": {
      "image/png": {
       "height": 420,
       "width": 420
      }
     },
     "output_type": "display_data"
    },
    {
     "name": "stdout",
     "output_type": "stream",
     "text": [
      "[1] \"_______________43.10 missing values__________\"\n",
      "Linear mixed model fit by REML ['lmerMod']\n",
      "Formula: as.numeric(ratings) ~ defaced + (defaced | rater)\n",
      "   Data: df\n",
      "\n",
      "REML criterion at convergence: 7887.8\n",
      "\n",
      "Scaled residuals: \n",
      "    Min      1Q  Median      3Q     Max \n",
      "-2.0772 -0.8855  0.3557  0.7161  1.3923 \n",
      "\n",
      "Random effects:\n",
      " Groups   Name           Variance  Std.Dev. Corr\n",
      " rater    (Intercept)    0.0005826 0.02414      \n",
      "          defaceddefaced 0.0932650 0.30539  1.00\n",
      " Residual                1.1534968 1.07401      \n",
      "Number of obs: 2640, groups:  rater, 4\n",
      "\n",
      "Fixed effects:\n",
      "               Estimate Std. Error t value\n",
      "(Intercept)     2.52727    0.03193  79.151\n",
      "defaceddefaced  0.30303    0.15832   1.914\n",
      "\n",
      "Correlation of Fixed Effects:\n",
      "            (Intr)\n",
      "defaceddfcd 0.192 \n",
      "optimizer (nloptwrap) convergence code: 0 (OK)\n",
      "boundary (singular) fit: see ?isSingular\n",
      "\n",
      "$rater\n",
      "         (Intercept) defaceddefaced\n",
      "rater01 -0.022634300     -0.2863841\n",
      "rater02 -0.015553721     -0.1967959\n",
      "rater03  0.008843756      0.1118970\n",
      "rater04  0.029344266      0.3712830\n",
      "\n",
      "with conditional variances for “rater” \n"
     ]
    },
    {
     "data": {
      "image/png": "[encoded data removed]",
      "text/plain": [
       "Plot with title “Regression estimates”"
      ]
     },
     "metadata": {
      "image/png": {
       "height": 420,
       "width": 420
      }
     },
     "output_type": "display_data"
    },
    {
     "name": "stdout",
     "output_type": "stream",
     "text": [
      "[1] \"_______________51.72 missing values__________\"\n",
      "Linear mixed model fit by REML ['lmerMod']\n",
      "Formula: as.numeric(ratings) ~ defaced + (defaced | rater)\n",
      "   Data: df\n",
      "\n",
      "REML criterion at convergence: 6658.1\n",
      "\n",
      "Scaled residuals: \n",
      "     Min       1Q   Median       3Q      Max \n",
      "-2.01336 -0.64891  0.05471  0.80218  1.44613 \n",
      "\n",
      "Random effects:\n",
      " Groups   Name           Variance Std.Dev. Corr \n",
      " rater    (Intercept)    0.003016 0.05492       \n",
      "          defaceddefaced 0.101529 0.31864  -1.00\n",
      " Residual                1.135327 1.06552       \n",
      "Number of obs: 2240, groups:  rater, 4\n",
      "\n",
      "Fixed effects:\n",
      "               Estimate Std. Error t value\n",
      "(Intercept)     2.52321    0.04204  60.013\n",
      "defaceddefaced  0.31429    0.16556   1.898\n",
      "\n",
      "Correlation of Fixed Effects:\n",
      "            (Intr)\n",
      "defaceddfcd -0.774\n",
      "$rater\n",
      "        (Intercept) defaceddefaced\n",
      "rater01  0.05537428     -0.3212706\n",
      "rater02  0.03042124     -0.1764978\n",
      "rater03 -0.02170158      0.1259082\n",
      "rater04 -0.06409393      0.3718602\n",
      "\n",
      "with conditional variances for “rater” \n"
     ]
    },
    {
     "name": "stderr",
     "output_type": "stream",
     "text": [
      "boundary (singular) fit: see ?isSingular\n",
      "\n"
     ]
    },
    {
     "data": {
      "image/png": "[encoded data removed]",
      "text/plain": [
       "Plot with title “Regression estimates”"
      ]
     },
     "metadata": {
      "image/png": {
       "height": 420,
       "width": 420
      }
     },
     "output_type": "display_data"
    },
    {
     "name": "stdout",
     "output_type": "stream",
     "text": [
      "[1] \"_______________60.34 missing values__________\"\n",
      "Linear mixed model fit by REML ['lmerMod']\n",
      "Formula: as.numeric(ratings) ~ defaced + (defaced | rater)\n",
      "   Data: df\n",
      "\n",
      "REML criterion at convergence: 5459.3\n",
      "\n",
      "Scaled residuals: \n",
      "     Min       1Q   Median       3Q      Max \n",
      "-1.96929 -0.89445  0.04711  0.85539  1.45176 \n",
      "\n",
      "Random effects:\n",
      " Groups   Name           Variance Std.Dev. Corr \n",
      " rater    (Intercept)    0.001495 0.03866       \n",
      "          defaceddefaced 0.092300 0.30381  -1.00\n",
      " Residual                1.127987 1.06207       \n",
      "Number of obs: 1840, groups:  rater, 4\n",
      "\n",
      "Fixed effects:\n",
      "               Estimate Std. Error t value\n",
      "(Intercept)      2.5000     0.0400  62.505\n",
      "defaceddefaced   0.3044     0.1598   1.905\n",
      "\n",
      "Correlation of Fixed Effects:\n",
      "            (Intr)\n",
      "defaceddfcd -0.651\n",
      "optimizer (nloptwrap) convergence code: 0 (OK)\n",
      "boundary (singular) fit: see ?isSingular\n",
      "\n",
      "$rater\n",
      "        (Intercept) defaceddefaced\n",
      "rater01  0.03256348     -0.2558941\n",
      "rater02  0.03054211     -0.2400096\n",
      "rater03 -0.02123312      0.1668565\n",
      "rater04 -0.04187247      0.3290471\n",
      "\n",
      "with conditional variances for “rater” \n"
     ]
    },
    {
     "name": "stderr",
     "output_type": "stream",
     "text": [
      "boundary (singular) fit: see ?isSingular\n",
      "\n"
     ]
    },
    {
     "data": {
      "image/png": "[encoded data removed]",
      "text/plain": [
       "Plot with title “Regression estimates”"
      ]
     },
     "metadata": {
      "image/png": {
       "height": 420,
       "width": 420
      }
     },
     "output_type": "display_data"
    },
    {
     "name": "stdout",
     "output_type": "stream",
     "text": [
      "[1] \"_______________68.97 missing values__________\"\n",
      "Linear mixed model fit by REML ['lmerMod']\n",
      "Formula: as.numeric(ratings) ~ defaced + (defaced | rater)\n",
      "   Data: df\n",
      "\n",
      "REML criterion at convergence: 4238.7\n",
      "\n",
      "Scaled residuals: \n",
      "    Min      1Q  Median      3Q     Max \n",
      "-2.0552 -0.5743 -0.0868  0.8069  1.4646 \n",
      "\n",
      "Random effects:\n",
      " Groups   Name           Variance Std.Dev. Corr\n",
      " rater    (Intercept)    0.004313 0.06568      \n",
      "          defaceddefaced 0.082086 0.28651  1.00\n",
      " Residual                1.098711 1.04819      \n",
      "Number of obs: 1440, groups:  rater, 4\n",
      "\n",
      "Fixed effects:\n",
      "               Estimate Std. Error t value\n",
      "(Intercept)     2.53194    0.05103  49.614\n",
      "defaceddefaced  0.29722    0.15354   1.936\n",
      "\n",
      "Correlation of Fixed Effects:\n",
      "            (Intr)\n",
      "defaceddfcd 0.406 \n",
      "optimizer (nloptwrap) convergence code: 0 (OK)\n",
      "boundary (singular) fit: see ?isSingular\n",
      "\n",
      "$rater\n",
      "        (Intercept) defaceddefaced\n",
      "rater01 -0.06708079     -0.2926356\n",
      "rater02 -0.04236068     -0.1847957\n",
      "rater03  0.04882479      0.2129950\n",
      "rater04  0.06061668      0.2644364\n",
      "\n",
      "with conditional variances for “rater” \n"
     ]
    },
    {
     "name": "stderr",
     "output_type": "stream",
     "text": [
      "boundary (singular) fit: see ?isSingular\n",
      "\n"
     ]
    },
    {
     "data": {
      "image/png": "[encoded data removed]",
      "text/plain": [
       "Plot with title “Regression estimates”"
      ]
     },
     "metadata": {
      "image/png": {
       "height": 420,
       "width": 420
      }
     },
     "output_type": "display_data"
    },
    {
     "name": "stdout",
     "output_type": "stream",
     "text": [
      "[1] \"_______________77.59 missing values__________\"\n",
      "Linear mixed model fit by REML ['lmerMod']\n",
      "Formula: as.numeric(ratings) ~ defaced + (defaced | rater)\n",
      "   Data: df\n",
      "\n",
      "REML criterion at convergence: 3114.5\n",
      "\n",
      "Scaled residuals: \n",
      "    Min      1Q  Median      3Q     Max \n",
      "-2.0543 -0.8443  0.0867  0.7388  1.3963 \n",
      "\n",
      "Random effects:\n",
      " Groups   Name           Variance Std.Dev. Corr\n",
      " rater    (Intercept)    0.0000   0.0000       \n",
      "          defaceddefaced 0.1134   0.3367    NaN\n",
      " Residual                1.1537   1.0741       \n",
      "Number of obs: 1040, groups:  rater, 4\n",
      "\n",
      "Fixed effects:\n",
      "               Estimate Std. Error t value\n",
      "(Intercept)      2.5058     0.0471  53.198\n",
      "defaceddefaced   0.2923     0.1811   1.614\n",
      "\n",
      "Correlation of Fixed Effects:\n",
      "            (Intr)\n",
      "defaceddfcd -0.260\n",
      "optimizer (nloptwrap) convergence code: 0 (OK)\n",
      "boundary (singular) fit: see ?isSingular\n",
      "\n",
      "$rater\n",
      "        (Intercept) defaceddefaced\n",
      "rater01           0     -0.2978430\n",
      "rater02           0     -0.2193694\n",
      "rater03           0      0.1087929\n",
      "rater04           0      0.4084194\n",
      "\n",
      "with conditional variances for “rater” \n"
     ]
    },
    {
     "name": "stderr",
     "output_type": "stream",
     "text": [
      "boundary (singular) fit: see ?isSingular\n",
      "\n"
     ]
    },
    {
     "data": {
      "image/png": "[encoded data removed]",
      "text/plain": [
       "Plot with title “Regression estimates”"
      ]
     },
     "metadata": {
      "image/png": {
       "height": 420,
       "width": 420
      }
     },
     "output_type": "display_data"
    },
    {
     "name": "stdout",
     "output_type": "stream",
     "text": [
      "[1] \"_______________86.21 missing values__________\"\n",
      "Linear mixed model fit by REML ['lmerMod']\n",
      "Formula: as.numeric(ratings) ~ defaced + (defaced | rater)\n",
      "   Data: df\n",
      "\n",
      "REML criterion at convergence: 1873.3\n",
      "\n",
      "Scaled residuals: \n",
      "     Min       1Q   Median       3Q      Max \n",
      "-1.99579 -0.76704 -0.06619  0.60777  1.57257 \n",
      "\n",
      "Random effects:\n",
      " Groups   Name           Variance Std.Dev. Corr \n",
      " rater    (Intercept)    0.001584 0.0398        \n",
      "          defaceddefaced 0.091683 0.3028   -1.00\n",
      " Residual                1.074301 1.0365        \n",
      "Number of obs: 640, groups:  rater, 4\n",
      "\n",
      "Fixed effects:\n",
      "               Estimate Std. Error t value\n",
      "(Intercept)     2.41875    0.06126  39.481\n",
      "defaceddefaced  0.32812    0.17215   1.906\n",
      "\n",
      "Correlation of Fixed Effects:\n",
      "            (Intr)\n",
      "defaceddfcd -0.604\n",
      "optimizer (nloptwrap) convergence code: 0 (OK)\n",
      "boundary (singular) fit: see ?isSingular\n",
      "\n",
      "$rater\n",
      "         (Intercept) defaceddefaced\n",
      "rater01  0.029357282    -0.22331851\n",
      "rater02  0.026626338    -0.20254443\n",
      "rater03 -0.007287389     0.05543459\n",
      "rater04 -0.048696232     0.37042835\n",
      "\n",
      "with conditional variances for “rater” \n"
     ]
    },
    {
     "name": "stderr",
     "output_type": "stream",
     "text": [
      "boundary (singular) fit: see ?isSingular\n",
      "\n"
     ]
    },
    {
     "data": {
      "image/png": "[encoded data removed]",
      "text/plain": [
       "Plot with title “Regression estimates”"
      ]
     },
     "metadata": {
      "image/png": {
       "height": 420,
       "width": 420
      }
     },
     "output_type": "display_data"
    },
    {
     "name": "stdout",
     "output_type": "stream",
     "text": [
      "[1] \"_______________94.83 missing values__________\"\n",
      "Linear mixed model fit by REML ['lmerMod']\n",
      "Formula: as.numeric(ratings) ~ defaced + (defaced | rater)\n",
      "   Data: df\n",
      "\n",
      "REML criterion at convergence: 703.9\n",
      "\n",
      "Scaled residuals: \n",
      "    Min      1Q  Median      3Q     Max \n",
      "-2.0131 -0.6410  0.2605  0.6756  1.5768 \n",
      "\n",
      "Random effects:\n",
      " Groups   Name           Variance Std.Dev. Corr\n",
      " rater    (Intercept)    0.03601  0.1898       \n",
      "          defaceddefaced 0.07227  0.2688   1.00\n",
      " Residual                1.05472  1.0270       \n",
      "Number of obs: 240, groups:  rater, 4\n",
      "\n",
      "Fixed effects:\n",
      "               Estimate Std. Error t value\n",
      "(Intercept)      2.5333     0.1334  18.992\n",
      "defaceddefaced   0.2917     0.1888   1.545\n",
      "\n",
      "Correlation of Fixed Effects:\n",
      "            (Intr)\n",
      "defaceddfcd 0.157 \n",
      "optimizer (nloptwrap) convergence code: 0 (OK)\n",
      "boundary (singular) fit: see ?isSingular\n",
      "\n",
      "$rater\n",
      "        (Intercept) defaceddefaced\n",
      "rater01  -0.1527193     -0.2163550\n",
      "rater02  -0.1466780     -0.2077964\n",
      "rater03   0.1003025      0.1420969\n",
      "rater04   0.1990948      0.2820545\n",
      "\n",
      "with conditional variances for “rater” \n"
     ]
    },
    {
     "data": {
      "image/png": "[encoded data removed]",
      "text/plain": [
       "Plot with title “Regression estimates”"
      ]
     },
     "metadata": {
      "image/png": {
       "height": 420,
       "width": 420
      }
     },
     "output_type": "display_data"
    },
    {
     "data": {
      "image/png": "[encoded data removed]",
      "text/plain": [
       "Plot with title “Regression estimates”"
      ]
     },
     "metadata": {
      "image/png": {
       "height": 420,
       "width": 420
      }
     },
     "output_type": "display_data"
    }
   ],
   "source": [
    "n_sub <- 580 #nbr of subjects available in the dataset\n",
    "n_drop <- 50\n",
    "n_rater <- 4 #nbr of raters\n",
    "#Define for each rater the percentage of biased ratings\n",
    "perc_biased <- c(2,10,60,90)\n",
    "\n",
    "library(coefplot2)\n",
    "\n",
    "for (j in seq(0, n_sub, by=n_drop)){\n",
    "    df <- simulate_data(n_sub-j, n_sub, n_rater, perc_biased, file=sprintf(\"SimulatedData/SimulatedDefacedRatings_%.2fMissing.Rda\",j/n_sub*100))\n",
    "    \n",
    "    library(lme4)\n",
    "    fm1 <- lmer(as.numeric(ratings) ~ defaced + (defaced | rater), data=df, na.action=na.omit, REML = TRUE)\n",
    "    \n",
    "    print(sprintf(\"_______________%.02f missing values__________\", j*100/n_sub))\n",
    "    print(summary(fm1)) \n",
    "    print(ranef(fm1))\n",
    "    \n",
    "    ## Visualize fixed effect regression coefficients\n",
    "    coefplot2(fm1)\n",
    "}"
   ]
  },
  {
   "cell_type": "markdown",
   "id": "e98644d8",
   "metadata": {},
   "source": [
    "### What does na.omit do ?"
   ]
  },
  {
   "cell_type": "code",
   "execution_count": 3,
   "id": "7cd88a7f",
   "metadata": {},
   "outputs": [
    {
     "data": {
      "text/html": [
       "<table class=\"dataframe\">\n",
       "<caption>A matrix: 1 × 2 of type dbl</caption>\n",
       "<tbody>\n",
       "\t<tr><td>4</td><td>4</td></tr>\n",
       "</tbody>\n",
       "</table>\n"
      ],
      "text/latex": [
       "A matrix: 1 × 2 of type dbl\n",
       "\\begin{tabular}{ll}\n",
       "\t 4 & 4\\\\\n",
       "\\end{tabular}\n"
      ],
      "text/markdown": [
       "\n",
       "A matrix: 1 × 2 of type dbl\n",
       "\n",
       "| 4 | 4 |\n",
       "\n"
      ],
      "text/plain": [
       "     [,1] [,2]\n",
       "[1,] 4    4   "
      ]
     },
     "metadata": {},
     "output_type": "display_data"
    }
   ],
   "source": [
    "test <- matrix(,nrow=3 ,ncol=2)\n",
    "test[1,2] <- 3\n",
    "test[2,1] <- 4\n",
    "test[2,2] <- 4\n",
    "test[3,2] <- 6\n",
    "\n",
    "na.exclude(test)"
   ]
  },
  {
   "cell_type": "markdown",
   "id": "a3beea74",
   "metadata": {},
   "source": [
    "It discards a dataframe row when one value is missing."
   ]
  }
 ],
 "metadata": {
  "kernelspec": {
   "display_name": "R",
   "language": "R",
   "name": "ir"
  },
  "language_info": {
   "codemirror_mode": "r",
   "file_extension": ".r",
   "mimetype": "text/x-r-source",
   "name": "R",
   "pygments_lexer": "r",
   "version": "4.2.0"
  }
 },
 "nbformat": 4,
 "nbformat_minor": 5
}
