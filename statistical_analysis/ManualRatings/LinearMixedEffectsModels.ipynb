{
 "cells": [
  {
   "cell_type": "markdown",
   "id": "4912ec5e",
   "metadata": {},
   "source": [
    "# Defacing pre-registration - Statistical analysis in R"
   ]
  },
  {
   "cell_type": "markdown",
   "id": "89eded59",
   "metadata": {},
   "source": [
    "## Function to simulate data with missing values"
   ]
  },
  {
   "cell_type": "code",
   "execution_count": 1,
   "id": "e4de3a78",
   "metadata": {},
   "outputs": [],
   "source": [
    "source(\"simulate_data.R\")"
   ]
  },
  {
   "cell_type": "markdown",
   "id": "2917dcb6",
   "metadata": {},
   "source": [
    "Simulate ratings"
   ]
  },
  {
   "cell_type": "code",
   "execution_count": 2,
   "id": "f6dd13b2",
   "metadata": {
    "scrolled": false
   },
   "outputs": [
    {
     "data": {
      "text/html": [
       "<table class=\"dataframe\">\n",
       "<caption>A data.frame: 1480 × 4</caption>\n",
       "<thead>\n",
       "\t<tr><th scope=col>sub</th><th scope=col>defaced</th><th scope=col>rater</th><th scope=col>ratings</th></tr>\n",
       "\t<tr><th scope=col>&lt;int&gt;</th><th scope=col>&lt;fct&gt;</th><th scope=col>&lt;fct&gt;</th><th scope=col>&lt;dbl&gt;</th></tr>\n",
       "</thead>\n",
       "<tbody>\n",
       "\t<tr><td> 1</td><td>original</td><td>rater01</td><td>3</td></tr>\n",
       "\t<tr><td> 1</td><td>defaced </td><td>rater01</td><td>4</td></tr>\n",
       "\t<tr><td> 2</td><td>original</td><td>rater01</td><td>3</td></tr>\n",
       "\t<tr><td> 2</td><td>defaced </td><td>rater01</td><td>3</td></tr>\n",
       "\t<tr><td> 3</td><td>original</td><td>rater01</td><td>1</td></tr>\n",
       "\t<tr><td> 3</td><td>defaced </td><td>rater01</td><td>2</td></tr>\n",
       "\t<tr><td> 4</td><td>original</td><td>rater01</td><td>3</td></tr>\n",
       "\t<tr><td> 4</td><td>defaced </td><td>rater01</td><td>3</td></tr>\n",
       "\t<tr><td> 5</td><td>original</td><td>rater01</td><td>3</td></tr>\n",
       "\t<tr><td> 5</td><td>defaced </td><td>rater01</td><td>3</td></tr>\n",
       "\t<tr><td> 6</td><td>original</td><td>rater01</td><td>2</td></tr>\n",
       "\t<tr><td> 6</td><td>defaced </td><td>rater01</td><td>2</td></tr>\n",
       "\t<tr><td> 7</td><td>original</td><td>rater01</td><td>3</td></tr>\n",
       "\t<tr><td> 7</td><td>defaced </td><td>rater01</td><td>3</td></tr>\n",
       "\t<tr><td> 8</td><td>original</td><td>rater01</td><td>1</td></tr>\n",
       "\t<tr><td> 8</td><td>defaced </td><td>rater01</td><td>1</td></tr>\n",
       "\t<tr><td> 9</td><td>original</td><td>rater01</td><td>4</td></tr>\n",
       "\t<tr><td> 9</td><td>defaced </td><td>rater01</td><td>4</td></tr>\n",
       "\t<tr><td>10</td><td>original</td><td>rater01</td><td>3</td></tr>\n",
       "\t<tr><td>10</td><td>defaced </td><td>rater01</td><td>3</td></tr>\n",
       "\t<tr><td>11</td><td>original</td><td>rater01</td><td>1</td></tr>\n",
       "\t<tr><td>11</td><td>defaced </td><td>rater01</td><td>1</td></tr>\n",
       "\t<tr><td>12</td><td>original</td><td>rater01</td><td>2</td></tr>\n",
       "\t<tr><td>12</td><td>defaced </td><td>rater01</td><td>3</td></tr>\n",
       "\t<tr><td>13</td><td>original</td><td>rater01</td><td>1</td></tr>\n",
       "\t<tr><td>13</td><td>defaced </td><td>rater01</td><td>1</td></tr>\n",
       "\t<tr><td>14</td><td>original</td><td>rater01</td><td>3</td></tr>\n",
       "\t<tr><td>14</td><td>defaced </td><td>rater01</td><td>4</td></tr>\n",
       "\t<tr><td>15</td><td>original</td><td>rater01</td><td>3</td></tr>\n",
       "\t<tr><td>15</td><td>defaced </td><td>rater01</td><td>3</td></tr>\n",
       "\t<tr><td>⋮</td><td>⋮</td><td>⋮</td><td>⋮</td></tr>\n",
       "\t<tr><td>171</td><td>original</td><td>rater04</td><td>3</td></tr>\n",
       "\t<tr><td>171</td><td>defaced </td><td>rater04</td><td>4</td></tr>\n",
       "\t<tr><td>172</td><td>original</td><td>rater04</td><td>4</td></tr>\n",
       "\t<tr><td>172</td><td>defaced </td><td>rater04</td><td>4</td></tr>\n",
       "\t<tr><td>173</td><td>original</td><td>rater04</td><td>2</td></tr>\n",
       "\t<tr><td>173</td><td>defaced </td><td>rater04</td><td>2</td></tr>\n",
       "\t<tr><td>174</td><td>original</td><td>rater04</td><td>1</td></tr>\n",
       "\t<tr><td>174</td><td>defaced </td><td>rater04</td><td>1</td></tr>\n",
       "\t<tr><td>175</td><td>original</td><td>rater04</td><td>2</td></tr>\n",
       "\t<tr><td>175</td><td>defaced </td><td>rater04</td><td>3</td></tr>\n",
       "\t<tr><td>176</td><td>original</td><td>rater04</td><td>1</td></tr>\n",
       "\t<tr><td>176</td><td>defaced </td><td>rater04</td><td>1</td></tr>\n",
       "\t<tr><td>177</td><td>original</td><td>rater04</td><td>2</td></tr>\n",
       "\t<tr><td>177</td><td>defaced </td><td>rater04</td><td>3</td></tr>\n",
       "\t<tr><td>178</td><td>original</td><td>rater04</td><td>2</td></tr>\n",
       "\t<tr><td>178</td><td>defaced </td><td>rater04</td><td>2</td></tr>\n",
       "\t<tr><td>179</td><td>original</td><td>rater04</td><td>4</td></tr>\n",
       "\t<tr><td>179</td><td>defaced </td><td>rater04</td><td>4</td></tr>\n",
       "\t<tr><td>180</td><td>original</td><td>rater04</td><td>4</td></tr>\n",
       "\t<tr><td>180</td><td>defaced </td><td>rater04</td><td>4</td></tr>\n",
       "\t<tr><td>181</td><td>original</td><td>rater04</td><td>4</td></tr>\n",
       "\t<tr><td>181</td><td>defaced </td><td>rater04</td><td>4</td></tr>\n",
       "\t<tr><td>182</td><td>original</td><td>rater04</td><td>4</td></tr>\n",
       "\t<tr><td>182</td><td>defaced </td><td>rater04</td><td>4</td></tr>\n",
       "\t<tr><td>183</td><td>original</td><td>rater04</td><td>2</td></tr>\n",
       "\t<tr><td>183</td><td>defaced </td><td>rater04</td><td>3</td></tr>\n",
       "\t<tr><td>184</td><td>original</td><td>rater04</td><td>1</td></tr>\n",
       "\t<tr><td>184</td><td>defaced </td><td>rater04</td><td>1</td></tr>\n",
       "\t<tr><td>185</td><td>original</td><td>rater04</td><td>4</td></tr>\n",
       "\t<tr><td>185</td><td>defaced </td><td>rater04</td><td>4</td></tr>\n",
       "</tbody>\n",
       "</table>\n"
      ],
      "text/latex": [
       "A data.frame: 1480 × 4\n",
       "\\begin{tabular}{llll}\n",
       " sub & defaced & rater & ratings\\\\\n",
       " <int> & <fct> & <fct> & <dbl>\\\\\n",
       "\\hline\n",
       "\t  1 & original & rater01 & 3\\\\\n",
       "\t  1 & defaced  & rater01 & 4\\\\\n",
       "\t  2 & original & rater01 & 3\\\\\n",
       "\t  2 & defaced  & rater01 & 3\\\\\n",
       "\t  3 & original & rater01 & 1\\\\\n",
       "\t  3 & defaced  & rater01 & 2\\\\\n",
       "\t  4 & original & rater01 & 3\\\\\n",
       "\t  4 & defaced  & rater01 & 3\\\\\n",
       "\t  5 & original & rater01 & 3\\\\\n",
       "\t  5 & defaced  & rater01 & 3\\\\\n",
       "\t  6 & original & rater01 & 2\\\\\n",
       "\t  6 & defaced  & rater01 & 2\\\\\n",
       "\t  7 & original & rater01 & 3\\\\\n",
       "\t  7 & defaced  & rater01 & 3\\\\\n",
       "\t  8 & original & rater01 & 1\\\\\n",
       "\t  8 & defaced  & rater01 & 1\\\\\n",
       "\t  9 & original & rater01 & 4\\\\\n",
       "\t  9 & defaced  & rater01 & 4\\\\\n",
       "\t 10 & original & rater01 & 3\\\\\n",
       "\t 10 & defaced  & rater01 & 3\\\\\n",
       "\t 11 & original & rater01 & 1\\\\\n",
       "\t 11 & defaced  & rater01 & 1\\\\\n",
       "\t 12 & original & rater01 & 2\\\\\n",
       "\t 12 & defaced  & rater01 & 3\\\\\n",
       "\t 13 & original & rater01 & 1\\\\\n",
       "\t 13 & defaced  & rater01 & 1\\\\\n",
       "\t 14 & original & rater01 & 3\\\\\n",
       "\t 14 & defaced  & rater01 & 4\\\\\n",
       "\t 15 & original & rater01 & 3\\\\\n",
       "\t 15 & defaced  & rater01 & 3\\\\\n",
       "\t ⋮ & ⋮ & ⋮ & ⋮\\\\\n",
       "\t 171 & original & rater04 & 3\\\\\n",
       "\t 171 & defaced  & rater04 & 4\\\\\n",
       "\t 172 & original & rater04 & 4\\\\\n",
       "\t 172 & defaced  & rater04 & 4\\\\\n",
       "\t 173 & original & rater04 & 2\\\\\n",
       "\t 173 & defaced  & rater04 & 2\\\\\n",
       "\t 174 & original & rater04 & 1\\\\\n",
       "\t 174 & defaced  & rater04 & 1\\\\\n",
       "\t 175 & original & rater04 & 2\\\\\n",
       "\t 175 & defaced  & rater04 & 3\\\\\n",
       "\t 176 & original & rater04 & 1\\\\\n",
       "\t 176 & defaced  & rater04 & 1\\\\\n",
       "\t 177 & original & rater04 & 2\\\\\n",
       "\t 177 & defaced  & rater04 & 3\\\\\n",
       "\t 178 & original & rater04 & 2\\\\\n",
       "\t 178 & defaced  & rater04 & 2\\\\\n",
       "\t 179 & original & rater04 & 4\\\\\n",
       "\t 179 & defaced  & rater04 & 4\\\\\n",
       "\t 180 & original & rater04 & 4\\\\\n",
       "\t 180 & defaced  & rater04 & 4\\\\\n",
       "\t 181 & original & rater04 & 4\\\\\n",
       "\t 181 & defaced  & rater04 & 4\\\\\n",
       "\t 182 & original & rater04 & 4\\\\\n",
       "\t 182 & defaced  & rater04 & 4\\\\\n",
       "\t 183 & original & rater04 & 2\\\\\n",
       "\t 183 & defaced  & rater04 & 3\\\\\n",
       "\t 184 & original & rater04 & 1\\\\\n",
       "\t 184 & defaced  & rater04 & 1\\\\\n",
       "\t 185 & original & rater04 & 4\\\\\n",
       "\t 185 & defaced  & rater04 & 4\\\\\n",
       "\\end{tabular}\n"
      ],
      "text/markdown": [
       "\n",
       "A data.frame: 1480 × 4\n",
       "\n",
       "| sub &lt;int&gt; | defaced &lt;fct&gt; | rater &lt;fct&gt; | ratings &lt;dbl&gt; |\n",
       "|---|---|---|---|\n",
       "|  1 | original | rater01 | 3 |\n",
       "|  1 | defaced  | rater01 | 4 |\n",
       "|  2 | original | rater01 | 3 |\n",
       "|  2 | defaced  | rater01 | 3 |\n",
       "|  3 | original | rater01 | 1 |\n",
       "|  3 | defaced  | rater01 | 2 |\n",
       "|  4 | original | rater01 | 3 |\n",
       "|  4 | defaced  | rater01 | 3 |\n",
       "|  5 | original | rater01 | 3 |\n",
       "|  5 | defaced  | rater01 | 3 |\n",
       "|  6 | original | rater01 | 2 |\n",
       "|  6 | defaced  | rater01 | 2 |\n",
       "|  7 | original | rater01 | 3 |\n",
       "|  7 | defaced  | rater01 | 3 |\n",
       "|  8 | original | rater01 | 1 |\n",
       "|  8 | defaced  | rater01 | 1 |\n",
       "|  9 | original | rater01 | 4 |\n",
       "|  9 | defaced  | rater01 | 4 |\n",
       "| 10 | original | rater01 | 3 |\n",
       "| 10 | defaced  | rater01 | 3 |\n",
       "| 11 | original | rater01 | 1 |\n",
       "| 11 | defaced  | rater01 | 1 |\n",
       "| 12 | original | rater01 | 2 |\n",
       "| 12 | defaced  | rater01 | 3 |\n",
       "| 13 | original | rater01 | 1 |\n",
       "| 13 | defaced  | rater01 | 1 |\n",
       "| 14 | original | rater01 | 3 |\n",
       "| 14 | defaced  | rater01 | 4 |\n",
       "| 15 | original | rater01 | 3 |\n",
       "| 15 | defaced  | rater01 | 3 |\n",
       "| ⋮ | ⋮ | ⋮ | ⋮ |\n",
       "| 171 | original | rater04 | 3 |\n",
       "| 171 | defaced  | rater04 | 4 |\n",
       "| 172 | original | rater04 | 4 |\n",
       "| 172 | defaced  | rater04 | 4 |\n",
       "| 173 | original | rater04 | 2 |\n",
       "| 173 | defaced  | rater04 | 2 |\n",
       "| 174 | original | rater04 | 1 |\n",
       "| 174 | defaced  | rater04 | 1 |\n",
       "| 175 | original | rater04 | 2 |\n",
       "| 175 | defaced  | rater04 | 3 |\n",
       "| 176 | original | rater04 | 1 |\n",
       "| 176 | defaced  | rater04 | 1 |\n",
       "| 177 | original | rater04 | 2 |\n",
       "| 177 | defaced  | rater04 | 3 |\n",
       "| 178 | original | rater04 | 2 |\n",
       "| 178 | defaced  | rater04 | 2 |\n",
       "| 179 | original | rater04 | 4 |\n",
       "| 179 | defaced  | rater04 | 4 |\n",
       "| 180 | original | rater04 | 4 |\n",
       "| 180 | defaced  | rater04 | 4 |\n",
       "| 181 | original | rater04 | 4 |\n",
       "| 181 | defaced  | rater04 | 4 |\n",
       "| 182 | original | rater04 | 4 |\n",
       "| 182 | defaced  | rater04 | 4 |\n",
       "| 183 | original | rater04 | 2 |\n",
       "| 183 | defaced  | rater04 | 3 |\n",
       "| 184 | original | rater04 | 1 |\n",
       "| 184 | defaced  | rater04 | 1 |\n",
       "| 185 | original | rater04 | 4 |\n",
       "| 185 | defaced  | rater04 | 4 |\n",
       "\n"
      ],
      "text/plain": [
       "     sub defaced  rater   ratings\n",
       "1     1  original rater01 3      \n",
       "2     1  defaced  rater01 4      \n",
       "3     2  original rater01 3      \n",
       "4     2  defaced  rater01 3      \n",
       "5     3  original rater01 1      \n",
       "6     3  defaced  rater01 2      \n",
       "7     4  original rater01 3      \n",
       "8     4  defaced  rater01 3      \n",
       "9     5  original rater01 3      \n",
       "10    5  defaced  rater01 3      \n",
       "11    6  original rater01 2      \n",
       "12    6  defaced  rater01 2      \n",
       "13    7  original rater01 3      \n",
       "14    7  defaced  rater01 3      \n",
       "15    8  original rater01 1      \n",
       "16    8  defaced  rater01 1      \n",
       "17    9  original rater01 4      \n",
       "18    9  defaced  rater01 4      \n",
       "19   10  original rater01 3      \n",
       "20   10  defaced  rater01 3      \n",
       "21   11  original rater01 1      \n",
       "22   11  defaced  rater01 1      \n",
       "23   12  original rater01 2      \n",
       "24   12  defaced  rater01 3      \n",
       "25   13  original rater01 1      \n",
       "26   13  defaced  rater01 1      \n",
       "27   14  original rater01 3      \n",
       "28   14  defaced  rater01 4      \n",
       "29   15  original rater01 3      \n",
       "30   15  defaced  rater01 3      \n",
       "⋮    ⋮   ⋮        ⋮       ⋮      \n",
       "1451 171 original rater04 3      \n",
       "1452 171 defaced  rater04 4      \n",
       "1453 172 original rater04 4      \n",
       "1454 172 defaced  rater04 4      \n",
       "1455 173 original rater04 2      \n",
       "1456 173 defaced  rater04 2      \n",
       "1457 174 original rater04 1      \n",
       "1458 174 defaced  rater04 1      \n",
       "1459 175 original rater04 2      \n",
       "1460 175 defaced  rater04 3      \n",
       "1461 176 original rater04 1      \n",
       "1462 176 defaced  rater04 1      \n",
       "1463 177 original rater04 2      \n",
       "1464 177 defaced  rater04 3      \n",
       "1465 178 original rater04 2      \n",
       "1466 178 defaced  rater04 2      \n",
       "1467 179 original rater04 4      \n",
       "1468 179 defaced  rater04 4      \n",
       "1469 180 original rater04 4      \n",
       "1470 180 defaced  rater04 4      \n",
       "1471 181 original rater04 4      \n",
       "1472 181 defaced  rater04 4      \n",
       "1473 182 original rater04 4      \n",
       "1474 182 defaced  rater04 4      \n",
       "1475 183 original rater04 2      \n",
       "1476 183 defaced  rater04 3      \n",
       "1477 184 original rater04 1      \n",
       "1478 184 defaced  rater04 1      \n",
       "1479 185 original rater04 4      \n",
       "1480 185 defaced  rater04 4      "
      ]
     },
     "metadata": {},
     "output_type": "display_data"
    }
   ],
   "source": [
    "n_sub <- 185 #nbr of subjects available in the dataset\n",
    "n_rated <- 185\n",
    "n_rater <- 4 #nbr of raters\n",
    "#Define for each rater the percentage of biased ratings\n",
    "perc_biased <- c(20,40,50,60)\n",
    "ratings_range <- 1:4\n",
    "bias <- 1\n",
    "\n",
    "df <- simulate_data(n_rated, n_sub, n_rater, perc_biased, ratings_range=ratings_range, bias=bias)\n",
    "df$ratings <- as.numeric(df$ratings)\n",
    "df"
   ]
  },
  {
   "cell_type": "markdown",
   "id": "664aa7c8",
   "metadata": {},
   "source": [
    "## Exploration of the data"
   ]
  },
  {
   "cell_type": "markdown",
   "id": "f1a2e1df",
   "metadata": {},
   "source": [
    "### Do we need to model the random effect of the raters?"
   ]
  },
  {
   "cell_type": "markdown",
   "id": "86092366",
   "metadata": {},
   "source": [
    "We use an interaction plot to figure if an interaction between the defacing status and the rater is present. If the lines are not parallel, an interaction exists. Plot construction based on https://stattrek.com/multiple-regression/interaction."
   ]
  },
  {
   "cell_type": "code",
   "execution_count": 3,
   "id": "6ac4086b",
   "metadata": {
    "scrolled": false
   },
   "outputs": [
    {
     "data": {
      "image/png": "[encoded data removed]",
      "text/plain": [
       "Plot with title “Defaced * rater”"
      ]
     },
     "metadata": {
      "image/png": {
       "height": 420,
       "width": 420
      }
     },
     "output_type": "display_data"
    }
   ],
   "source": [
    "#Compute mean rating for each rater and each condition\n",
    "mean_defaced = c()\n",
    "mean_original = c()\n",
    "for (i in 1:n_rater){\n",
    "    df_small_defaced <- subset(df, defaced == 'defaced' & rater == sprintf('rater%02d', i))\n",
    "    df_small_original <- subset(df, defaced == 'original' & rater == sprintf('rater%02d', i))\n",
    "    mean_defaced[i] <- mean(as.numeric(df_small_defaced$ratings))\n",
    "    mean_original[i] <- mean(as.numeric(df_small_original$ratings))\n",
    "}\n",
    "\n",
    "#Interaction plot\n",
    "plot(c(0,1), c(mean_original[i], mean_defaced[i]),\n",
    "    ylab=\"Mean rating\",\n",
    "    xlab=\"Defaced status\",\n",
    "    main ='Defaced * rater',\n",
    "    ylim = c(2.4,3.3),\n",
    "    type=\"o\",\n",
    "    col=\"blue\")\n",
    "for (i in 2:n_rater){ \n",
    "    lines(c(0,1), c(mean_original[i], mean_defaced[i]), type='o')\n",
    "}"
   ]
  },
  {
   "cell_type": "markdown",
   "id": "e84e6fda",
   "metadata": {},
   "source": [
    "In the plot above, one line represents the evolution of the mean rating before and after defacing for one rater. The lines are not parallel, so we have to model the random effect of the raters. This can be interpreted as different raters are differently biased by the defacing process."
   ]
  },
  {
   "cell_type": "markdown",
   "id": "8fac4d55",
   "metadata": {},
   "source": [
    "## Linear mixed-effects models"
   ]
  },
  {
   "cell_type": "markdown",
   "id": "8a2d2b4e",
   "metadata": {},
   "source": [
    "We will test if including the defacing factor as fixed effect improves the model fit using a likelihood-ratio test."
   ]
  },
  {
   "cell_type": "code",
   "execution_count": 4,
   "id": "810d5bd4",
   "metadata": {},
   "outputs": [
    {
     "name": "stderr",
     "output_type": "stream",
     "text": [
      "Loading required package: Matrix\n",
      "\n"
     ]
    },
    {
     "data": {
      "text/plain": [
       "Linear mixed model fit by REML ['lmerMod']\n",
       "Formula: as.numeric(ratings) ~ (1 | rater)\n",
       "   Data: df\n",
       "\n",
       "REML criterion at convergence: 4512.5\n",
       "\n",
       "Scaled residuals: \n",
       "    Min      1Q  Median      3Q     Max \n",
       "-1.5579 -0.6559  0.2461  1.1482  1.2723 \n",
       "\n",
       "Random effects:\n",
       " Groups   Name        Variance Std.Dev.\n",
       " rater    (Intercept) 0.005441 0.07376 \n",
       " Residual             1.229043 1.10862 \n",
       "Number of obs: 1480, groups:  rater, 4\n",
       "\n",
       "Fixed effects:\n",
       "            Estimate Std. Error t value\n",
       "(Intercept)   2.6520     0.0468   56.66"
      ]
     },
     "metadata": {},
     "output_type": "display_data"
    },
    {
     "data": {
      "text/plain": [
       "Linear mixed model fit by REML ['lmerMod']\n",
       "Formula: as.numeric(ratings) ~ defaced + (1 | rater)\n",
       "   Data: df\n",
       "\n",
       "REML criterion at convergence: 4485.7\n",
       "\n",
       "Scaled residuals: \n",
       "    Min      1Q  Median      3Q     Max \n",
       "-1.7191 -0.7477  0.1635  1.0746  1.4305 \n",
       "\n",
       "Random effects:\n",
       " Groups   Name        Variance Std.Dev.\n",
       " rater    (Intercept) 0.005507 0.07421 \n",
       " Residual             1.204579 1.09753 \n",
       "Number of obs: 1480, groups:  rater, 4\n",
       "\n",
       "Fixed effects:\n",
       "               Estimate Std. Error t value\n",
       "(Intercept)     2.49324    0.05481  45.486\n",
       "defaceddefaced  0.31757    0.05706   5.566\n",
       "\n",
       "Correlation of Fixed Effects:\n",
       "            (Intr)\n",
       "defaceddfcd -0.520"
      ]
     },
     "metadata": {},
     "output_type": "display_data"
    },
    {
     "data": {
      "text/plain": [
       "$rater\n",
       "         (Intercept)\n",
       "rater01 -0.063270567\n",
       "rater02 -0.022505638\n",
       "rater03  0.076009607\n",
       "rater04  0.009766598\n",
       "\n",
       "with conditional variances for “rater” "
      ]
     },
     "metadata": {},
     "output_type": "display_data"
    },
    {
     "name": "stderr",
     "output_type": "stream",
     "text": [
      "refitting model(s) with ML (instead of REML)\n",
      "\n"
     ]
    },
    {
     "data": {
      "text/html": [
       "<table class=\"dataframe\">\n",
       "<caption>A anova: 2 × 8</caption>\n",
       "<thead>\n",
       "\t<tr><th></th><th scope=col>npar</th><th scope=col>AIC</th><th scope=col>BIC</th><th scope=col>logLik</th><th scope=col>deviance</th><th scope=col>Chisq</th><th scope=col>Df</th><th scope=col>Pr(&gt;Chisq)</th></tr>\n",
       "\t<tr><th></th><th scope=col>&lt;dbl&gt;</th><th scope=col>&lt;dbl&gt;</th><th scope=col>&lt;dbl&gt;</th><th scope=col>&lt;dbl&gt;</th><th scope=col>&lt;dbl&gt;</th><th scope=col>&lt;dbl&gt;</th><th scope=col>&lt;dbl&gt;</th><th scope=col>&lt;dbl&gt;</th></tr>\n",
       "</thead>\n",
       "<tbody>\n",
       "\t<tr><th scope=row>fm0</th><td>3</td><td>4514.016</td><td>4529.916</td><td>-2254.008</td><td>4508.016</td><td>      NA</td><td>NA</td><td>          NA</td></tr>\n",
       "\t<tr><th scope=row>fm1</th><td>4</td><td>4485.339</td><td>4506.539</td><td>-2238.670</td><td>4477.339</td><td>30.67695</td><td> 1</td><td>3.047633e-08</td></tr>\n",
       "</tbody>\n",
       "</table>\n"
      ],
      "text/latex": [
       "A anova: 2 × 8\n",
       "\\begin{tabular}{r|llllllll}\n",
       "  & npar & AIC & BIC & logLik & deviance & Chisq & Df & Pr(>Chisq)\\\\\n",
       "  & <dbl> & <dbl> & <dbl> & <dbl> & <dbl> & <dbl> & <dbl> & <dbl>\\\\\n",
       "\\hline\n",
       "\tfm0 & 3 & 4514.016 & 4529.916 & -2254.008 & 4508.016 &       NA & NA &           NA\\\\\n",
       "\tfm1 & 4 & 4485.339 & 4506.539 & -2238.670 & 4477.339 & 30.67695 &  1 & 3.047633e-08\\\\\n",
       "\\end{tabular}\n"
      ],
      "text/markdown": [
       "\n",
       "A anova: 2 × 8\n",
       "\n",
       "| <!--/--> | npar &lt;dbl&gt; | AIC &lt;dbl&gt; | BIC &lt;dbl&gt; | logLik &lt;dbl&gt; | deviance &lt;dbl&gt; | Chisq &lt;dbl&gt; | Df &lt;dbl&gt; | Pr(&gt;Chisq) &lt;dbl&gt; |\n",
       "|---|---|---|---|---|---|---|---|---|\n",
       "| fm0 | 3 | 4514.016 | 4529.916 | -2254.008 | 4508.016 |       NA | NA |           NA |\n",
       "| fm1 | 4 | 4485.339 | 4506.539 | -2238.670 | 4477.339 | 30.67695 |  1 | 3.047633e-08 |\n",
       "\n"
      ],
      "text/plain": [
       "    npar AIC      BIC      logLik    deviance Chisq    Df Pr(>Chisq)  \n",
       "fm0 3    4514.016 4529.916 -2254.008 4508.016       NA NA           NA\n",
       "fm1 4    4485.339 4506.539 -2238.670 4477.339 30.67695  1 3.047633e-08"
      ]
     },
     "metadata": {},
     "output_type": "display_data"
    }
   ],
   "source": [
    "## Fit model without defaced as fixed effect\n",
    "library(lme4)\n",
    "fm0 <- lmer(as.numeric(ratings) ~ (1 | rater), data=df)\n",
    "summary(fm0)\n",
    "\n",
    "## Fit model with defaced as fixed effect\n",
    "library(lme4)\n",
    "fm1 <- lmer(as.numeric(ratings) ~ defaced + (1 | rater), data=df)\n",
    "summary(fm1)\n",
    "ranef(fm1)\n",
    "\n",
    "#Likelihood-ratio test\n",
    "anova(fm0, fm1)"
   ]
  },
  {
   "cell_type": "markdown",
   "id": "d7d033d2",
   "metadata": {},
   "source": [
    "The p-value for the likelihood-ratio test is significant (3e-8) meaning that defacing influence on the manual ratings is significant."
   ]
  }
 ],
 "metadata": {
  "kernelspec": {
   "display_name": "R",
   "language": "R",
   "name": "ir"
  },
  "language_info": {
   "codemirror_mode": "r",
   "file_extension": ".r",
   "mimetype": "text/x-r-source",
   "name": "R",
   "pygments_lexer": "r",
   "version": "4.2.0"
  }
 },
 "nbformat": 4,
 "nbformat_minor": 5
}
