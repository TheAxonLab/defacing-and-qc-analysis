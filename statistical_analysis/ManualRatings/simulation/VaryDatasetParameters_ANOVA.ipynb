{
 "cells": [
  {
   "cell_type": "markdown",
   "id": "1b93c1ac",
   "metadata": {},
   "source": [
    "# Defacing pre-registration - Statistical analysis in R"
   ]
  },
  {
   "cell_type": "markdown",
   "id": "ebc8ccef",
   "metadata": {},
   "source": [
    "In this notebook, we vary the dataset parameters (i.e number of subjects, raters and image rated by raters) to determine the minimum number of ratings we need to detect a significant effect."
   ]
  },
  {
   "cell_type": "markdown",
   "id": "80a88d03",
   "metadata": {},
   "source": [
    "## Function to simulate data with missing values"
   ]
  },
  {
   "cell_type": "code",
   "execution_count": null,
   "id": "d875514f",
   "metadata": {
    "vscode": {
     "languageId": "r"
    }
   },
   "outputs": [],
   "source": [
    "source(\"../../../data/simulate_data.R\")"
   ]
  },
  {
   "cell_type": "markdown",
   "id": "8a1d6014",
   "metadata": {},
   "source": [
    "## Starting model"
   ]
  },
  {
   "cell_type": "code",
   "execution_count": null,
   "id": "d2674fa7",
   "metadata": {
    "vscode": {
     "languageId": "r"
    }
   },
   "outputs": [],
   "source": [
    "n_sub <- 580 #nbr of subjects available in the dataset\n",
    "n_drop <- 100\n",
    "n_rater <- 4 #nbr of raters\n",
    "mean <- 20\n",
    "sd <- 10\n",
    "#Define for each rater the percentage of biased ratings\n",
    "perc_biased <- c(20,40,50,60)\n",
    "bias <- 10\n",
    "\n",
    "for (j in seq(0, n_sub, by=n_drop)){\n",
    "    print(sprintf(\"_______________%.02f missing values__________\", j*100/n_sub))\n",
    "\n",
    "    df <- simulate_normal_data(n_sub-j, n_sub, n_rater, perc_biased, mean=mean, sd=sd, bias=bias)\n",
    "    df$ratings <- as.numeric(df$ratings)\n",
    "\n",
    "    library(rstatix)\n",
    "    suppressWarnings(res.aov <- anova_test(data = df, dv = ratings, wid = sub, within = c(defaced, rater)))\n",
    "    print(get_anova_table(res.aov))\n",
    "}"
   ]
  },
  {
   "cell_type": "markdown",
   "id": "d64717de",
   "metadata": {},
   "source": [
    "## Only subset of full data"
   ]
  },
  {
   "cell_type": "code",
   "execution_count": null,
   "id": "dd0e5419",
   "metadata": {
    "vscode": {
     "languageId": "r"
    }
   },
   "outputs": [],
   "source": [
    "n_sub <- 130 #nbr of subjects available in the dataset\n",
    "n_drop <- 30\n",
    "n_rater <- 4 #nbr of raters\n",
    "mean <- 20\n",
    "sd <- 10\n",
    "#Define for each rater the percentage of biased ratings\n",
    "perc_biased <- c(20,40,50,60)\n",
    "bias <- 10\n",
    "\n",
    "for (j in seq(0, n_sub, by=n_drop)){\n",
    "    print(sprintf(\"_______________%.02f missing values__________\", j*100/n_sub))\n",
    "\n",
    "    df <- simulate_normal_data(n_sub-j, n_sub, n_rater, perc_biased, mean=mean, sd=sd, bias=bias)\n",
    "    df$ratings <- as.numeric(df$ratings)\n",
    "\n",
    "    library(rstatix)\n",
    "    suppressWarnings(res.aov <- anova_test(data = df, dv = ratings, wid = sub, within = c(defaced, rater)))\n",
    "    print(get_anova_table(res.aov))\n",
    "}"
   ]
  },
  {
   "cell_type": "markdown",
   "id": "978a4b3f",
   "metadata": {},
   "source": [
    "## Vary number of raters"
   ]
  },
  {
   "cell_type": "code",
   "execution_count": null,
   "id": "92ab733c",
   "metadata": {
    "vscode": {
     "languageId": "r"
    }
   },
   "outputs": [],
   "source": [
    "n_sub <- 580 #nbr of subjects available in the dataset\n",
    "n_drop <- 30\n",
    "n_rater <- 3 #nbr of raters\n",
    "mean <- 20\n",
    "sd <- 10\n",
    "#Define for each rater the percentage of biased ratings\n",
    "perc_biased <- c(20,40,50,60)\n",
    "bias <- 10\n",
    "\n",
    "for (j in seq(0, n_sub, by=n_drop)){\n",
    "    print(sprintf(\"_______________%.02f missing values__________\", j*100/n_sub))\n",
    "\n",
    "    df <- simulate_normal_data(n_sub-j, n_sub, n_rater, perc_biased, mean=mean, sd=sd, bias=bias)\n",
    "    df$ratings <- as.numeric(df$ratings)\n",
    "\n",
    "    library(rstatix)\n",
    "    suppressWarnings(res.aov <- anova_test(data = df, dv = ratings, wid = sub, within = c(defaced, rater)))\n",
    "    print(get_anova_table(res.aov))\n",
    "}"
   ]
  }
 ],
 "metadata": {
  "kernelspec": {
   "display_name": "R",
   "language": "R",
   "name": "ir"
  },
  "language_info": {
   "codemirror_mode": "r",
   "file_extension": ".r",
   "mimetype": "text/x-r-source",
   "name": "R",
   "pygments_lexer": "r",
   "version": "4.4.0"
  }
 },
 "nbformat": 4,
 "nbformat_minor": 5
}
