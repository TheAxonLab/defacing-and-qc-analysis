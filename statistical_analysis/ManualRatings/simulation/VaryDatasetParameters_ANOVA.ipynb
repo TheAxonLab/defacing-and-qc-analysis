{
 "cells": [
  {
   "cell_type": "markdown",
   "id": "1b93c1ac",
   "metadata": {},
   "source": [
    "# Defacing pre-registration - Statistical analysis in R"
   ]
  },
  {
   "cell_type": "markdown",
   "id": "ebc8ccef",
   "metadata": {},
   "source": [
    "In this notebook, we vary the dataset parameters (i.e number of subjects, raters and image rated by raters) to determine the minimum number of ratings we need to detect a significant effect."
   ]
  },
  {
   "cell_type": "markdown",
   "id": "80a88d03",
   "metadata": {},
   "source": [
    "## Function to simulate data with missing values"
   ]
  },
  {
   "cell_type": "code",
   "execution_count": 1,
   "id": "d875514f",
   "metadata": {
    "vscode": {
     "languageId": "r"
    }
   },
   "outputs": [],
   "source": [
    "source(\"simulate_data.R\")"
   ]
  },
  {
   "cell_type": "markdown",
   "id": "8a1d6014",
   "metadata": {},
   "source": [
    "## Starting model"
   ]
  },
  {
   "cell_type": "code",
   "execution_count": 7,
   "id": "d2674fa7",
   "metadata": {
    "vscode": {
     "languageId": "r"
    }
   },
   "outputs": [
    {
     "name": "stdout",
     "output_type": "stream",
     "text": [
      "[1] \"_______________0.00 missing values__________\"\n",
      "ANOVA Table (type III tests)\n",
      "\n",
      "         Effect  DFn     DFd        F         p p<.05   ges\n",
      "1       defaced 1.00  579.00 1874.932 1.02e-183     * 0.039\n",
      "2         rater 3.00 1737.00    8.918  7.29e-06     * 0.011\n",
      "3 defaced:rater 2.95 1709.79   74.979  6.20e-45     * 0.005\n",
      "[1] \"_______________17.24 missing values__________\"\n",
      "ANOVA Table (type III tests)\n",
      "\n",
      "         Effect DFn DFd       F        p p<.05   ges\n",
      "1       defaced   1 263 922.270 5.79e-88     * 0.041\n",
      "2         rater   3 789   4.164 6.00e-03     * 0.011\n",
      "3 defaced:rater   3 789  26.585 2.18e-16     * 0.004\n",
      "[1] \"_______________34.48 missing values__________\"\n",
      "ANOVA Table (type III tests)\n",
      "\n",
      "         Effect DFn DFd       F        p p<.05   ges\n",
      "1       defaced   1  90 294.151 4.15e-30     * 0.040\n",
      "2         rater   3 270   2.204 8.80e-02       0.016\n",
      "3 defaced:rater   3 270  12.541 1.06e-07     * 0.006\n",
      "[1] \"_______________51.72 missing values__________\"\n",
      "ANOVA Table (type III tests)\n",
      "\n",
      "         Effect  DFn    DFd       F        p p<.05   ges\n",
      "1       defaced 1.00  34.00 121.592 9.01e-13     * 0.033\n",
      "2         rater 3.00 102.00   0.214 8.87e-01       0.004\n",
      "3 defaced:rater 2.44  82.81   5.640 3.00e-03     * 0.007\n",
      "[1] \"_______________68.97 missing values__________\"\n",
      "ANOVA Table (type III tests)\n",
      "\n",
      "         Effect DFn DFd      F     p p<.05   ges\n",
      "1       defaced   1   4 42.667 0.003     * 0.024\n",
      "2         rater   3  12  0.427 0.737       0.045\n",
      "3 defaced:rater   3  12  1.455 0.276       0.009\n",
      "[1] \"_______________86.21 missing values__________\"\n"
     ]
    },
    {
     "ename": "ERROR",
     "evalue": "Error in lm.fit(x, y, offset = offset, singular.ok = singular.ok, ...): 0 (non-NA) cases\n",
     "output_type": "error",
     "traceback": [
      "Error in lm.fit(x, y, offset = offset, singular.ok = singular.ok, ...): 0 (non-NA) cases\nTraceback:\n",
      "1. suppressWarnings(res.aov <- anova_test(data = df, dv = ratings, \n .     wid = sub, within = c(defaced, rater)))",
      "2. withCallingHandlers(expr, warning = function(w) if (inherits(w, \n .     classes)) tryInvokeRestart(\"muffleWarning\"))",
      "3. anova_test(data = df, dv = ratings, wid = sub, within = c(defaced, \n .     rater))",
      "4. .anova_test(data, .args = .args, effect.size = effect.size, error = error, \n .     observed = observed, detailed = detailed) %>% .append_anova_class()",
      "5. .append_anova_class(.)",
      "6. .anova_test(data, .args = .args, effect.size = effect.size, error = error, \n .     observed = observed, detailed = detailed)",
      "7. car_anova(.args)",
      "8. factorial_design(data = .args$data, dv = .args$dv, wid = .args$wid, \n .     between = .args$between, within = .args$within, covariate = .args$covariate)",
      "9. stats::lm(lm_formula, data)",
      "10. lm.fit(x, y, offset = offset, singular.ok = singular.ok, ...)",
      "11. stop(\"0 (non-NA) cases\")"
     ]
    }
   ],
   "source": [
    "n_sub <- 580 #nbr of subjects available in the dataset\n",
    "n_drop <- 100\n",
    "n_rater <- 4 #nbr of raters\n",
    "mean <- 20\n",
    "sd <- 10\n",
    "#Define for each rater the percentage of biased ratings\n",
    "perc_biased <- c(20,40,50,60)\n",
    "bias <- 10\n",
    "\n",
    "for (j in seq(0, n_sub, by=n_drop)){\n",
    "    print(sprintf(\"_______________%.02f missing values__________\", j*100/n_sub))\n",
    "\n",
    "    df <- simulate_normal_data(n_sub-j, n_sub, n_rater, perc_biased, mean=mean, sd=sd, bias=bias)\n",
    "    df$ratings <- as.numeric(df$ratings)\n",
    "\n",
    "    library(rstatix)\n",
    "    suppressWarnings(res.aov <- anova_test(data = df, dv = ratings, wid = sub, within = c(defaced, rater)))\n",
    "    print(get_anova_table(res.aov))\n",
    "}"
   ]
  },
  {
   "cell_type": "markdown",
   "id": "d64717de",
   "metadata": {},
   "source": [
    "## Only subset of full data"
   ]
  },
  {
   "cell_type": "code",
   "execution_count": 9,
   "id": "dd0e5419",
   "metadata": {
    "vscode": {
     "languageId": "r"
    }
   },
   "outputs": [
    {
     "name": "stdout",
     "output_type": "stream",
     "text": [
      "[1] \"_______________0.00 missing values__________\"\n",
      "ANOVA Table (type III tests)\n",
      "\n",
      "         Effect DFn DFd       F        p p<.05   ges\n",
      "1       defaced   1 129 312.525 2.84e-36     * 0.031\n",
      "2         rater   2 258   4.884 8.00e-03     * 0.024\n",
      "3 defaced:rater   2 258  11.430 1.75e-05     * 0.004\n",
      "[1] \"_______________23.08 missing values__________\"\n",
      "ANOVA Table (type III tests)\n",
      "\n",
      "         Effect DFn DFd       F        p p<.05   ges\n",
      "1       defaced   1  58 165.259 1.27e-18     * 0.039\n",
      "2         rater   2 116  10.007 9.79e-05     * 0.095\n",
      "3 defaced:rater   2 116   5.011 8.00e-03     * 0.004\n",
      "[1] \"_______________46.15 missing values__________\"\n",
      "ANOVA Table (type III tests)\n",
      "\n",
      "         Effect DFn DFd      F        p p<.05   ges\n",
      "1       defaced   1  24 48.456 3.38e-07     * 0.053\n",
      "2         rater   2  48 15.314 7.18e-06     * 0.259\n",
      "3 defaced:rater   2  48  2.794 7.10e-02       0.005\n",
      "[1] \"_______________69.23 missing values__________\"\n",
      "ANOVA Table (type III tests)\n",
      "\n",
      "         Effect DFn DFd        F     p p<.05      ges\n",
      "1       defaced   1   1 9.00e+00 0.205       4.90e-02\n",
      "2         rater   2   2 2.02e-01 0.832       1.09e-01\n",
      "3 defaced:rater   2   2 3.16e-30 1.000       1.44e-31\n",
      "[1] \"_______________92.31 missing values__________\"\n",
      "ANOVA Table (type III tests)\n",
      "\n",
      "         Effect DFn DFd   F   p p<.05 ges\n",
      "1       defaced   1   0 NaN NaN    NA   1\n",
      "2         rater   2   0 NaN NaN    NA   1\n",
      "3 defaced:rater   2   0 NaN NaN    NA   1\n"
     ]
    }
   ],
   "source": [
    "n_sub <- 130 #nbr of subjects available in the dataset\n",
    "n_drop <- 30\n",
    "n_rater <- 4 #nbr of raters\n",
    "mean <- 20\n",
    "sd <- 10\n",
    "#Define for each rater the percentage of biased ratings\n",
    "perc_biased <- c(20,40,50,60)\n",
    "bias <- 10\n",
    "\n",
    "for (j in seq(0, n_sub, by=n_drop)){\n",
    "    print(sprintf(\"_______________%.02f missing values__________\", j*100/n_sub))\n",
    "\n",
    "    df <- simulate_normal_data(n_sub-j, n_sub, n_rater, perc_biased, mean=mean, sd=sd, bias=bias)\n",
    "    df$ratings <- as.numeric(df$ratings)\n",
    "\n",
    "    library(rstatix)\n",
    "    suppressWarnings(res.aov <- anova_test(data = df, dv = ratings, wid = sub, within = c(defaced, rater)))\n",
    "    print(get_anova_table(res.aov))\n",
    "}"
   ]
  },
  {
   "cell_type": "markdown",
   "id": "978a4b3f",
   "metadata": {},
   "source": [
    "## Vary number of raters"
   ]
  },
  {
   "cell_type": "code",
   "execution_count": 12,
   "id": "92ab733c",
   "metadata": {
    "vscode": {
     "languageId": "r"
    }
   },
   "outputs": [
    {
     "name": "stdout",
     "output_type": "stream",
     "text": [
      "[1] \"_______________0.00 missing values__________\"\n",
      "ANOVA Table (type III tests)\n",
      "\n",
      "         Effect DFn DFd       F        p p<.05   ges\n",
      "1       defaced   1 129 312.525 2.84e-36     * 0.031\n",
      "2         rater   2 258   4.884 8.00e-03     * 0.024\n",
      "3 defaced:rater   2 258  11.430 1.75e-05     * 0.004\n",
      "[1] \"_______________23.08 missing values__________\"\n",
      "ANOVA Table (type III tests)\n",
      "\n",
      "         Effect DFn DFd       F        p p<.05   ges\n",
      "1       defaced   1  58 165.259 1.27e-18     * 0.039\n",
      "2         rater   2 116  10.007 9.79e-05     * 0.095\n",
      "3 defaced:rater   2 116   5.011 8.00e-03     * 0.004\n",
      "[1] \"_______________46.15 missing values__________\"\n",
      "ANOVA Table (type III tests)\n",
      "\n",
      "         Effect DFn DFd      F        p p<.05   ges\n",
      "1       defaced   1  24 48.456 3.38e-07     * 0.053\n",
      "2         rater   2  48 15.314 7.18e-06     * 0.259\n",
      "3 defaced:rater   2  48  2.794 7.10e-02       0.005\n",
      "[1] \"_______________69.23 missing values__________\"\n",
      "ANOVA Table (type III tests)\n",
      "\n",
      "         Effect DFn DFd        F     p p<.05      ges\n",
      "1       defaced   1   1 9.00e+00 0.205       4.90e-02\n",
      "2         rater   2   2 2.02e-01 0.832       1.09e-01\n",
      "3 defaced:rater   2   2 3.16e-30 1.000       1.44e-31\n",
      "[1] \"_______________92.31 missing values__________\"\n",
      "ANOVA Table (type III tests)\n",
      "\n",
      "         Effect DFn DFd   F   p p<.05 ges\n",
      "1       defaced   1   0 NaN NaN    NA   1\n",
      "2         rater   2   0 NaN NaN    NA   1\n",
      "3 defaced:rater   2   0 NaN NaN    NA   1\n"
     ]
    }
   ],
   "source": [
    "n_sub <- 580 #nbr of subjects available in the dataset\n",
    "n_drop <- 30\n",
    "n_rater <- 3 #nbr of raters\n",
    "mean <- 20\n",
    "sd <- 10\n",
    "#Define for each rater the percentage of biased ratings\n",
    "perc_biased <- c(20,40,50,60)\n",
    "bias <- 10\n",
    "\n",
    "for (j in seq(0, n_sub, by=n_drop)){\n",
    "    print(sprintf(\"_______________%.02f missing values__________\", j*100/n_sub))\n",
    "\n",
    "    df <- simulate_normal_data(n_sub-j, n_sub, n_rater, perc_biased, mean=mean, sd=sd, bias=bias)\n",
    "    df$ratings <- as.numeric(df$ratings)\n",
    "\n",
    "    library(rstatix)\n",
    "    suppressWarnings(res.aov <- anova_test(data = df, dv = ratings, wid = sub, within = c(defaced, rater)))\n",
    "    print(get_anova_table(res.aov))\n",
    "}"
   ]
  }
 ],
 "metadata": {
  "kernelspec": {
   "display_name": "R",
   "language": "R",
   "name": "ir"
  },
  "language_info": {
   "codemirror_mode": "r",
   "file_extension": ".r",
   "mimetype": "text/x-r-source",
   "name": "R",
   "pygments_lexer": "r",
   "version": "4.2.0"
  }
 },
 "nbformat": 4,
 "nbformat_minor": 5
}
