{
 "cells": [
  {
   "cell_type": "markdown",
   "id": "e0f93bbf",
   "metadata": {},
   "source": [
    "# Defacing pre-registration - Statistical analysis in R"
   ]
  },
  {
   "cell_type": "markdown",
   "id": "254464db",
   "metadata": {},
   "source": [
    "## Function to simulate data with missing values"
   ]
  },
  {
   "cell_type": "code",
   "execution_count": 21,
   "id": "0858036e",
   "metadata": {},
   "outputs": [],
   "source": [
    "source(\"simulate_data.R\")"
   ]
  },
  {
   "cell_type": "markdown",
   "id": "8f266a07",
   "metadata": {},
   "source": [
    "Simulate normally-distributed ratings"
   ]
  },
  {
   "cell_type": "code",
   "execution_count": 22,
   "id": "2cd2527e",
   "metadata": {},
   "outputs": [
    {
     "data": {
      "text/html": [
       "<table class=\"dataframe\">\n",
       "<caption>A data.frame: 1480 × 4</caption>\n",
       "<thead>\n",
       "\t<tr><th scope=col>sub</th><th scope=col>defaced</th><th scope=col>rater</th><th scope=col>ratings</th></tr>\n",
       "\t<tr><th scope=col>&lt;int&gt;</th><th scope=col>&lt;fct&gt;</th><th scope=col>&lt;fct&gt;</th><th scope=col>&lt;dbl&gt;</th></tr>\n",
       "</thead>\n",
       "<tbody>\n",
       "\t<tr><td> 1</td><td>original</td><td>rater01</td><td>19</td></tr>\n",
       "\t<tr><td> 1</td><td>defaced </td><td>rater01</td><td>19</td></tr>\n",
       "\t<tr><td> 2</td><td>original</td><td>rater01</td><td>27</td></tr>\n",
       "\t<tr><td> 2</td><td>defaced </td><td>rater01</td><td>27</td></tr>\n",
       "\t<tr><td> 3</td><td>original</td><td>rater01</td><td>19</td></tr>\n",
       "\t<tr><td> 3</td><td>defaced </td><td>rater01</td><td>19</td></tr>\n",
       "\t<tr><td> 4</td><td>original</td><td>rater01</td><td>16</td></tr>\n",
       "\t<tr><td> 4</td><td>defaced </td><td>rater01</td><td>16</td></tr>\n",
       "\t<tr><td> 5</td><td>original</td><td>rater01</td><td>34</td></tr>\n",
       "\t<tr><td> 5</td><td>defaced </td><td>rater01</td><td>34</td></tr>\n",
       "\t<tr><td> 6</td><td>original</td><td>rater01</td><td>38</td></tr>\n",
       "\t<tr><td> 6</td><td>defaced </td><td>rater01</td><td>38</td></tr>\n",
       "\t<tr><td> 7</td><td>original</td><td>rater01</td><td>41</td></tr>\n",
       "\t<tr><td> 7</td><td>defaced </td><td>rater01</td><td>41</td></tr>\n",
       "\t<tr><td> 8</td><td>original</td><td>rater01</td><td>34</td></tr>\n",
       "\t<tr><td> 8</td><td>defaced </td><td>rater01</td><td>34</td></tr>\n",
       "\t<tr><td> 9</td><td>original</td><td>rater01</td><td>21</td></tr>\n",
       "\t<tr><td> 9</td><td>defaced </td><td>rater01</td><td>21</td></tr>\n",
       "\t<tr><td>10</td><td>original</td><td>rater01</td><td>30</td></tr>\n",
       "\t<tr><td>10</td><td>defaced </td><td>rater01</td><td>40</td></tr>\n",
       "\t<tr><td>11</td><td>original</td><td>rater01</td><td>22</td></tr>\n",
       "\t<tr><td>11</td><td>defaced </td><td>rater01</td><td>22</td></tr>\n",
       "\t<tr><td>12</td><td>original</td><td>rater01</td><td>39</td></tr>\n",
       "\t<tr><td>12</td><td>defaced </td><td>rater01</td><td>39</td></tr>\n",
       "\t<tr><td>13</td><td>original</td><td>rater01</td><td>32</td></tr>\n",
       "\t<tr><td>13</td><td>defaced </td><td>rater01</td><td>32</td></tr>\n",
       "\t<tr><td>14</td><td>original</td><td>rater01</td><td>11</td></tr>\n",
       "\t<tr><td>14</td><td>defaced </td><td>rater01</td><td>21</td></tr>\n",
       "\t<tr><td>15</td><td>original</td><td>rater01</td><td>26</td></tr>\n",
       "\t<tr><td>15</td><td>defaced </td><td>rater01</td><td>26</td></tr>\n",
       "\t<tr><td>⋮</td><td>⋮</td><td>⋮</td><td>⋮</td></tr>\n",
       "\t<tr><td>171</td><td>original</td><td>rater04</td><td>23</td></tr>\n",
       "\t<tr><td>171</td><td>defaced </td><td>rater04</td><td>23</td></tr>\n",
       "\t<tr><td>172</td><td>original</td><td>rater04</td><td>33</td></tr>\n",
       "\t<tr><td>172</td><td>defaced </td><td>rater04</td><td>33</td></tr>\n",
       "\t<tr><td>173</td><td>original</td><td>rater04</td><td>31</td></tr>\n",
       "\t<tr><td>173</td><td>defaced </td><td>rater04</td><td>31</td></tr>\n",
       "\t<tr><td>174</td><td>original</td><td>rater04</td><td>31</td></tr>\n",
       "\t<tr><td>174</td><td>defaced </td><td>rater04</td><td>41</td></tr>\n",
       "\t<tr><td>175</td><td>original</td><td>rater04</td><td>18</td></tr>\n",
       "\t<tr><td>175</td><td>defaced </td><td>rater04</td><td>28</td></tr>\n",
       "\t<tr><td>176</td><td>original</td><td>rater04</td><td>39</td></tr>\n",
       "\t<tr><td>176</td><td>defaced </td><td>rater04</td><td>39</td></tr>\n",
       "\t<tr><td>177</td><td>original</td><td>rater04</td><td>19</td></tr>\n",
       "\t<tr><td>177</td><td>defaced </td><td>rater04</td><td>29</td></tr>\n",
       "\t<tr><td>178</td><td>original</td><td>rater04</td><td>28</td></tr>\n",
       "\t<tr><td>178</td><td>defaced </td><td>rater04</td><td>28</td></tr>\n",
       "\t<tr><td>179</td><td>original</td><td>rater04</td><td>37</td></tr>\n",
       "\t<tr><td>179</td><td>defaced </td><td>rater04</td><td>37</td></tr>\n",
       "\t<tr><td>180</td><td>original</td><td>rater04</td><td>26</td></tr>\n",
       "\t<tr><td>180</td><td>defaced </td><td>rater04</td><td>36</td></tr>\n",
       "\t<tr><td>181</td><td>original</td><td>rater04</td><td>24</td></tr>\n",
       "\t<tr><td>181</td><td>defaced </td><td>rater04</td><td>24</td></tr>\n",
       "\t<tr><td>182</td><td>original</td><td>rater04</td><td>42</td></tr>\n",
       "\t<tr><td>182</td><td>defaced </td><td>rater04</td><td>42</td></tr>\n",
       "\t<tr><td>183</td><td>original</td><td>rater04</td><td>25</td></tr>\n",
       "\t<tr><td>183</td><td>defaced </td><td>rater04</td><td>25</td></tr>\n",
       "\t<tr><td>184</td><td>original</td><td>rater04</td><td>31</td></tr>\n",
       "\t<tr><td>184</td><td>defaced </td><td>rater04</td><td>41</td></tr>\n",
       "\t<tr><td>185</td><td>original</td><td>rater04</td><td>22</td></tr>\n",
       "\t<tr><td>185</td><td>defaced </td><td>rater04</td><td>32</td></tr>\n",
       "</tbody>\n",
       "</table>\n"
      ],
      "text/latex": [
       "A data.frame: 1480 × 4\n",
       "\\begin{tabular}{llll}\n",
       " sub & defaced & rater & ratings\\\\\n",
       " <int> & <fct> & <fct> & <dbl>\\\\\n",
       "\\hline\n",
       "\t  1 & original & rater01 & 19\\\\\n",
       "\t  1 & defaced  & rater01 & 19\\\\\n",
       "\t  2 & original & rater01 & 27\\\\\n",
       "\t  2 & defaced  & rater01 & 27\\\\\n",
       "\t  3 & original & rater01 & 19\\\\\n",
       "\t  3 & defaced  & rater01 & 19\\\\\n",
       "\t  4 & original & rater01 & 16\\\\\n",
       "\t  4 & defaced  & rater01 & 16\\\\\n",
       "\t  5 & original & rater01 & 34\\\\\n",
       "\t  5 & defaced  & rater01 & 34\\\\\n",
       "\t  6 & original & rater01 & 38\\\\\n",
       "\t  6 & defaced  & rater01 & 38\\\\\n",
       "\t  7 & original & rater01 & 41\\\\\n",
       "\t  7 & defaced  & rater01 & 41\\\\\n",
       "\t  8 & original & rater01 & 34\\\\\n",
       "\t  8 & defaced  & rater01 & 34\\\\\n",
       "\t  9 & original & rater01 & 21\\\\\n",
       "\t  9 & defaced  & rater01 & 21\\\\\n",
       "\t 10 & original & rater01 & 30\\\\\n",
       "\t 10 & defaced  & rater01 & 40\\\\\n",
       "\t 11 & original & rater01 & 22\\\\\n",
       "\t 11 & defaced  & rater01 & 22\\\\\n",
       "\t 12 & original & rater01 & 39\\\\\n",
       "\t 12 & defaced  & rater01 & 39\\\\\n",
       "\t 13 & original & rater01 & 32\\\\\n",
       "\t 13 & defaced  & rater01 & 32\\\\\n",
       "\t 14 & original & rater01 & 11\\\\\n",
       "\t 14 & defaced  & rater01 & 21\\\\\n",
       "\t 15 & original & rater01 & 26\\\\\n",
       "\t 15 & defaced  & rater01 & 26\\\\\n",
       "\t ⋮ & ⋮ & ⋮ & ⋮\\\\\n",
       "\t 171 & original & rater04 & 23\\\\\n",
       "\t 171 & defaced  & rater04 & 23\\\\\n",
       "\t 172 & original & rater04 & 33\\\\\n",
       "\t 172 & defaced  & rater04 & 33\\\\\n",
       "\t 173 & original & rater04 & 31\\\\\n",
       "\t 173 & defaced  & rater04 & 31\\\\\n",
       "\t 174 & original & rater04 & 31\\\\\n",
       "\t 174 & defaced  & rater04 & 41\\\\\n",
       "\t 175 & original & rater04 & 18\\\\\n",
       "\t 175 & defaced  & rater04 & 28\\\\\n",
       "\t 176 & original & rater04 & 39\\\\\n",
       "\t 176 & defaced  & rater04 & 39\\\\\n",
       "\t 177 & original & rater04 & 19\\\\\n",
       "\t 177 & defaced  & rater04 & 29\\\\\n",
       "\t 178 & original & rater04 & 28\\\\\n",
       "\t 178 & defaced  & rater04 & 28\\\\\n",
       "\t 179 & original & rater04 & 37\\\\\n",
       "\t 179 & defaced  & rater04 & 37\\\\\n",
       "\t 180 & original & rater04 & 26\\\\\n",
       "\t 180 & defaced  & rater04 & 36\\\\\n",
       "\t 181 & original & rater04 & 24\\\\\n",
       "\t 181 & defaced  & rater04 & 24\\\\\n",
       "\t 182 & original & rater04 & 42\\\\\n",
       "\t 182 & defaced  & rater04 & 42\\\\\n",
       "\t 183 & original & rater04 & 25\\\\\n",
       "\t 183 & defaced  & rater04 & 25\\\\\n",
       "\t 184 & original & rater04 & 31\\\\\n",
       "\t 184 & defaced  & rater04 & 41\\\\\n",
       "\t 185 & original & rater04 & 22\\\\\n",
       "\t 185 & defaced  & rater04 & 32\\\\\n",
       "\\end{tabular}\n"
      ],
      "text/markdown": [
       "\n",
       "A data.frame: 1480 × 4\n",
       "\n",
       "| sub &lt;int&gt; | defaced &lt;fct&gt; | rater &lt;fct&gt; | ratings &lt;dbl&gt; |\n",
       "|---|---|---|---|\n",
       "|  1 | original | rater01 | 19 |\n",
       "|  1 | defaced  | rater01 | 19 |\n",
       "|  2 | original | rater01 | 27 |\n",
       "|  2 | defaced  | rater01 | 27 |\n",
       "|  3 | original | rater01 | 19 |\n",
       "|  3 | defaced  | rater01 | 19 |\n",
       "|  4 | original | rater01 | 16 |\n",
       "|  4 | defaced  | rater01 | 16 |\n",
       "|  5 | original | rater01 | 34 |\n",
       "|  5 | defaced  | rater01 | 34 |\n",
       "|  6 | original | rater01 | 38 |\n",
       "|  6 | defaced  | rater01 | 38 |\n",
       "|  7 | original | rater01 | 41 |\n",
       "|  7 | defaced  | rater01 | 41 |\n",
       "|  8 | original | rater01 | 34 |\n",
       "|  8 | defaced  | rater01 | 34 |\n",
       "|  9 | original | rater01 | 21 |\n",
       "|  9 | defaced  | rater01 | 21 |\n",
       "| 10 | original | rater01 | 30 |\n",
       "| 10 | defaced  | rater01 | 40 |\n",
       "| 11 | original | rater01 | 22 |\n",
       "| 11 | defaced  | rater01 | 22 |\n",
       "| 12 | original | rater01 | 39 |\n",
       "| 12 | defaced  | rater01 | 39 |\n",
       "| 13 | original | rater01 | 32 |\n",
       "| 13 | defaced  | rater01 | 32 |\n",
       "| 14 | original | rater01 | 11 |\n",
       "| 14 | defaced  | rater01 | 21 |\n",
       "| 15 | original | rater01 | 26 |\n",
       "| 15 | defaced  | rater01 | 26 |\n",
       "| ⋮ | ⋮ | ⋮ | ⋮ |\n",
       "| 171 | original | rater04 | 23 |\n",
       "| 171 | defaced  | rater04 | 23 |\n",
       "| 172 | original | rater04 | 33 |\n",
       "| 172 | defaced  | rater04 | 33 |\n",
       "| 173 | original | rater04 | 31 |\n",
       "| 173 | defaced  | rater04 | 31 |\n",
       "| 174 | original | rater04 | 31 |\n",
       "| 174 | defaced  | rater04 | 41 |\n",
       "| 175 | original | rater04 | 18 |\n",
       "| 175 | defaced  | rater04 | 28 |\n",
       "| 176 | original | rater04 | 39 |\n",
       "| 176 | defaced  | rater04 | 39 |\n",
       "| 177 | original | rater04 | 19 |\n",
       "| 177 | defaced  | rater04 | 29 |\n",
       "| 178 | original | rater04 | 28 |\n",
       "| 178 | defaced  | rater04 | 28 |\n",
       "| 179 | original | rater04 | 37 |\n",
       "| 179 | defaced  | rater04 | 37 |\n",
       "| 180 | original | rater04 | 26 |\n",
       "| 180 | defaced  | rater04 | 36 |\n",
       "| 181 | original | rater04 | 24 |\n",
       "| 181 | defaced  | rater04 | 24 |\n",
       "| 182 | original | rater04 | 42 |\n",
       "| 182 | defaced  | rater04 | 42 |\n",
       "| 183 | original | rater04 | 25 |\n",
       "| 183 | defaced  | rater04 | 25 |\n",
       "| 184 | original | rater04 | 31 |\n",
       "| 184 | defaced  | rater04 | 41 |\n",
       "| 185 | original | rater04 | 22 |\n",
       "| 185 | defaced  | rater04 | 32 |\n",
       "\n"
      ],
      "text/plain": [
       "     sub defaced  rater   ratings\n",
       "1     1  original rater01 19     \n",
       "2     1  defaced  rater01 19     \n",
       "3     2  original rater01 27     \n",
       "4     2  defaced  rater01 27     \n",
       "5     3  original rater01 19     \n",
       "6     3  defaced  rater01 19     \n",
       "7     4  original rater01 16     \n",
       "8     4  defaced  rater01 16     \n",
       "9     5  original rater01 34     \n",
       "10    5  defaced  rater01 34     \n",
       "11    6  original rater01 38     \n",
       "12    6  defaced  rater01 38     \n",
       "13    7  original rater01 41     \n",
       "14    7  defaced  rater01 41     \n",
       "15    8  original rater01 34     \n",
       "16    8  defaced  rater01 34     \n",
       "17    9  original rater01 21     \n",
       "18    9  defaced  rater01 21     \n",
       "19   10  original rater01 30     \n",
       "20   10  defaced  rater01 40     \n",
       "21   11  original rater01 22     \n",
       "22   11  defaced  rater01 22     \n",
       "23   12  original rater01 39     \n",
       "24   12  defaced  rater01 39     \n",
       "25   13  original rater01 32     \n",
       "26   13  defaced  rater01 32     \n",
       "27   14  original rater01 11     \n",
       "28   14  defaced  rater01 21     \n",
       "29   15  original rater01 26     \n",
       "30   15  defaced  rater01 26     \n",
       "⋮    ⋮   ⋮        ⋮       ⋮      \n",
       "1451 171 original rater04 23     \n",
       "1452 171 defaced  rater04 23     \n",
       "1453 172 original rater04 33     \n",
       "1454 172 defaced  rater04 33     \n",
       "1455 173 original rater04 31     \n",
       "1456 173 defaced  rater04 31     \n",
       "1457 174 original rater04 31     \n",
       "1458 174 defaced  rater04 41     \n",
       "1459 175 original rater04 18     \n",
       "1460 175 defaced  rater04 28     \n",
       "1461 176 original rater04 39     \n",
       "1462 176 defaced  rater04 39     \n",
       "1463 177 original rater04 19     \n",
       "1464 177 defaced  rater04 29     \n",
       "1465 178 original rater04 28     \n",
       "1466 178 defaced  rater04 28     \n",
       "1467 179 original rater04 37     \n",
       "1468 179 defaced  rater04 37     \n",
       "1469 180 original rater04 26     \n",
       "1470 180 defaced  rater04 36     \n",
       "1471 181 original rater04 24     \n",
       "1472 181 defaced  rater04 24     \n",
       "1473 182 original rater04 42     \n",
       "1474 182 defaced  rater04 42     \n",
       "1475 183 original rater04 25     \n",
       "1476 183 defaced  rater04 25     \n",
       "1477 184 original rater04 31     \n",
       "1478 184 defaced  rater04 41     \n",
       "1479 185 original rater04 22     \n",
       "1480 185 defaced  rater04 32     "
      ]
     },
     "metadata": {},
     "output_type": "display_data"
    }
   ],
   "source": [
    "n_sub <- 185 #nbr of subjects available in the dataset\n",
    "n_rated <- 185\n",
    "n_rater <- 4 #nbr of raters\n",
    "mean <- 20\n",
    "sd <- 10\n",
    "#Define for each rater the percentage of biased ratings\n",
    "perc_biased <- c(20,40,50,60)\n",
    "bias <- 10\n",
    "\n",
    "df <- simulate_normal_data(n_rated, n_sub, n_rater, perc_biased, mean=mean, sd=sd, bias=bias)\n",
    "df$ratings <- as.numeric(df$ratings)\n",
    "df"
   ]
  },
  {
   "cell_type": "markdown",
   "id": "247792e8",
   "metadata": {},
   "source": [
    "## repeated-measure ANOVA"
   ]
  },
  {
   "cell_type": "markdown",
   "id": "0bc257ed",
   "metadata": {},
   "source": [
    "### Check assumptions"
   ]
  },
  {
   "cell_type": "markdown",
   "id": "7e983f99",
   "metadata": {},
   "source": [
    "repeated-measure ANOVA makes the following three assumptions on the data :\n",
    "1. **No significant outlier** : By construction the ratings cannot leave the range we define, so this assumption is granted\n",
    "2. **Normality** : we will have many ratings so by the central theorem this assumption should be ok\n",
    "3. **Sphericity** : the variance of the differences between groups should be equal."
   ]
  },
  {
   "cell_type": "code",
   "execution_count": 23,
   "id": "69c69d14",
   "metadata": {},
   "outputs": [
    {
     "data": {
      "text/plain": [
       "\n",
       "\tShapiro-Wilk normality test\n",
       "\n",
       "data:  df$ratings\n",
       "W = 0.9952, p-value = 0.0001134\n"
      ]
     },
     "metadata": {},
     "output_type": "display_data"
    }
   ],
   "source": [
    "##Test for normality\n",
    "library(ggpubr)\n",
    "shapiro.test(df$ratings)"
   ]
  },
  {
   "cell_type": "markdown",
   "id": "44a2f0e4",
   "metadata": {},
   "source": [
    "If the data is normally distributed, p-values should be greater than 0.05"
   ]
  },
  {
   "cell_type": "code",
   "execution_count": 24,
   "id": "9f536d6a",
   "metadata": {
    "scrolled": false
   },
   "outputs": [
    {
     "data": {
      "image/png": "[encoded data removed]",
      "text/plain": [
       "plot without title"
      ]
     },
     "metadata": {
      "image/png": {
       "height": 420,
       "width": 420
      }
     },
     "output_type": "display_data"
    },
    {
     "data": {
      "image/png": "[encoded data removed]",
      "text/plain": [
       "plot without title"
      ]
     },
     "metadata": {
      "image/png": {
       "height": 420,
       "width": 420
      }
     },
     "output_type": "display_data"
    }
   ],
   "source": [
    "## Other test for normality\n",
    "ggqqplot(df, \"ratings\", facet.by = 'defaced')\n",
    "ggqqplot(df, \"ratings\", ggtheme = theme_bw()) +\n",
    "  facet_grid(defaced ~ rater, labeller = \"label_both\")"
   ]
  },
  {
   "cell_type": "markdown",
   "id": "b361756d",
   "metadata": {},
   "source": [
    "We can assume normality if the points fall along the reference line."
   ]
  },
  {
   "cell_type": "code",
   "execution_count": 25,
   "id": "79d0c7cd",
   "metadata": {
    "scrolled": false
   },
   "outputs": [
    {
     "data": {
      "text/html": [
       "<dl>\n",
       "\t<dt>$ANOVA</dt>\n",
       "\t\t<dd><table class=\"dataframe\">\n",
       "<caption>A data.frame: 3 × 7</caption>\n",
       "<thead>\n",
       "\t<tr><th scope=col>Effect</th><th scope=col>DFn</th><th scope=col>DFd</th><th scope=col>F</th><th scope=col>p</th><th scope=col>p&lt;.05</th><th scope=col>ges</th></tr>\n",
       "\t<tr><th scope=col>&lt;chr&gt;</th><th scope=col>&lt;dbl&gt;</th><th scope=col>&lt;dbl&gt;</th><th scope=col>&lt;dbl&gt;</th><th scope=col>&lt;dbl&gt;</th><th scope=col>&lt;chr&gt;</th><th scope=col>&lt;dbl&gt;</th></tr>\n",
       "</thead>\n",
       "<tbody>\n",
       "\t<tr><td>defaced      </td><td>1</td><td>184</td><td>530.324</td><td>4.34e-56</td><td>*</td><td>0.038</td></tr>\n",
       "\t<tr><td>rater        </td><td>3</td><td>552</td><td>  2.376</td><td>6.90e-02</td><td> </td><td>0.008</td></tr>\n",
       "\t<tr><td>defaced:rater</td><td>3</td><td>552</td><td> 23.304</td><td>3.24e-14</td><td>*</td><td>0.005</td></tr>\n",
       "</tbody>\n",
       "</table>\n",
       "</dd>\n",
       "\t<dt>$`Mauchly's Test for Sphericity`</dt>\n",
       "\t\t<dd><table class=\"dataframe\">\n",
       "<caption>A data.frame: 2 × 4</caption>\n",
       "<thead>\n",
       "\t<tr><th></th><th scope=col>Effect</th><th scope=col>W</th><th scope=col>p</th><th scope=col>p&lt;.05</th></tr>\n",
       "\t<tr><th></th><th scope=col>&lt;chr&gt;</th><th scope=col>&lt;dbl&gt;</th><th scope=col>&lt;dbl&gt;</th><th scope=col>&lt;chr&gt;</th></tr>\n",
       "</thead>\n",
       "<tbody>\n",
       "\t<tr><th scope=row>1</th><td>rater        </td><td>0.983</td><td>0.687</td><td> </td></tr>\n",
       "\t<tr><th scope=row>2</th><td>defaced:rater</td><td>0.936</td><td>0.035</td><td>*</td></tr>\n",
       "</tbody>\n",
       "</table>\n",
       "</dd>\n",
       "\t<dt>$`Sphericity Corrections`</dt>\n",
       "\t\t<dd><table class=\"dataframe\">\n",
       "<caption>A data.frame: 2 × 9</caption>\n",
       "<thead>\n",
       "\t<tr><th scope=col>Effect</th><th scope=col>GGe</th><th scope=col>DF[GG]</th><th scope=col>p[GG]</th><th scope=col>p[GG]&lt;.05</th><th scope=col>HFe</th><th scope=col>DF[HF]</th><th scope=col>p[HF]</th><th scope=col>p[HF]&lt;.05</th></tr>\n",
       "\t<tr><th scope=col>&lt;chr&gt;</th><th scope=col>&lt;dbl&gt;</th><th scope=col>&lt;chr&gt;</th><th scope=col>&lt;dbl&gt;</th><th scope=col>&lt;chr&gt;</th><th scope=col>&lt;dbl&gt;</th><th scope=col>&lt;chr&gt;</th><th scope=col>&lt;dbl&gt;</th><th scope=col>&lt;chr&gt;</th></tr>\n",
       "</thead>\n",
       "<tbody>\n",
       "\t<tr><td>rater        </td><td>0.989</td><td>2.97, 545.82</td><td>7.00e-02</td><td> </td><td>1.007</td><td>3.02, 555.74</td><td>6.9e-02</td><td> </td></tr>\n",
       "\t<tr><td>defaced:rater</td><td>0.959</td><td>2.88, 529.59</td><td>9.82e-14</td><td>*</td><td>0.976</td><td>2.93, 538.9 </td><td>6.2e-14</td><td>*</td></tr>\n",
       "</tbody>\n",
       "</table>\n",
       "</dd>\n",
       "</dl>\n"
      ],
      "text/latex": [
       "\\begin{description}\n",
       "\\item[\\$ANOVA] A data.frame: 3 × 7\n",
       "\\begin{tabular}{lllllll}\n",
       " Effect & DFn & DFd & F & p & p<.05 & ges\\\\\n",
       " <chr> & <dbl> & <dbl> & <dbl> & <dbl> & <chr> & <dbl>\\\\\n",
       "\\hline\n",
       "\t defaced       & 1 & 184 & 530.324 & 4.34e-56 & * & 0.038\\\\\n",
       "\t rater         & 3 & 552 &   2.376 & 6.90e-02 &   & 0.008\\\\\n",
       "\t defaced:rater & 3 & 552 &  23.304 & 3.24e-14 & * & 0.005\\\\\n",
       "\\end{tabular}\n",
       "\n",
       "\\item[\\$`Mauchly's Test for Sphericity`] A data.frame: 2 × 4\n",
       "\\begin{tabular}{r|llll}\n",
       "  & Effect & W & p & p<.05\\\\\n",
       "  & <chr> & <dbl> & <dbl> & <chr>\\\\\n",
       "\\hline\n",
       "\t1 & rater         & 0.983 & 0.687 &  \\\\\n",
       "\t2 & defaced:rater & 0.936 & 0.035 & *\\\\\n",
       "\\end{tabular}\n",
       "\n",
       "\\item[\\$`Sphericity Corrections`] A data.frame: 2 × 9\n",
       "\\begin{tabular}{lllllllll}\n",
       " Effect & GGe & DF{[}GG{]} & p{[}GG{]} & p{[}GG{]}<.05 & HFe & DF{[}HF{]} & p{[}HF{]} & p{[}HF{]}<.05\\\\\n",
       " <chr> & <dbl> & <chr> & <dbl> & <chr> & <dbl> & <chr> & <dbl> & <chr>\\\\\n",
       "\\hline\n",
       "\t rater         & 0.989 & 2.97, 545.82 & 7.00e-02 &   & 1.007 & 3.02, 555.74 & 6.9e-02 &  \\\\\n",
       "\t defaced:rater & 0.959 & 2.88, 529.59 & 9.82e-14 & * & 0.976 & 2.93, 538.9  & 6.2e-14 & *\\\\\n",
       "\\end{tabular}\n",
       "\n",
       "\\end{description}\n"
      ],
      "text/markdown": [
       "$ANOVA\n",
       ":   \n",
       "A data.frame: 3 × 7\n",
       "\n",
       "| Effect &lt;chr&gt; | DFn &lt;dbl&gt; | DFd &lt;dbl&gt; | F &lt;dbl&gt; | p &lt;dbl&gt; | p&lt;.05 &lt;chr&gt; | ges &lt;dbl&gt; |\n",
       "|---|---|---|---|---|---|---|\n",
       "| defaced       | 1 | 184 | 530.324 | 4.34e-56 | * | 0.038 |\n",
       "| rater         | 3 | 552 |   2.376 | 6.90e-02 | <!----> | 0.008 |\n",
       "| defaced:rater | 3 | 552 |  23.304 | 3.24e-14 | * | 0.005 |\n",
       "\n",
       "\n",
       "$`Mauchly's Test for Sphericity`\n",
       ":   \n",
       "A data.frame: 2 × 4\n",
       "\n",
       "| <!--/--> | Effect &lt;chr&gt; | W &lt;dbl&gt; | p &lt;dbl&gt; | p&lt;.05 &lt;chr&gt; |\n",
       "|---|---|---|---|---|\n",
       "| 1 | rater         | 0.983 | 0.687 | <!----> |\n",
       "| 2 | defaced:rater | 0.936 | 0.035 | * |\n",
       "\n",
       "\n",
       "$`Sphericity Corrections`\n",
       ":   \n",
       "A data.frame: 2 × 9\n",
       "\n",
       "| Effect &lt;chr&gt; | GGe &lt;dbl&gt; | DF[GG] &lt;chr&gt; | p[GG] &lt;dbl&gt; | p[GG]&lt;.05 &lt;chr&gt; | HFe &lt;dbl&gt; | DF[HF] &lt;chr&gt; | p[HF] &lt;dbl&gt; | p[HF]&lt;.05 &lt;chr&gt; |\n",
       "|---|---|---|---|---|---|---|---|---|\n",
       "| rater         | 0.989 | 2.97, 545.82 | 7.00e-02 | <!----> | 1.007 | 3.02, 555.74 | 6.9e-02 | <!----> |\n",
       "| defaced:rater | 0.959 | 2.88, 529.59 | 9.82e-14 | * | 0.976 | 2.93, 538.9  | 6.2e-14 | * |\n",
       "\n",
       "\n",
       "\n",
       "\n"
      ],
      "text/plain": [
       "ANOVA Table (type III tests)\n",
       "\n",
       "$ANOVA\n",
       "         Effect DFn DFd       F        p p<.05   ges\n",
       "1       defaced   1 184 530.324 4.34e-56     * 0.038\n",
       "2         rater   3 552   2.376 6.90e-02       0.008\n",
       "3 defaced:rater   3 552  23.304 3.24e-14     * 0.005\n",
       "\n",
       "$`Mauchly's Test for Sphericity`\n",
       "         Effect     W     p p<.05\n",
       "1         rater 0.983 0.687      \n",
       "2 defaced:rater 0.936 0.035     *\n",
       "\n",
       "$`Sphericity Corrections`\n",
       "         Effect   GGe       DF[GG]    p[GG] p[GG]<.05   HFe       DF[HF]\n",
       "1         rater 0.989 2.97, 545.82 7.00e-02           1.007 3.02, 555.74\n",
       "2 defaced:rater 0.959 2.88, 529.59 9.82e-14         * 0.976  2.93, 538.9\n",
       "    p[HF] p[HF]<.05\n",
       "1 6.9e-02          \n",
       "2 6.2e-14         *\n"
      ]
     },
     "metadata": {},
     "output_type": "display_data"
    }
   ],
   "source": [
    "## Test for sphericity\n",
    "library(rstatix)\n",
    "suppressWarnings(anova_test(data = df, dv = ratings, wid= sub, within = c(defaced, rater)))"
   ]
  },
  {
   "cell_type": "markdown",
   "id": "354ce05a",
   "metadata": {},
   "source": [
    "For the assumption of sphericity to be verified, the test should not reject the null hypothesis, which is that the variance between group is equal. If any assumption is violated, we will switch to the alternative analysis using linear mixed-effects models."
   ]
  },
  {
   "cell_type": "markdown",
   "id": "ef476ddc",
   "metadata": {},
   "source": [
    "### Run ANOVA"
   ]
  },
  {
   "cell_type": "code",
   "execution_count": 26,
   "id": "6aa66020",
   "metadata": {},
   "outputs": [
    {
     "data": {
      "text/html": [
       "<table class=\"dataframe\">\n",
       "<caption>A anova_test: 3 × 7</caption>\n",
       "<thead>\n",
       "\t<tr><th></th><th scope=col>Effect</th><th scope=col>DFn</th><th scope=col>DFd</th><th scope=col>F</th><th scope=col>p</th><th scope=col>p&lt;.05</th><th scope=col>ges</th></tr>\n",
       "\t<tr><th></th><th scope=col>&lt;chr&gt;</th><th scope=col>&lt;dbl&gt;</th><th scope=col>&lt;dbl&gt;</th><th scope=col>&lt;dbl&gt;</th><th scope=col>&lt;dbl&gt;</th><th scope=col>&lt;chr&gt;</th><th scope=col>&lt;dbl&gt;</th></tr>\n",
       "</thead>\n",
       "<tbody>\n",
       "\t<tr><th scope=row>1</th><td>defaced      </td><td>1.00</td><td>184.00</td><td>530.324</td><td>4.34e-56</td><td>*</td><td>0.038</td></tr>\n",
       "\t<tr><th scope=row>2</th><td>rater        </td><td>3.00</td><td>552.00</td><td>  2.376</td><td>6.90e-02</td><td> </td><td>0.008</td></tr>\n",
       "\t<tr><th scope=row>3</th><td>defaced:rater</td><td>2.88</td><td>529.59</td><td> 23.304</td><td>9.82e-14</td><td>*</td><td>0.005</td></tr>\n",
       "</tbody>\n",
       "</table>\n"
      ],
      "text/latex": [
       "A anova\\_test: 3 × 7\n",
       "\\begin{tabular}{r|lllllll}\n",
       "  & Effect & DFn & DFd & F & p & p<.05 & ges\\\\\n",
       "  & <chr> & <dbl> & <dbl> & <dbl> & <dbl> & <chr> & <dbl>\\\\\n",
       "\\hline\n",
       "\t1 & defaced       & 1.00 & 184.00 & 530.324 & 4.34e-56 & * & 0.038\\\\\n",
       "\t2 & rater         & 3.00 & 552.00 &   2.376 & 6.90e-02 &   & 0.008\\\\\n",
       "\t3 & defaced:rater & 2.88 & 529.59 &  23.304 & 9.82e-14 & * & 0.005\\\\\n",
       "\\end{tabular}\n"
      ],
      "text/markdown": [
       "\n",
       "A anova_test: 3 × 7\n",
       "\n",
       "| <!--/--> | Effect &lt;chr&gt; | DFn &lt;dbl&gt; | DFd &lt;dbl&gt; | F &lt;dbl&gt; | p &lt;dbl&gt; | p&lt;.05 &lt;chr&gt; | ges &lt;dbl&gt; |\n",
       "|---|---|---|---|---|---|---|---|\n",
       "| 1 | defaced       | 1.00 | 184.00 | 530.324 | 4.34e-56 | * | 0.038 |\n",
       "| 2 | rater         | 3.00 | 552.00 |   2.376 | 6.90e-02 | <!----> | 0.008 |\n",
       "| 3 | defaced:rater | 2.88 | 529.59 |  23.304 | 9.82e-14 | * | 0.005 |\n",
       "\n"
      ],
      "text/plain": [
       "  Effect        DFn  DFd    F       p        p<.05 ges  \n",
       "1 defaced       1.00 184.00 530.324 4.34e-56 *     0.038\n",
       "2 rater         3.00 552.00   2.376 6.90e-02       0.008\n",
       "3 defaced:rater 2.88 529.59  23.304 9.82e-14 *     0.005"
      ]
     },
     "metadata": {},
     "output_type": "display_data"
    }
   ],
   "source": [
    "suppressWarnings(res.aov <- anova_test(data = df, dv = ratings, wid = sub, within = c(defaced, rater)))\n",
    "get_anova_table(res.aov)"
   ]
  },
  {
   "cell_type": "markdown",
   "id": "c58fab1c",
   "metadata": {},
   "source": [
    "### Verify that the null hypothesis is not rejected if no bias has been introduced"
   ]
  },
  {
   "cell_type": "code",
   "execution_count": 27,
   "id": "0d97623f",
   "metadata": {},
   "outputs": [
    {
     "data": {
      "text/html": [
       "<table class=\"dataframe\">\n",
       "<caption>A anova_test: 3 × 7</caption>\n",
       "<thead>\n",
       "\t<tr><th></th><th scope=col>Effect</th><th scope=col>DFn</th><th scope=col>DFd</th><th scope=col>F</th><th scope=col>p</th><th scope=col>p&lt;.05</th><th scope=col>ges</th></tr>\n",
       "\t<tr><th></th><th scope=col>&lt;chr&gt;</th><th scope=col>&lt;dbl&gt;</th><th scope=col>&lt;dbl&gt;</th><th scope=col>&lt;dbl&gt;</th><th scope=col>&lt;dbl&gt;</th><th scope=col>&lt;chr&gt;</th><th scope=col>&lt;dbl&gt;</th></tr>\n",
       "</thead>\n",
       "<tbody>\n",
       "\t<tr><th scope=row>1</th><td>defaced      </td><td>1</td><td>184</td><td>78.645</td><td>6.41e-16</td><td>*</td><td>2.41e-05</td></tr>\n",
       "\t<tr><th scope=row>2</th><td>rater        </td><td>3</td><td>552</td><td> 1.660</td><td>1.75e-01</td><td> </td><td>7.00e-03</td></tr>\n",
       "\t<tr><th scope=row>3</th><td>defaced:rater</td><td>3</td><td>552</td><td> 0.015</td><td>9.97e-01</td><td> </td><td>1.44e-08</td></tr>\n",
       "</tbody>\n",
       "</table>\n"
      ],
      "text/latex": [
       "A anova\\_test: 3 × 7\n",
       "\\begin{tabular}{r|lllllll}\n",
       "  & Effect & DFn & DFd & F & p & p<.05 & ges\\\\\n",
       "  & <chr> & <dbl> & <dbl> & <dbl> & <dbl> & <chr> & <dbl>\\\\\n",
       "\\hline\n",
       "\t1 & defaced       & 1 & 184 & 78.645 & 6.41e-16 & * & 2.41e-05\\\\\n",
       "\t2 & rater         & 3 & 552 &  1.660 & 1.75e-01 &   & 7.00e-03\\\\\n",
       "\t3 & defaced:rater & 3 & 552 &  0.015 & 9.97e-01 &   & 1.44e-08\\\\\n",
       "\\end{tabular}\n"
      ],
      "text/markdown": [
       "\n",
       "A anova_test: 3 × 7\n",
       "\n",
       "| <!--/--> | Effect &lt;chr&gt; | DFn &lt;dbl&gt; | DFd &lt;dbl&gt; | F &lt;dbl&gt; | p &lt;dbl&gt; | p&lt;.05 &lt;chr&gt; | ges &lt;dbl&gt; |\n",
       "|---|---|---|---|---|---|---|---|\n",
       "| 1 | defaced       | 1 | 184 | 78.645 | 6.41e-16 | * | 2.41e-05 |\n",
       "| 2 | rater         | 3 | 552 |  1.660 | 1.75e-01 | <!----> | 7.00e-03 |\n",
       "| 3 | defaced:rater | 3 | 552 |  0.015 | 9.97e-01 | <!----> | 1.44e-08 |\n",
       "\n"
      ],
      "text/plain": [
       "  Effect        DFn DFd F      p        p<.05 ges     \n",
       "1 defaced       1   184 78.645 6.41e-16 *     2.41e-05\n",
       "2 rater         3   552  1.660 1.75e-01       7.00e-03\n",
       "3 defaced:rater 3   552  0.015 9.97e-01       1.44e-08"
      ]
     },
     "metadata": {},
     "output_type": "display_data"
    }
   ],
   "source": [
    "#Define for each rater the percentage of biased ratings\n",
    "perc_biased <- c(10,10,10,10)\n",
    "bias <- 1\n",
    "\n",
    "df_nobias <- simulate_normal_data(n_rated, n_sub, n_rater, perc_biased, mean=mean, sd=sd, bias=bias)\n",
    "df_nobias$ratings <- as.numeric(df_nobias$ratings)\n",
    "\n",
    "## Lmer should not find significant result\n",
    "suppressWarnings(res.aov <- anova_test(data = df_nobias, dv = ratings, wid = sub, within = c(defaced, rater)))\n",
    "get_anova_table(res.aov)"
   ]
  },
  {
   "cell_type": "markdown",
   "id": "73f35e0e",
   "metadata": {},
   "source": [
    "## Friedman test"
   ]
  },
  {
   "cell_type": "markdown",
   "id": "71924801",
   "metadata": {},
   "source": [
    "Non-parametric alternative to repeated-measure ANOVA."
   ]
  },
  {
   "cell_type": "code",
   "execution_count": 28,
   "id": "3e4978b5",
   "metadata": {},
   "outputs": [
    {
     "ename": "ERROR",
     "evalue": "Error in friedman.test.default(y = df$ratings, groups = factor(df$defaced), : not an unreplicated complete block design\n",
     "output_type": "error",
     "traceback": [
      "Error in friedman.test.default(y = df$ratings, groups = factor(df$defaced), : not an unreplicated complete block design\nTraceback:\n",
      "1. friedman.test(y = df$ratings, groups = factor(df$defaced), blocks = factor(df$sub))",
      "2. friedman.test.default(y = df$ratings, groups = factor(df$defaced), \n .     blocks = factor(df$sub))",
      "3. stop(\"not an unreplicated complete block design\")"
     ]
    }
   ],
   "source": [
    "friedman.test(y=df$ratings, groups=factor(df$defaced), blocks=factor(df$sub))"
   ]
  },
  {
   "cell_type": "markdown",
   "id": "8471d35e",
   "metadata": {},
   "source": [
    "Cannot use this function : An unreplicated complete block design has exactly 1 observation for each combination of the two grouping factors. But we have 4 observations of the combination defaced + sub 1 : rater01,02,03,04."
   ]
  }
 ],
 "metadata": {
  "kernelspec": {
   "display_name": "R",
   "language": "R",
   "name": "ir"
  },
  "language_info": {
   "codemirror_mode": "r",
   "file_extension": ".r",
   "mimetype": "text/x-r-source",
   "name": "R",
   "pygments_lexer": "r",
   "version": "4.2.0"
  }
 },
 "nbformat": 4,
 "nbformat_minor": 5
}
