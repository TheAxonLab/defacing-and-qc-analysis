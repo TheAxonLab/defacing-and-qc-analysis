{
 "cells": [
  {
   "cell_type": "markdown",
   "id": "e0f93bbf",
   "metadata": {},
   "source": [
    "# Defacing pre-registration - Statistical analysis in R"
   ]
  },
  {
   "cell_type": "markdown",
   "id": "254464db",
   "metadata": {},
   "source": [
    "## Function to simulate data with missing values"
   ]
  },
  {
   "cell_type": "code",
   "execution_count": 17,
   "id": "0858036e",
   "metadata": {},
   "outputs": [],
   "source": [
    "source(\"simulate_data.R\")"
   ]
  },
  {
   "cell_type": "markdown",
   "id": "8f266a07",
   "metadata": {},
   "source": [
    "Simulate normally-distributed ratings"
   ]
  },
  {
   "cell_type": "code",
   "execution_count": 18,
   "id": "2cd2527e",
   "metadata": {},
   "outputs": [
    {
     "data": {
      "text/html": [
       "<table class=\"dataframe\">\n",
       "<caption>A data.frame: 1040 × 4</caption>\n",
       "<thead>\n",
       "\t<tr><th scope=col>sub</th><th scope=col>defaced</th><th scope=col>rater</th><th scope=col>ratings</th></tr>\n",
       "\t<tr><th scope=col>&lt;int&gt;</th><th scope=col>&lt;fct&gt;</th><th scope=col>&lt;fct&gt;</th><th scope=col>&lt;dbl&gt;</th></tr>\n",
       "</thead>\n",
       "<tbody>\n",
       "\t<tr><td> 1</td><td>original</td><td>rater01</td><td>26</td></tr>\n",
       "\t<tr><td> 1</td><td>defaced </td><td>rater01</td><td>26</td></tr>\n",
       "\t<tr><td> 2</td><td>original</td><td>rater01</td><td>14</td></tr>\n",
       "\t<tr><td> 2</td><td>defaced </td><td>rater01</td><td>14</td></tr>\n",
       "\t<tr><td> 3</td><td>original</td><td>rater01</td><td>11</td></tr>\n",
       "\t<tr><td> 3</td><td>defaced </td><td>rater01</td><td>11</td></tr>\n",
       "\t<tr><td> 4</td><td>original</td><td>rater01</td><td>27</td></tr>\n",
       "\t<tr><td> 4</td><td>defaced </td><td>rater01</td><td>27</td></tr>\n",
       "\t<tr><td> 5</td><td>original</td><td>rater01</td><td>34</td></tr>\n",
       "\t<tr><td> 5</td><td>defaced </td><td>rater01</td><td>34</td></tr>\n",
       "\t<tr><td> 6</td><td>original</td><td>rater01</td><td>26</td></tr>\n",
       "\t<tr><td> 6</td><td>defaced </td><td>rater01</td><td>26</td></tr>\n",
       "\t<tr><td> 7</td><td>original</td><td>rater01</td><td>41</td></tr>\n",
       "\t<tr><td> 7</td><td>defaced </td><td>rater01</td><td>51</td></tr>\n",
       "\t<tr><td> 8</td><td>original</td><td>rater01</td><td>27</td></tr>\n",
       "\t<tr><td> 8</td><td>defaced </td><td>rater01</td><td>27</td></tr>\n",
       "\t<tr><td> 9</td><td>original</td><td>rater01</td><td>20</td></tr>\n",
       "\t<tr><td> 9</td><td>defaced </td><td>rater01</td><td>20</td></tr>\n",
       "\t<tr><td>10</td><td>original</td><td>rater01</td><td>16</td></tr>\n",
       "\t<tr><td>10</td><td>defaced </td><td>rater01</td><td>16</td></tr>\n",
       "\t<tr><td>11</td><td>original</td><td>rater01</td><td>16</td></tr>\n",
       "\t<tr><td>11</td><td>defaced </td><td>rater01</td><td>16</td></tr>\n",
       "\t<tr><td>12</td><td>original</td><td>rater01</td><td>44</td></tr>\n",
       "\t<tr><td>12</td><td>defaced </td><td>rater01</td><td>44</td></tr>\n",
       "\t<tr><td>13</td><td>original</td><td>rater01</td><td>20</td></tr>\n",
       "\t<tr><td>13</td><td>defaced </td><td>rater01</td><td>20</td></tr>\n",
       "\t<tr><td>14</td><td>original</td><td>rater01</td><td>45</td></tr>\n",
       "\t<tr><td>14</td><td>defaced </td><td>rater01</td><td>53</td></tr>\n",
       "\t<tr><td>15</td><td>original</td><td>rater01</td><td>22</td></tr>\n",
       "\t<tr><td>15</td><td>defaced </td><td>rater01</td><td>22</td></tr>\n",
       "\t<tr><td>⋮</td><td>⋮</td><td>⋮</td><td>⋮</td></tr>\n",
       "\t<tr><td>116</td><td>original</td><td>rater04</td><td>31</td></tr>\n",
       "\t<tr><td>116</td><td>defaced </td><td>rater04</td><td>41</td></tr>\n",
       "\t<tr><td>117</td><td>original</td><td>rater04</td><td>35</td></tr>\n",
       "\t<tr><td>117</td><td>defaced </td><td>rater04</td><td>45</td></tr>\n",
       "\t<tr><td>118</td><td>original</td><td>rater04</td><td>41</td></tr>\n",
       "\t<tr><td>118</td><td>defaced </td><td>rater04</td><td>41</td></tr>\n",
       "\t<tr><td>119</td><td>original</td><td>rater04</td><td>16</td></tr>\n",
       "\t<tr><td>119</td><td>defaced </td><td>rater04</td><td>16</td></tr>\n",
       "\t<tr><td>120</td><td>original</td><td>rater04</td><td>58</td></tr>\n",
       "\t<tr><td>120</td><td>defaced </td><td>rater04</td><td>58</td></tr>\n",
       "\t<tr><td>121</td><td>original</td><td>rater04</td><td>20</td></tr>\n",
       "\t<tr><td>121</td><td>defaced </td><td>rater04</td><td>30</td></tr>\n",
       "\t<tr><td>122</td><td>original</td><td>rater04</td><td>32</td></tr>\n",
       "\t<tr><td>122</td><td>defaced </td><td>rater04</td><td>42</td></tr>\n",
       "\t<tr><td>123</td><td>original</td><td>rater04</td><td>34</td></tr>\n",
       "\t<tr><td>123</td><td>defaced </td><td>rater04</td><td>34</td></tr>\n",
       "\t<tr><td>124</td><td>original</td><td>rater04</td><td>34</td></tr>\n",
       "\t<tr><td>124</td><td>defaced </td><td>rater04</td><td>34</td></tr>\n",
       "\t<tr><td>125</td><td>original</td><td>rater04</td><td>38</td></tr>\n",
       "\t<tr><td>125</td><td>defaced </td><td>rater04</td><td>48</td></tr>\n",
       "\t<tr><td>126</td><td>original</td><td>rater04</td><td>32</td></tr>\n",
       "\t<tr><td>126</td><td>defaced </td><td>rater04</td><td>42</td></tr>\n",
       "\t<tr><td>127</td><td>original</td><td>rater04</td><td>13</td></tr>\n",
       "\t<tr><td>127</td><td>defaced </td><td>rater04</td><td>23</td></tr>\n",
       "\t<tr><td>128</td><td>original</td><td>rater04</td><td>20</td></tr>\n",
       "\t<tr><td>128</td><td>defaced </td><td>rater04</td><td>20</td></tr>\n",
       "\t<tr><td>129</td><td>original</td><td>rater04</td><td>31</td></tr>\n",
       "\t<tr><td>129</td><td>defaced </td><td>rater04</td><td>41</td></tr>\n",
       "\t<tr><td>130</td><td>original</td><td>rater04</td><td>32</td></tr>\n",
       "\t<tr><td>130</td><td>defaced </td><td>rater04</td><td>42</td></tr>\n",
       "</tbody>\n",
       "</table>\n"
      ],
      "text/latex": [
       "A data.frame: 1040 × 4\n",
       "\\begin{tabular}{llll}\n",
       " sub & defaced & rater & ratings\\\\\n",
       " <int> & <fct> & <fct> & <dbl>\\\\\n",
       "\\hline\n",
       "\t  1 & original & rater01 & 26\\\\\n",
       "\t  1 & defaced  & rater01 & 26\\\\\n",
       "\t  2 & original & rater01 & 14\\\\\n",
       "\t  2 & defaced  & rater01 & 14\\\\\n",
       "\t  3 & original & rater01 & 11\\\\\n",
       "\t  3 & defaced  & rater01 & 11\\\\\n",
       "\t  4 & original & rater01 & 27\\\\\n",
       "\t  4 & defaced  & rater01 & 27\\\\\n",
       "\t  5 & original & rater01 & 34\\\\\n",
       "\t  5 & defaced  & rater01 & 34\\\\\n",
       "\t  6 & original & rater01 & 26\\\\\n",
       "\t  6 & defaced  & rater01 & 26\\\\\n",
       "\t  7 & original & rater01 & 41\\\\\n",
       "\t  7 & defaced  & rater01 & 51\\\\\n",
       "\t  8 & original & rater01 & 27\\\\\n",
       "\t  8 & defaced  & rater01 & 27\\\\\n",
       "\t  9 & original & rater01 & 20\\\\\n",
       "\t  9 & defaced  & rater01 & 20\\\\\n",
       "\t 10 & original & rater01 & 16\\\\\n",
       "\t 10 & defaced  & rater01 & 16\\\\\n",
       "\t 11 & original & rater01 & 16\\\\\n",
       "\t 11 & defaced  & rater01 & 16\\\\\n",
       "\t 12 & original & rater01 & 44\\\\\n",
       "\t 12 & defaced  & rater01 & 44\\\\\n",
       "\t 13 & original & rater01 & 20\\\\\n",
       "\t 13 & defaced  & rater01 & 20\\\\\n",
       "\t 14 & original & rater01 & 45\\\\\n",
       "\t 14 & defaced  & rater01 & 53\\\\\n",
       "\t 15 & original & rater01 & 22\\\\\n",
       "\t 15 & defaced  & rater01 & 22\\\\\n",
       "\t ⋮ & ⋮ & ⋮ & ⋮\\\\\n",
       "\t 116 & original & rater04 & 31\\\\\n",
       "\t 116 & defaced  & rater04 & 41\\\\\n",
       "\t 117 & original & rater04 & 35\\\\\n",
       "\t 117 & defaced  & rater04 & 45\\\\\n",
       "\t 118 & original & rater04 & 41\\\\\n",
       "\t 118 & defaced  & rater04 & 41\\\\\n",
       "\t 119 & original & rater04 & 16\\\\\n",
       "\t 119 & defaced  & rater04 & 16\\\\\n",
       "\t 120 & original & rater04 & 58\\\\\n",
       "\t 120 & defaced  & rater04 & 58\\\\\n",
       "\t 121 & original & rater04 & 20\\\\\n",
       "\t 121 & defaced  & rater04 & 30\\\\\n",
       "\t 122 & original & rater04 & 32\\\\\n",
       "\t 122 & defaced  & rater04 & 42\\\\\n",
       "\t 123 & original & rater04 & 34\\\\\n",
       "\t 123 & defaced  & rater04 & 34\\\\\n",
       "\t 124 & original & rater04 & 34\\\\\n",
       "\t 124 & defaced  & rater04 & 34\\\\\n",
       "\t 125 & original & rater04 & 38\\\\\n",
       "\t 125 & defaced  & rater04 & 48\\\\\n",
       "\t 126 & original & rater04 & 32\\\\\n",
       "\t 126 & defaced  & rater04 & 42\\\\\n",
       "\t 127 & original & rater04 & 13\\\\\n",
       "\t 127 & defaced  & rater04 & 23\\\\\n",
       "\t 128 & original & rater04 & 20\\\\\n",
       "\t 128 & defaced  & rater04 & 20\\\\\n",
       "\t 129 & original & rater04 & 31\\\\\n",
       "\t 129 & defaced  & rater04 & 41\\\\\n",
       "\t 130 & original & rater04 & 32\\\\\n",
       "\t 130 & defaced  & rater04 & 42\\\\\n",
       "\\end{tabular}\n"
      ],
      "text/markdown": [
       "\n",
       "A data.frame: 1040 × 4\n",
       "\n",
       "| sub &lt;int&gt; | defaced &lt;fct&gt; | rater &lt;fct&gt; | ratings &lt;dbl&gt; |\n",
       "|---|---|---|---|\n",
       "|  1 | original | rater01 | 26 |\n",
       "|  1 | defaced  | rater01 | 26 |\n",
       "|  2 | original | rater01 | 14 |\n",
       "|  2 | defaced  | rater01 | 14 |\n",
       "|  3 | original | rater01 | 11 |\n",
       "|  3 | defaced  | rater01 | 11 |\n",
       "|  4 | original | rater01 | 27 |\n",
       "|  4 | defaced  | rater01 | 27 |\n",
       "|  5 | original | rater01 | 34 |\n",
       "|  5 | defaced  | rater01 | 34 |\n",
       "|  6 | original | rater01 | 26 |\n",
       "|  6 | defaced  | rater01 | 26 |\n",
       "|  7 | original | rater01 | 41 |\n",
       "|  7 | defaced  | rater01 | 51 |\n",
       "|  8 | original | rater01 | 27 |\n",
       "|  8 | defaced  | rater01 | 27 |\n",
       "|  9 | original | rater01 | 20 |\n",
       "|  9 | defaced  | rater01 | 20 |\n",
       "| 10 | original | rater01 | 16 |\n",
       "| 10 | defaced  | rater01 | 16 |\n",
       "| 11 | original | rater01 | 16 |\n",
       "| 11 | defaced  | rater01 | 16 |\n",
       "| 12 | original | rater01 | 44 |\n",
       "| 12 | defaced  | rater01 | 44 |\n",
       "| 13 | original | rater01 | 20 |\n",
       "| 13 | defaced  | rater01 | 20 |\n",
       "| 14 | original | rater01 | 45 |\n",
       "| 14 | defaced  | rater01 | 53 |\n",
       "| 15 | original | rater01 | 22 |\n",
       "| 15 | defaced  | rater01 | 22 |\n",
       "| ⋮ | ⋮ | ⋮ | ⋮ |\n",
       "| 116 | original | rater04 | 31 |\n",
       "| 116 | defaced  | rater04 | 41 |\n",
       "| 117 | original | rater04 | 35 |\n",
       "| 117 | defaced  | rater04 | 45 |\n",
       "| 118 | original | rater04 | 41 |\n",
       "| 118 | defaced  | rater04 | 41 |\n",
       "| 119 | original | rater04 | 16 |\n",
       "| 119 | defaced  | rater04 | 16 |\n",
       "| 120 | original | rater04 | 58 |\n",
       "| 120 | defaced  | rater04 | 58 |\n",
       "| 121 | original | rater04 | 20 |\n",
       "| 121 | defaced  | rater04 | 30 |\n",
       "| 122 | original | rater04 | 32 |\n",
       "| 122 | defaced  | rater04 | 42 |\n",
       "| 123 | original | rater04 | 34 |\n",
       "| 123 | defaced  | rater04 | 34 |\n",
       "| 124 | original | rater04 | 34 |\n",
       "| 124 | defaced  | rater04 | 34 |\n",
       "| 125 | original | rater04 | 38 |\n",
       "| 125 | defaced  | rater04 | 48 |\n",
       "| 126 | original | rater04 | 32 |\n",
       "| 126 | defaced  | rater04 | 42 |\n",
       "| 127 | original | rater04 | 13 |\n",
       "| 127 | defaced  | rater04 | 23 |\n",
       "| 128 | original | rater04 | 20 |\n",
       "| 128 | defaced  | rater04 | 20 |\n",
       "| 129 | original | rater04 | 31 |\n",
       "| 129 | defaced  | rater04 | 41 |\n",
       "| 130 | original | rater04 | 32 |\n",
       "| 130 | defaced  | rater04 | 42 |\n",
       "\n"
      ],
      "text/plain": [
       "     sub defaced  rater   ratings\n",
       "1     1  original rater01 26     \n",
       "2     1  defaced  rater01 26     \n",
       "3     2  original rater01 14     \n",
       "4     2  defaced  rater01 14     \n",
       "5     3  original rater01 11     \n",
       "6     3  defaced  rater01 11     \n",
       "7     4  original rater01 27     \n",
       "8     4  defaced  rater01 27     \n",
       "9     5  original rater01 34     \n",
       "10    5  defaced  rater01 34     \n",
       "11    6  original rater01 26     \n",
       "12    6  defaced  rater01 26     \n",
       "13    7  original rater01 41     \n",
       "14    7  defaced  rater01 51     \n",
       "15    8  original rater01 27     \n",
       "16    8  defaced  rater01 27     \n",
       "17    9  original rater01 20     \n",
       "18    9  defaced  rater01 20     \n",
       "19   10  original rater01 16     \n",
       "20   10  defaced  rater01 16     \n",
       "21   11  original rater01 16     \n",
       "22   11  defaced  rater01 16     \n",
       "23   12  original rater01 44     \n",
       "24   12  defaced  rater01 44     \n",
       "25   13  original rater01 20     \n",
       "26   13  defaced  rater01 20     \n",
       "27   14  original rater01 45     \n",
       "28   14  defaced  rater01 53     \n",
       "29   15  original rater01 22     \n",
       "30   15  defaced  rater01 22     \n",
       "⋮    ⋮   ⋮        ⋮       ⋮      \n",
       "1011 116 original rater04 31     \n",
       "1012 116 defaced  rater04 41     \n",
       "1013 117 original rater04 35     \n",
       "1014 117 defaced  rater04 45     \n",
       "1015 118 original rater04 41     \n",
       "1016 118 defaced  rater04 41     \n",
       "1017 119 original rater04 16     \n",
       "1018 119 defaced  rater04 16     \n",
       "1019 120 original rater04 58     \n",
       "1020 120 defaced  rater04 58     \n",
       "1021 121 original rater04 20     \n",
       "1022 121 defaced  rater04 30     \n",
       "1023 122 original rater04 32     \n",
       "1024 122 defaced  rater04 42     \n",
       "1025 123 original rater04 34     \n",
       "1026 123 defaced  rater04 34     \n",
       "1027 124 original rater04 34     \n",
       "1028 124 defaced  rater04 34     \n",
       "1029 125 original rater04 38     \n",
       "1030 125 defaced  rater04 48     \n",
       "1031 126 original rater04 32     \n",
       "1032 126 defaced  rater04 42     \n",
       "1033 127 original rater04 13     \n",
       "1034 127 defaced  rater04 23     \n",
       "1035 128 original rater04 20     \n",
       "1036 128 defaced  rater04 20     \n",
       "1037 129 original rater04 31     \n",
       "1038 129 defaced  rater04 41     \n",
       "1039 130 original rater04 32     \n",
       "1040 130 defaced  rater04 42     "
      ]
     },
     "metadata": {},
     "output_type": "display_data"
    }
   ],
   "source": [
    "n_sub <- 580 #nbr of subjects available in the dataset\n",
    "n_rated <- 130\n",
    "n_rater <- 4 #nbr of raters\n",
    "mean <- 20\n",
    "sd <- 10\n",
    "#Define for each rater the percentage of biased ratings\n",
    "perc_biased <- c(20,40,50,60)\n",
    "bias <- 10\n",
    "\n",
    "df <- simulate_normal_data(n_rated, n_sub, n_rater, perc_biased, mean=mean, sd=sd, bias=bias)\n",
    "df$ratings <- as.numeric(df$ratings)\n",
    "df"
   ]
  },
  {
   "cell_type": "markdown",
   "id": "247792e8",
   "metadata": {},
   "source": [
    "## repeated-measure ANOVA"
   ]
  },
  {
   "cell_type": "markdown",
   "id": "0bc257ed",
   "metadata": {},
   "source": [
    "### Check assumptions"
   ]
  },
  {
   "cell_type": "markdown",
   "id": "7e983f99",
   "metadata": {},
   "source": [
    "repeated-measure ANOVA makes the following three assumptions on the data :\n",
    "1. **No significant outlier** : By construction the ratings cannot leave the range we define, so this assumption is granted\n",
    "2. **Normality** : we will have many ratings so by the central theorem this assumption should be ok\n",
    "3. **Sphericity** : the variance of the differences between groups should be equal."
   ]
  },
  {
   "cell_type": "code",
   "execution_count": 19,
   "id": "69c69d14",
   "metadata": {},
   "outputs": [
    {
     "data": {
      "text/plain": [
       "\n",
       "\tShapiro-Wilk normality test\n",
       "\n",
       "data:  df$ratings\n",
       "W = 0.99535, p-value = 0.002917\n"
      ]
     },
     "metadata": {},
     "output_type": "display_data"
    }
   ],
   "source": [
    "##Test for normality\n",
    "library(ggpubr)\n",
    "shapiro.test(df$ratings)"
   ]
  },
  {
   "cell_type": "markdown",
   "id": "44a2f0e4",
   "metadata": {},
   "source": [
    "If the data is normally distributed, p-values should be greater than 0.05"
   ]
  },
  {
   "cell_type": "code",
   "execution_count": 20,
   "id": "9f536d6a",
   "metadata": {
    "scrolled": false
   },
   "outputs": [
    {
     "data": {
      "image/png": "[encoded data removed]",
      "text/plain": [
       "plot without title"
      ]
     },
     "metadata": {
      "image/png": {
       "height": 420,
       "width": 420
      }
     },
     "output_type": "display_data"
    },
    {
     "data": {
      "image/png": "[encoded data removed]",
      "text/plain": [
       "plot without title"
      ]
     },
     "metadata": {
      "image/png": {
       "height": 420,
       "width": 420
      }
     },
     "output_type": "display_data"
    }
   ],
   "source": [
    "## Other test for normality\n",
    "ggqqplot(df, \"ratings\", facet.by = 'defaced')\n",
    "ggqqplot(df, \"ratings\", ggtheme = theme_bw()) +\n",
    "  facet_grid(defaced ~ rater, labeller = \"label_both\")"
   ]
  },
  {
   "cell_type": "markdown",
   "id": "b361756d",
   "metadata": {},
   "source": [
    "We can assume normality if the points fall along the reference line."
   ]
  },
  {
   "cell_type": "code",
   "execution_count": 21,
   "id": "79d0c7cd",
   "metadata": {
    "scrolled": false
   },
   "outputs": [
    {
     "data": {
      "text/html": [
       "<dl>\n",
       "\t<dt>$ANOVA</dt>\n",
       "\t\t<dd><table class=\"dataframe\">\n",
       "<caption>A data.frame: 3 × 7</caption>\n",
       "<thead>\n",
       "\t<tr><th scope=col>Effect</th><th scope=col>DFn</th><th scope=col>DFd</th><th scope=col>F</th><th scope=col>p</th><th scope=col>p&lt;.05</th><th scope=col>ges</th></tr>\n",
       "\t<tr><th scope=col>&lt;chr&gt;</th><th scope=col>&lt;dbl&gt;</th><th scope=col>&lt;dbl&gt;</th><th scope=col>&lt;dbl&gt;</th><th scope=col>&lt;dbl&gt;</th><th scope=col>&lt;chr&gt;</th><th scope=col>&lt;dbl&gt;</th></tr>\n",
       "</thead>\n",
       "<tbody>\n",
       "\t<tr><td>defaced      </td><td>1</td><td>129</td><td>384.195</td><td>1.69e-40</td><td>*</td><td>0.038</td></tr>\n",
       "\t<tr><td>rater        </td><td>3</td><td>387</td><td>  3.408</td><td>1.80e-02</td><td>*</td><td>0.018</td></tr>\n",
       "\t<tr><td>defaced:rater</td><td>3</td><td>387</td><td> 16.244</td><td>5.79e-10</td><td>*</td><td>0.005</td></tr>\n",
       "</tbody>\n",
       "</table>\n",
       "</dd>\n",
       "\t<dt>$`Mauchly's Test for Sphericity`</dt>\n",
       "\t\t<dd><table class=\"dataframe\">\n",
       "<caption>A data.frame: 2 × 4</caption>\n",
       "<thead>\n",
       "\t<tr><th></th><th scope=col>Effect</th><th scope=col>W</th><th scope=col>p</th><th scope=col>p&lt;.05</th></tr>\n",
       "\t<tr><th></th><th scope=col>&lt;chr&gt;</th><th scope=col>&lt;dbl&gt;</th><th scope=col>&lt;dbl&gt;</th><th scope=col>&lt;chr&gt;</th></tr>\n",
       "</thead>\n",
       "<tbody>\n",
       "\t<tr><th scope=row>1</th><td>rater        </td><td>0.972</td><td>0.606</td><td></td></tr>\n",
       "\t<tr><th scope=row>2</th><td>defaced:rater</td><td>0.920</td><td>0.059</td><td></td></tr>\n",
       "</tbody>\n",
       "</table>\n",
       "</dd>\n",
       "\t<dt>$`Sphericity Corrections`</dt>\n",
       "\t\t<dd><table class=\"dataframe\">\n",
       "<caption>A data.frame: 2 × 9</caption>\n",
       "<thead>\n",
       "\t<tr><th scope=col>Effect</th><th scope=col>GGe</th><th scope=col>DF[GG]</th><th scope=col>p[GG]</th><th scope=col>p[GG]&lt;.05</th><th scope=col>HFe</th><th scope=col>DF[HF]</th><th scope=col>p[HF]</th><th scope=col>p[HF]&lt;.05</th></tr>\n",
       "\t<tr><th scope=col>&lt;chr&gt;</th><th scope=col>&lt;dbl&gt;</th><th scope=col>&lt;chr&gt;</th><th scope=col>&lt;dbl&gt;</th><th scope=col>&lt;chr&gt;</th><th scope=col>&lt;dbl&gt;</th><th scope=col>&lt;chr&gt;</th><th scope=col>&lt;dbl&gt;</th><th scope=col>&lt;chr&gt;</th></tr>\n",
       "</thead>\n",
       "<tbody>\n",
       "\t<tr><td>rater        </td><td>0.981</td><td>2.94, 379.63</td><td>1.80e-02</td><td>*</td><td>1.006</td><td>3.02, 389.46</td><td>1.80e-02</td><td>*</td></tr>\n",
       "\t<tr><td>defaced:rater</td><td>0.948</td><td>2.84, 367   </td><td>1.46e-09</td><td>*</td><td>0.972</td><td>2.92, 376.14</td><td>9.55e-10</td><td>*</td></tr>\n",
       "</tbody>\n",
       "</table>\n",
       "</dd>\n",
       "</dl>\n"
      ],
      "text/latex": [
       "\\begin{description}\n",
       "\\item[\\$ANOVA] A data.frame: 3 × 7\n",
       "\\begin{tabular}{lllllll}\n",
       " Effect & DFn & DFd & F & p & p<.05 & ges\\\\\n",
       " <chr> & <dbl> & <dbl> & <dbl> & <dbl> & <chr> & <dbl>\\\\\n",
       "\\hline\n",
       "\t defaced       & 1 & 129 & 384.195 & 1.69e-40 & * & 0.038\\\\\n",
       "\t rater         & 3 & 387 &   3.408 & 1.80e-02 & * & 0.018\\\\\n",
       "\t defaced:rater & 3 & 387 &  16.244 & 5.79e-10 & * & 0.005\\\\\n",
       "\\end{tabular}\n",
       "\n",
       "\\item[\\$`Mauchly's Test for Sphericity`] A data.frame: 2 × 4\n",
       "\\begin{tabular}{r|llll}\n",
       "  & Effect & W & p & p<.05\\\\\n",
       "  & <chr> & <dbl> & <dbl> & <chr>\\\\\n",
       "\\hline\n",
       "\t1 & rater         & 0.972 & 0.606 & \\\\\n",
       "\t2 & defaced:rater & 0.920 & 0.059 & \\\\\n",
       "\\end{tabular}\n",
       "\n",
       "\\item[\\$`Sphericity Corrections`] A data.frame: 2 × 9\n",
       "\\begin{tabular}{lllllllll}\n",
       " Effect & GGe & DF{[}GG{]} & p{[}GG{]} & p{[}GG{]}<.05 & HFe & DF{[}HF{]} & p{[}HF{]} & p{[}HF{]}<.05\\\\\n",
       " <chr> & <dbl> & <chr> & <dbl> & <chr> & <dbl> & <chr> & <dbl> & <chr>\\\\\n",
       "\\hline\n",
       "\t rater         & 0.981 & 2.94, 379.63 & 1.80e-02 & * & 1.006 & 3.02, 389.46 & 1.80e-02 & *\\\\\n",
       "\t defaced:rater & 0.948 & 2.84, 367    & 1.46e-09 & * & 0.972 & 2.92, 376.14 & 9.55e-10 & *\\\\\n",
       "\\end{tabular}\n",
       "\n",
       "\\end{description}\n"
      ],
      "text/markdown": [
       "$ANOVA\n",
       ":   \n",
       "A data.frame: 3 × 7\n",
       "\n",
       "| Effect &lt;chr&gt; | DFn &lt;dbl&gt; | DFd &lt;dbl&gt; | F &lt;dbl&gt; | p &lt;dbl&gt; | p&lt;.05 &lt;chr&gt; | ges &lt;dbl&gt; |\n",
       "|---|---|---|---|---|---|---|\n",
       "| defaced       | 1 | 129 | 384.195 | 1.69e-40 | * | 0.038 |\n",
       "| rater         | 3 | 387 |   3.408 | 1.80e-02 | * | 0.018 |\n",
       "| defaced:rater | 3 | 387 |  16.244 | 5.79e-10 | * | 0.005 |\n",
       "\n",
       "\n",
       "$`Mauchly's Test for Sphericity`\n",
       ":   \n",
       "A data.frame: 2 × 4\n",
       "\n",
       "| <!--/--> | Effect &lt;chr&gt; | W &lt;dbl&gt; | p &lt;dbl&gt; | p&lt;.05 &lt;chr&gt; |\n",
       "|---|---|---|---|---|\n",
       "| 1 | rater         | 0.972 | 0.606 | <!----> |\n",
       "| 2 | defaced:rater | 0.920 | 0.059 | <!----> |\n",
       "\n",
       "\n",
       "$`Sphericity Corrections`\n",
       ":   \n",
       "A data.frame: 2 × 9\n",
       "\n",
       "| Effect &lt;chr&gt; | GGe &lt;dbl&gt; | DF[GG] &lt;chr&gt; | p[GG] &lt;dbl&gt; | p[GG]&lt;.05 &lt;chr&gt; | HFe &lt;dbl&gt; | DF[HF] &lt;chr&gt; | p[HF] &lt;dbl&gt; | p[HF]&lt;.05 &lt;chr&gt; |\n",
       "|---|---|---|---|---|---|---|---|---|\n",
       "| rater         | 0.981 | 2.94, 379.63 | 1.80e-02 | * | 1.006 | 3.02, 389.46 | 1.80e-02 | * |\n",
       "| defaced:rater | 0.948 | 2.84, 367    | 1.46e-09 | * | 0.972 | 2.92, 376.14 | 9.55e-10 | * |\n",
       "\n",
       "\n",
       "\n",
       "\n"
      ],
      "text/plain": [
       "ANOVA Table (type III tests)\n",
       "\n",
       "$ANOVA\n",
       "         Effect DFn DFd       F        p p<.05   ges\n",
       "1       defaced   1 129 384.195 1.69e-40     * 0.038\n",
       "2         rater   3 387   3.408 1.80e-02     * 0.018\n",
       "3 defaced:rater   3 387  16.244 5.79e-10     * 0.005\n",
       "\n",
       "$`Mauchly's Test for Sphericity`\n",
       "         Effect     W     p p<.05\n",
       "1         rater 0.972 0.606      \n",
       "2 defaced:rater 0.920 0.059      \n",
       "\n",
       "$`Sphericity Corrections`\n",
       "         Effect   GGe       DF[GG]    p[GG] p[GG]<.05   HFe       DF[HF]\n",
       "1         rater 0.981 2.94, 379.63 1.80e-02         * 1.006 3.02, 389.46\n",
       "2 defaced:rater 0.948    2.84, 367 1.46e-09         * 0.972 2.92, 376.14\n",
       "     p[HF] p[HF]<.05\n",
       "1 1.80e-02         *\n",
       "2 9.55e-10         *\n"
      ]
     },
     "metadata": {},
     "output_type": "display_data"
    }
   ],
   "source": [
    "## Test for sphericity\n",
    "library(rstatix)\n",
    "suppressWarnings(anova_test(data = df, dv = ratings, wid= sub, within = c(defaced, rater)))"
   ]
  },
  {
   "cell_type": "markdown",
   "id": "354ce05a",
   "metadata": {},
   "source": [
    "For the assumption of sphericity to be verified, the test should not reject the null hypothesis, which is that the variance between group is equal. The assumption is violated by the interaction defaced:rater, thus anova_test can apply automatically sphericity correction"
   ]
  },
  {
   "cell_type": "markdown",
   "id": "ef476ddc",
   "metadata": {},
   "source": [
    "### Run ANOVA"
   ]
  },
  {
   "cell_type": "code",
   "execution_count": 22,
   "id": "6aa66020",
   "metadata": {},
   "outputs": [
    {
     "data": {
      "text/html": [
       "<table class=\"dataframe\">\n",
       "<caption>A anova_test: 3 × 7</caption>\n",
       "<thead>\n",
       "\t<tr><th></th><th scope=col>Effect</th><th scope=col>DFn</th><th scope=col>DFd</th><th scope=col>F</th><th scope=col>p</th><th scope=col>p&lt;.05</th><th scope=col>ges</th></tr>\n",
       "\t<tr><th></th><th scope=col>&lt;chr&gt;</th><th scope=col>&lt;dbl&gt;</th><th scope=col>&lt;dbl&gt;</th><th scope=col>&lt;dbl&gt;</th><th scope=col>&lt;dbl&gt;</th><th scope=col>&lt;chr&gt;</th><th scope=col>&lt;dbl&gt;</th></tr>\n",
       "</thead>\n",
       "<tbody>\n",
       "\t<tr><th scope=row>1</th><td>defaced      </td><td>1</td><td>129</td><td>384.195</td><td>1.69e-40</td><td>*</td><td>0.038</td></tr>\n",
       "\t<tr><th scope=row>2</th><td>rater        </td><td>3</td><td>387</td><td>  3.408</td><td>1.80e-02</td><td>*</td><td>0.018</td></tr>\n",
       "\t<tr><th scope=row>3</th><td>defaced:rater</td><td>3</td><td>387</td><td> 16.244</td><td>5.79e-10</td><td>*</td><td>0.005</td></tr>\n",
       "</tbody>\n",
       "</table>\n"
      ],
      "text/latex": [
       "A anova\\_test: 3 × 7\n",
       "\\begin{tabular}{r|lllllll}\n",
       "  & Effect & DFn & DFd & F & p & p<.05 & ges\\\\\n",
       "  & <chr> & <dbl> & <dbl> & <dbl> & <dbl> & <chr> & <dbl>\\\\\n",
       "\\hline\n",
       "\t1 & defaced       & 1 & 129 & 384.195 & 1.69e-40 & * & 0.038\\\\\n",
       "\t2 & rater         & 3 & 387 &   3.408 & 1.80e-02 & * & 0.018\\\\\n",
       "\t3 & defaced:rater & 3 & 387 &  16.244 & 5.79e-10 & * & 0.005\\\\\n",
       "\\end{tabular}\n"
      ],
      "text/markdown": [
       "\n",
       "A anova_test: 3 × 7\n",
       "\n",
       "| <!--/--> | Effect &lt;chr&gt; | DFn &lt;dbl&gt; | DFd &lt;dbl&gt; | F &lt;dbl&gt; | p &lt;dbl&gt; | p&lt;.05 &lt;chr&gt; | ges &lt;dbl&gt; |\n",
       "|---|---|---|---|---|---|---|---|\n",
       "| 1 | defaced       | 1 | 129 | 384.195 | 1.69e-40 | * | 0.038 |\n",
       "| 2 | rater         | 3 | 387 |   3.408 | 1.80e-02 | * | 0.018 |\n",
       "| 3 | defaced:rater | 3 | 387 |  16.244 | 5.79e-10 | * | 0.005 |\n",
       "\n"
      ],
      "text/plain": [
       "  Effect        DFn DFd F       p        p<.05 ges  \n",
       "1 defaced       1   129 384.195 1.69e-40 *     0.038\n",
       "2 rater         3   387   3.408 1.80e-02 *     0.018\n",
       "3 defaced:rater 3   387  16.244 5.79e-10 *     0.005"
      ]
     },
     "metadata": {},
     "output_type": "display_data"
    }
   ],
   "source": [
    "suppressWarnings(res.aov <- anova_test(data = df, dv = ratings, wid = sub, within = c(defaced, rater)))\n",
    "get_anova_table(res.aov)"
   ]
  },
  {
   "cell_type": "markdown",
   "id": "c58fab1c",
   "metadata": {},
   "source": [
    "### Verify that the null hypothesis is not rejected if no bias has been introduced"
   ]
  },
  {
   "cell_type": "code",
   "execution_count": 23,
   "id": "0d97623f",
   "metadata": {},
   "outputs": [
    {
     "data": {
      "text/html": [
       "<table class=\"dataframe\">\n",
       "<caption>A anova_test: 3 × 7</caption>\n",
       "<thead>\n",
       "\t<tr><th></th><th scope=col>Effect</th><th scope=col>DFn</th><th scope=col>DFd</th><th scope=col>F</th><th scope=col>p</th><th scope=col>p&lt;.05</th><th scope=col>ges</th></tr>\n",
       "\t<tr><th></th><th scope=col>&lt;chr&gt;</th><th scope=col>&lt;dbl&gt;</th><th scope=col>&lt;dbl&gt;</th><th scope=col>&lt;dbl&gt;</th><th scope=col>&lt;dbl&gt;</th><th scope=col>&lt;chr&gt;</th><th scope=col>&lt;dbl&gt;</th></tr>\n",
       "</thead>\n",
       "<tbody>\n",
       "\t<tr><th scope=row>1</th><td>defaced      </td><td>1</td><td>129</td><td>5.2406e+01</td><td>3.61e-11</td><td>*</td><td>2.44e-05</td></tr>\n",
       "\t<tr><th scope=row>2</th><td>rater        </td><td>3</td><td>387</td><td>1.4150e+00</td><td>2.38e-01</td><td> </td><td>9.00e-03</td></tr>\n",
       "\t<tr><th scope=row>3</th><td>defaced:rater</td><td>3</td><td>387</td><td>3.1100e-26</td><td>1.00e+00</td><td> </td><td>3.86e-32</td></tr>\n",
       "</tbody>\n",
       "</table>\n"
      ],
      "text/latex": [
       "A anova\\_test: 3 × 7\n",
       "\\begin{tabular}{r|lllllll}\n",
       "  & Effect & DFn & DFd & F & p & p<.05 & ges\\\\\n",
       "  & <chr> & <dbl> & <dbl> & <dbl> & <dbl> & <chr> & <dbl>\\\\\n",
       "\\hline\n",
       "\t1 & defaced       & 1 & 129 & 5.2406e+01 & 3.61e-11 & * & 2.44e-05\\\\\n",
       "\t2 & rater         & 3 & 387 & 1.4150e+00 & 2.38e-01 &   & 9.00e-03\\\\\n",
       "\t3 & defaced:rater & 3 & 387 & 3.1100e-26 & 1.00e+00 &   & 3.86e-32\\\\\n",
       "\\end{tabular}\n"
      ],
      "text/markdown": [
       "\n",
       "A anova_test: 3 × 7\n",
       "\n",
       "| <!--/--> | Effect &lt;chr&gt; | DFn &lt;dbl&gt; | DFd &lt;dbl&gt; | F &lt;dbl&gt; | p &lt;dbl&gt; | p&lt;.05 &lt;chr&gt; | ges &lt;dbl&gt; |\n",
       "|---|---|---|---|---|---|---|---|\n",
       "| 1 | defaced       | 1 | 129 | 5.2406e+01 | 3.61e-11 | * | 2.44e-05 |\n",
       "| 2 | rater         | 3 | 387 | 1.4150e+00 | 2.38e-01 | <!----> | 9.00e-03 |\n",
       "| 3 | defaced:rater | 3 | 387 | 3.1100e-26 | 1.00e+00 | <!----> | 3.86e-32 |\n",
       "\n"
      ],
      "text/plain": [
       "  Effect        DFn DFd F          p        p<.05 ges     \n",
       "1 defaced       1   129 5.2406e+01 3.61e-11 *     2.44e-05\n",
       "2 rater         3   387 1.4150e+00 2.38e-01       9.00e-03\n",
       "3 defaced:rater 3   387 3.1100e-26 1.00e+00       3.86e-32"
      ]
     },
     "metadata": {},
     "output_type": "display_data"
    }
   ],
   "source": [
    "#Define for each rater the percentage of biased ratings\n",
    "perc_biased <- c(10,10,10,10)\n",
    "bias <- 1\n",
    "\n",
    "df_nobias <- simulate_normal_data(n_rated, n_sub, n_rater, perc_biased, mean=mean, sd=sd, bias=bias)\n",
    "df_nobias$ratings <- as.numeric(df_nobias$ratings)\n",
    "\n",
    "## Lmer should not find significant result\n",
    "suppressWarnings(res.aov <- anova_test(data = df_nobias, dv = ratings, wid = sub, within = c(defaced, rater)))\n",
    "get_anova_table(res.aov)"
   ]
  },
  {
   "cell_type": "markdown",
   "id": "73f35e0e",
   "metadata": {},
   "source": [
    "## Friedman test"
   ]
  },
  {
   "cell_type": "markdown",
   "id": "71924801",
   "metadata": {},
   "source": [
    "Non-parametric alternative to repeated-measure ANOVA."
   ]
  },
  {
   "cell_type": "code",
   "execution_count": 24,
   "id": "3e4978b5",
   "metadata": {},
   "outputs": [
    {
     "ename": "ERROR",
     "evalue": "Error in friedman.test.default(y = df$ratings, groups = factor(df$defaced), : not an unreplicated complete block design\n",
     "output_type": "error",
     "traceback": [
      "Error in friedman.test.default(y = df$ratings, groups = factor(df$defaced), : not an unreplicated complete block design\nTraceback:\n",
      "1. friedman.test(y = df$ratings, groups = factor(df$defaced), blocks = factor(df$sub))",
      "2. friedman.test.default(y = df$ratings, groups = factor(df$defaced), \n .     blocks = factor(df$sub))",
      "3. stop(\"not an unreplicated complete block design\")"
     ]
    }
   ],
   "source": [
    "friedman.test(y=df$ratings, groups=factor(df$defaced), blocks=factor(df$sub))"
   ]
  },
  {
   "cell_type": "markdown",
   "id": "8471d35e",
   "metadata": {},
   "source": [
    "Cannot use this function : An unreplicated complete block design has exactly 1 observation for each combination of the two grouping factors. But we have 4 observations of the combination defaced + sub 1 : rater01,02,03,04."
   ]
  }
 ],
 "metadata": {
  "kernelspec": {
   "display_name": "R",
   "language": "R",
   "name": "ir"
  },
  "language_info": {
   "codemirror_mode": "r",
   "file_extension": ".r",
   "mimetype": "text/x-r-source",
   "name": "R",
   "pygments_lexer": "r",
   "version": "4.2.0"
  }
 },
 "nbformat": 4,
 "nbformat_minor": 5
}
