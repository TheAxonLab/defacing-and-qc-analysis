{
 "cells": [
  {
   "cell_type": "markdown",
   "id": "e0f93bbf",
   "metadata": {},
   "source": [
    "# Defacing pre-registration - Statistical analysis in R"
   ]
  },
  {
   "cell_type": "markdown",
   "id": "254464db",
   "metadata": {},
   "source": [
    "## Load the simulated or collected manual ratings"
   ]
  },
  {
   "cell_type": "code",
   "execution_count": 1,
   "id": "0858036e",
   "metadata": {
    "vscode": {
     "languageId": "r"
    }
   },
   "outputs": [
    {
     "data": {
      "text/html": [
       "<table class=\"dataframe\">\n",
       "<caption>A data.frame: 1810 × 4</caption>\n",
       "<thead>\n",
       "\t<tr><th scope=col>X</th><th scope=col>rater_id</th><th scope=col>subject</th><th scope=col>rating</th></tr>\n",
       "\t<tr><th scope=col>&lt;int&gt;</th><th scope=col>&lt;chr&gt;</th><th scope=col>&lt;chr&gt;</th><th scope=col>&lt;dbl&gt;</th></tr>\n",
       "</thead>\n",
       "<tbody>\n",
       "\t<tr><td> 0</td><td>emeline</td><td>sub-0152_T1w</td><td>2.45</td></tr>\n",
       "\t<tr><td> 1</td><td>emeline</td><td>sub-0152_T1w</td><td>2.55</td></tr>\n",
       "\t<tr><td> 2</td><td>emeline</td><td>sub-1051_T1w</td><td>2.85</td></tr>\n",
       "\t<tr><td> 3</td><td>emeline</td><td>sub-1186_T1w</td><td>2.55</td></tr>\n",
       "\t<tr><td> 4</td><td>emeline</td><td>sub-0951_T1w</td><td>3.45</td></tr>\n",
       "\t<tr><td> 5</td><td>emeline</td><td>sub-0902_T1w</td><td>2.95</td></tr>\n",
       "\t<tr><td> 6</td><td>emeline</td><td>sub-0250_T1w</td><td>2.55</td></tr>\n",
       "\t<tr><td> 7</td><td>emeline</td><td>sub-0394_T1w</td><td>2.95</td></tr>\n",
       "\t<tr><td> 8</td><td>emeline</td><td>sub-0924_T1w</td><td>2.60</td></tr>\n",
       "\t<tr><td> 9</td><td>emeline</td><td>sub-0472_T1w</td><td>2.65</td></tr>\n",
       "\t<tr><td>10</td><td>emeline</td><td>sub-0328_T1w</td><td>3.00</td></tr>\n",
       "\t<tr><td>11</td><td>emeline</td><td>sub-0661_T1w</td><td>3.55</td></tr>\n",
       "\t<tr><td>12</td><td>emeline</td><td>sub-0050_T1w</td><td>2.60</td></tr>\n",
       "\t<tr><td>13</td><td>emeline</td><td>sub-1221_T1w</td><td>2.85</td></tr>\n",
       "\t<tr><td>14</td><td>emeline</td><td>sub-0752_T1w</td><td>3.15</td></tr>\n",
       "\t<tr><td>15</td><td>emeline</td><td>sub-0336_T1w</td><td>3.55</td></tr>\n",
       "\t<tr><td>16</td><td>emeline</td><td>sub-0459_T1w</td><td>2.95</td></tr>\n",
       "\t<tr><td>17</td><td>emeline</td><td>sub-0775_T1w</td><td>3.40</td></tr>\n",
       "\t<tr><td>18</td><td>emeline</td><td>sub-1130_T1w</td><td>2.70</td></tr>\n",
       "\t<tr><td>19</td><td>emeline</td><td>sub-0656_T1w</td><td>3.25</td></tr>\n",
       "\t<tr><td>20</td><td>emeline</td><td>sub-0270_T1w</td><td>2.80</td></tr>\n",
       "\t<tr><td>21</td><td>thomas </td><td>sub-0152_T1w</td><td>3.55</td></tr>\n",
       "\t<tr><td>22</td><td>thomas </td><td>sub-1051_T1w</td><td>3.70</td></tr>\n",
       "\t<tr><td>23</td><td>thomas </td><td>sub-1186_T1w</td><td>3.30</td></tr>\n",
       "\t<tr><td>24</td><td>thomas </td><td>sub-0951_T1w</td><td>3.35</td></tr>\n",
       "\t<tr><td>25</td><td>thomas </td><td>sub-0902_T1w</td><td>3.30</td></tr>\n",
       "\t<tr><td>26</td><td>thomas </td><td>sub-0250_T1w</td><td>3.45</td></tr>\n",
       "\t<tr><td>27</td><td>thomas </td><td>sub-0394_T1w</td><td>3.45</td></tr>\n",
       "\t<tr><td>28</td><td>thomas </td><td>sub-0924_T1w</td><td>3.00</td></tr>\n",
       "\t<tr><td>29</td><td>thomas </td><td>sub-0472_T1w</td><td>3.40</td></tr>\n",
       "\t<tr><td>⋮</td><td>⋮</td><td>⋮</td><td>⋮</td></tr>\n",
       "\t<tr><td>1780</td><td>elda</td><td>sub-1116_T1w</td><td>3.15</td></tr>\n",
       "\t<tr><td>1781</td><td>elda</td><td>sub-1223_T1w</td><td>2.95</td></tr>\n",
       "\t<tr><td>1782</td><td>elda</td><td>sub-0161_T1w</td><td>3.30</td></tr>\n",
       "\t<tr><td>1783</td><td>elda</td><td>sub-1190_T1w</td><td>2.95</td></tr>\n",
       "\t<tr><td>1784</td><td>elda</td><td>sub-1179_T1w</td><td>3.65</td></tr>\n",
       "\t<tr><td>1785</td><td>elda</td><td>sub-1168_T1w</td><td>3.30</td></tr>\n",
       "\t<tr><td>1786</td><td>elda</td><td>sub-0466_T1w</td><td>2.95</td></tr>\n",
       "\t<tr><td>1787</td><td>elda</td><td>sub-0558_T1w</td><td>3.05</td></tr>\n",
       "\t<tr><td>1788</td><td>elda</td><td>sub-0947_T1w</td><td>3.55</td></tr>\n",
       "\t<tr><td>1789</td><td>elda</td><td>sub-1091_T1w</td><td>3.45</td></tr>\n",
       "\t<tr><td>1790</td><td>elda</td><td>sub-0937_T1w</td><td>2.90</td></tr>\n",
       "\t<tr><td>1791</td><td>elda</td><td>sub-0957_T1w</td><td>2.45</td></tr>\n",
       "\t<tr><td>1792</td><td>elda</td><td>sub-0331_T1w</td><td>4.00</td></tr>\n",
       "\t<tr><td>1793</td><td>elda</td><td>sub-0457_T1w</td><td>3.45</td></tr>\n",
       "\t<tr><td>1794</td><td>elda</td><td>sub-0880_T1w</td><td>3.10</td></tr>\n",
       "\t<tr><td>1795</td><td>elda</td><td>sub-1189_T1w</td><td>3.50</td></tr>\n",
       "\t<tr><td>1796</td><td>elda</td><td>sub-0544_T1w</td><td>3.25</td></tr>\n",
       "\t<tr><td>1797</td><td>elda</td><td>sub-1097_T1w</td><td>3.25</td></tr>\n",
       "\t<tr><td>1798</td><td>elda</td><td>sub-0722_T1w</td><td>3.40</td></tr>\n",
       "\t<tr><td>1799</td><td>elda</td><td>sub-0792_T1w</td><td>2.95</td></tr>\n",
       "\t<tr><td>1800</td><td>elda</td><td>sub-1230_T1w</td><td>3.20</td></tr>\n",
       "\t<tr><td>1801</td><td>elda</td><td>sub-0550_T1w</td><td>2.75</td></tr>\n",
       "\t<tr><td>1802</td><td>elda</td><td>sub-0036_T1w</td><td>3.25</td></tr>\n",
       "\t<tr><td>1803</td><td>elda</td><td>sub-0386_T1w</td><td>3.40</td></tr>\n",
       "\t<tr><td>1804</td><td>elda</td><td>sub-0879_T1w</td><td>2.95</td></tr>\n",
       "\t<tr><td>1805</td><td>elda</td><td>sub-0640_T1w</td><td>3.55</td></tr>\n",
       "\t<tr><td>1806</td><td>elda</td><td>sub-1231_T1w</td><td>4.00</td></tr>\n",
       "\t<tr><td>1807</td><td>elda</td><td>sub-1048_T1w</td><td>3.45</td></tr>\n",
       "\t<tr><td>1808</td><td>elda</td><td>sub-0468_T1w</td><td>2.85</td></tr>\n",
       "\t<tr><td>1809</td><td>elda</td><td>sub-0203_T1w</td><td>3.45</td></tr>\n",
       "</tbody>\n",
       "</table>\n"
      ],
      "text/latex": [
       "A data.frame: 1810 × 4\n",
       "\\begin{tabular}{llll}\n",
       " X & rater\\_id & subject & rating\\\\\n",
       " <int> & <chr> & <chr> & <dbl>\\\\\n",
       "\\hline\n",
       "\t  0 & emeline & sub-0152\\_T1w & 2.45\\\\\n",
       "\t  1 & emeline & sub-0152\\_T1w & 2.55\\\\\n",
       "\t  2 & emeline & sub-1051\\_T1w & 2.85\\\\\n",
       "\t  3 & emeline & sub-1186\\_T1w & 2.55\\\\\n",
       "\t  4 & emeline & sub-0951\\_T1w & 3.45\\\\\n",
       "\t  5 & emeline & sub-0902\\_T1w & 2.95\\\\\n",
       "\t  6 & emeline & sub-0250\\_T1w & 2.55\\\\\n",
       "\t  7 & emeline & sub-0394\\_T1w & 2.95\\\\\n",
       "\t  8 & emeline & sub-0924\\_T1w & 2.60\\\\\n",
       "\t  9 & emeline & sub-0472\\_T1w & 2.65\\\\\n",
       "\t 10 & emeline & sub-0328\\_T1w & 3.00\\\\\n",
       "\t 11 & emeline & sub-0661\\_T1w & 3.55\\\\\n",
       "\t 12 & emeline & sub-0050\\_T1w & 2.60\\\\\n",
       "\t 13 & emeline & sub-1221\\_T1w & 2.85\\\\\n",
       "\t 14 & emeline & sub-0752\\_T1w & 3.15\\\\\n",
       "\t 15 & emeline & sub-0336\\_T1w & 3.55\\\\\n",
       "\t 16 & emeline & sub-0459\\_T1w & 2.95\\\\\n",
       "\t 17 & emeline & sub-0775\\_T1w & 3.40\\\\\n",
       "\t 18 & emeline & sub-1130\\_T1w & 2.70\\\\\n",
       "\t 19 & emeline & sub-0656\\_T1w & 3.25\\\\\n",
       "\t 20 & emeline & sub-0270\\_T1w & 2.80\\\\\n",
       "\t 21 & thomas  & sub-0152\\_T1w & 3.55\\\\\n",
       "\t 22 & thomas  & sub-1051\\_T1w & 3.70\\\\\n",
       "\t 23 & thomas  & sub-1186\\_T1w & 3.30\\\\\n",
       "\t 24 & thomas  & sub-0951\\_T1w & 3.35\\\\\n",
       "\t 25 & thomas  & sub-0902\\_T1w & 3.30\\\\\n",
       "\t 26 & thomas  & sub-0250\\_T1w & 3.45\\\\\n",
       "\t 27 & thomas  & sub-0394\\_T1w & 3.45\\\\\n",
       "\t 28 & thomas  & sub-0924\\_T1w & 3.00\\\\\n",
       "\t 29 & thomas  & sub-0472\\_T1w & 3.40\\\\\n",
       "\t ⋮ & ⋮ & ⋮ & ⋮\\\\\n",
       "\t 1780 & elda & sub-1116\\_T1w & 3.15\\\\\n",
       "\t 1781 & elda & sub-1223\\_T1w & 2.95\\\\\n",
       "\t 1782 & elda & sub-0161\\_T1w & 3.30\\\\\n",
       "\t 1783 & elda & sub-1190\\_T1w & 2.95\\\\\n",
       "\t 1784 & elda & sub-1179\\_T1w & 3.65\\\\\n",
       "\t 1785 & elda & sub-1168\\_T1w & 3.30\\\\\n",
       "\t 1786 & elda & sub-0466\\_T1w & 2.95\\\\\n",
       "\t 1787 & elda & sub-0558\\_T1w & 3.05\\\\\n",
       "\t 1788 & elda & sub-0947\\_T1w & 3.55\\\\\n",
       "\t 1789 & elda & sub-1091\\_T1w & 3.45\\\\\n",
       "\t 1790 & elda & sub-0937\\_T1w & 2.90\\\\\n",
       "\t 1791 & elda & sub-0957\\_T1w & 2.45\\\\\n",
       "\t 1792 & elda & sub-0331\\_T1w & 4.00\\\\\n",
       "\t 1793 & elda & sub-0457\\_T1w & 3.45\\\\\n",
       "\t 1794 & elda & sub-0880\\_T1w & 3.10\\\\\n",
       "\t 1795 & elda & sub-1189\\_T1w & 3.50\\\\\n",
       "\t 1796 & elda & sub-0544\\_T1w & 3.25\\\\\n",
       "\t 1797 & elda & sub-1097\\_T1w & 3.25\\\\\n",
       "\t 1798 & elda & sub-0722\\_T1w & 3.40\\\\\n",
       "\t 1799 & elda & sub-0792\\_T1w & 2.95\\\\\n",
       "\t 1800 & elda & sub-1230\\_T1w & 3.20\\\\\n",
       "\t 1801 & elda & sub-0550\\_T1w & 2.75\\\\\n",
       "\t 1802 & elda & sub-0036\\_T1w & 3.25\\\\\n",
       "\t 1803 & elda & sub-0386\\_T1w & 3.40\\\\\n",
       "\t 1804 & elda & sub-0879\\_T1w & 2.95\\\\\n",
       "\t 1805 & elda & sub-0640\\_T1w & 3.55\\\\\n",
       "\t 1806 & elda & sub-1231\\_T1w & 4.00\\\\\n",
       "\t 1807 & elda & sub-1048\\_T1w & 3.45\\\\\n",
       "\t 1808 & elda & sub-0468\\_T1w & 2.85\\\\\n",
       "\t 1809 & elda & sub-0203\\_T1w & 3.45\\\\\n",
       "\\end{tabular}\n"
      ],
      "text/markdown": [
       "\n",
       "A data.frame: 1810 × 4\n",
       "\n",
       "| X &lt;int&gt; | rater_id &lt;chr&gt; | subject &lt;chr&gt; | rating &lt;dbl&gt; |\n",
       "|---|---|---|---|\n",
       "|  0 | emeline | sub-0152_T1w | 2.45 |\n",
       "|  1 | emeline | sub-0152_T1w | 2.55 |\n",
       "|  2 | emeline | sub-1051_T1w | 2.85 |\n",
       "|  3 | emeline | sub-1186_T1w | 2.55 |\n",
       "|  4 | emeline | sub-0951_T1w | 3.45 |\n",
       "|  5 | emeline | sub-0902_T1w | 2.95 |\n",
       "|  6 | emeline | sub-0250_T1w | 2.55 |\n",
       "|  7 | emeline | sub-0394_T1w | 2.95 |\n",
       "|  8 | emeline | sub-0924_T1w | 2.60 |\n",
       "|  9 | emeline | sub-0472_T1w | 2.65 |\n",
       "| 10 | emeline | sub-0328_T1w | 3.00 |\n",
       "| 11 | emeline | sub-0661_T1w | 3.55 |\n",
       "| 12 | emeline | sub-0050_T1w | 2.60 |\n",
       "| 13 | emeline | sub-1221_T1w | 2.85 |\n",
       "| 14 | emeline | sub-0752_T1w | 3.15 |\n",
       "| 15 | emeline | sub-0336_T1w | 3.55 |\n",
       "| 16 | emeline | sub-0459_T1w | 2.95 |\n",
       "| 17 | emeline | sub-0775_T1w | 3.40 |\n",
       "| 18 | emeline | sub-1130_T1w | 2.70 |\n",
       "| 19 | emeline | sub-0656_T1w | 3.25 |\n",
       "| 20 | emeline | sub-0270_T1w | 2.80 |\n",
       "| 21 | thomas  | sub-0152_T1w | 3.55 |\n",
       "| 22 | thomas  | sub-1051_T1w | 3.70 |\n",
       "| 23 | thomas  | sub-1186_T1w | 3.30 |\n",
       "| 24 | thomas  | sub-0951_T1w | 3.35 |\n",
       "| 25 | thomas  | sub-0902_T1w | 3.30 |\n",
       "| 26 | thomas  | sub-0250_T1w | 3.45 |\n",
       "| 27 | thomas  | sub-0394_T1w | 3.45 |\n",
       "| 28 | thomas  | sub-0924_T1w | 3.00 |\n",
       "| 29 | thomas  | sub-0472_T1w | 3.40 |\n",
       "| ⋮ | ⋮ | ⋮ | ⋮ |\n",
       "| 1780 | elda | sub-1116_T1w | 3.15 |\n",
       "| 1781 | elda | sub-1223_T1w | 2.95 |\n",
       "| 1782 | elda | sub-0161_T1w | 3.30 |\n",
       "| 1783 | elda | sub-1190_T1w | 2.95 |\n",
       "| 1784 | elda | sub-1179_T1w | 3.65 |\n",
       "| 1785 | elda | sub-1168_T1w | 3.30 |\n",
       "| 1786 | elda | sub-0466_T1w | 2.95 |\n",
       "| 1787 | elda | sub-0558_T1w | 3.05 |\n",
       "| 1788 | elda | sub-0947_T1w | 3.55 |\n",
       "| 1789 | elda | sub-1091_T1w | 3.45 |\n",
       "| 1790 | elda | sub-0937_T1w | 2.90 |\n",
       "| 1791 | elda | sub-0957_T1w | 2.45 |\n",
       "| 1792 | elda | sub-0331_T1w | 4.00 |\n",
       "| 1793 | elda | sub-0457_T1w | 3.45 |\n",
       "| 1794 | elda | sub-0880_T1w | 3.10 |\n",
       "| 1795 | elda | sub-1189_T1w | 3.50 |\n",
       "| 1796 | elda | sub-0544_T1w | 3.25 |\n",
       "| 1797 | elda | sub-1097_T1w | 3.25 |\n",
       "| 1798 | elda | sub-0722_T1w | 3.40 |\n",
       "| 1799 | elda | sub-0792_T1w | 2.95 |\n",
       "| 1800 | elda | sub-1230_T1w | 3.20 |\n",
       "| 1801 | elda | sub-0550_T1w | 2.75 |\n",
       "| 1802 | elda | sub-0036_T1w | 3.25 |\n",
       "| 1803 | elda | sub-0386_T1w | 3.40 |\n",
       "| 1804 | elda | sub-0879_T1w | 2.95 |\n",
       "| 1805 | elda | sub-0640_T1w | 3.55 |\n",
       "| 1806 | elda | sub-1231_T1w | 4.00 |\n",
       "| 1807 | elda | sub-1048_T1w | 3.45 |\n",
       "| 1808 | elda | sub-0468_T1w | 2.85 |\n",
       "| 1809 | elda | sub-0203_T1w | 3.45 |\n",
       "\n"
      ],
      "text/plain": [
       "     X    rater_id subject      rating\n",
       "1     0   emeline  sub-0152_T1w 2.45  \n",
       "2     1   emeline  sub-0152_T1w 2.55  \n",
       "3     2   emeline  sub-1051_T1w 2.85  \n",
       "4     3   emeline  sub-1186_T1w 2.55  \n",
       "5     4   emeline  sub-0951_T1w 3.45  \n",
       "6     5   emeline  sub-0902_T1w 2.95  \n",
       "7     6   emeline  sub-0250_T1w 2.55  \n",
       "8     7   emeline  sub-0394_T1w 2.95  \n",
       "9     8   emeline  sub-0924_T1w 2.60  \n",
       "10    9   emeline  sub-0472_T1w 2.65  \n",
       "11   10   emeline  sub-0328_T1w 3.00  \n",
       "12   11   emeline  sub-0661_T1w 3.55  \n",
       "13   12   emeline  sub-0050_T1w 2.60  \n",
       "14   13   emeline  sub-1221_T1w 2.85  \n",
       "15   14   emeline  sub-0752_T1w 3.15  \n",
       "16   15   emeline  sub-0336_T1w 3.55  \n",
       "17   16   emeline  sub-0459_T1w 2.95  \n",
       "18   17   emeline  sub-0775_T1w 3.40  \n",
       "19   18   emeline  sub-1130_T1w 2.70  \n",
       "20   19   emeline  sub-0656_T1w 3.25  \n",
       "21   20   emeline  sub-0270_T1w 2.80  \n",
       "22   21   thomas   sub-0152_T1w 3.55  \n",
       "23   22   thomas   sub-1051_T1w 3.70  \n",
       "24   23   thomas   sub-1186_T1w 3.30  \n",
       "25   24   thomas   sub-0951_T1w 3.35  \n",
       "26   25   thomas   sub-0902_T1w 3.30  \n",
       "27   26   thomas   sub-0250_T1w 3.45  \n",
       "28   27   thomas   sub-0394_T1w 3.45  \n",
       "29   28   thomas   sub-0924_T1w 3.00  \n",
       "30   29   thomas   sub-0472_T1w 3.40  \n",
       "⋮    ⋮    ⋮        ⋮            ⋮     \n",
       "1781 1780 elda     sub-1116_T1w 3.15  \n",
       "1782 1781 elda     sub-1223_T1w 2.95  \n",
       "1783 1782 elda     sub-0161_T1w 3.30  \n",
       "1784 1783 elda     sub-1190_T1w 2.95  \n",
       "1785 1784 elda     sub-1179_T1w 3.65  \n",
       "1786 1785 elda     sub-1168_T1w 3.30  \n",
       "1787 1786 elda     sub-0466_T1w 2.95  \n",
       "1788 1787 elda     sub-0558_T1w 3.05  \n",
       "1789 1788 elda     sub-0947_T1w 3.55  \n",
       "1790 1789 elda     sub-1091_T1w 3.45  \n",
       "1791 1790 elda     sub-0937_T1w 2.90  \n",
       "1792 1791 elda     sub-0957_T1w 2.45  \n",
       "1793 1792 elda     sub-0331_T1w 4.00  \n",
       "1794 1793 elda     sub-0457_T1w 3.45  \n",
       "1795 1794 elda     sub-0880_T1w 3.10  \n",
       "1796 1795 elda     sub-1189_T1w 3.50  \n",
       "1797 1796 elda     sub-0544_T1w 3.25  \n",
       "1798 1797 elda     sub-1097_T1w 3.25  \n",
       "1799 1798 elda     sub-0722_T1w 3.40  \n",
       "1800 1799 elda     sub-0792_T1w 2.95  \n",
       "1801 1800 elda     sub-1230_T1w 3.20  \n",
       "1802 1801 elda     sub-0550_T1w 2.75  \n",
       "1803 1802 elda     sub-0036_T1w 3.25  \n",
       "1804 1803 elda     sub-0386_T1w 3.40  \n",
       "1805 1804 elda     sub-0879_T1w 2.95  \n",
       "1806 1805 elda     sub-0640_T1w 3.55  \n",
       "1807 1806 elda     sub-1231_T1w 4.00  \n",
       "1808 1807 elda     sub-1048_T1w 3.45  \n",
       "1809 1808 elda     sub-0468_T1w 2.85  \n",
       "1810 1809 elda     sub-0203_T1w 3.45  "
      ]
     },
     "metadata": {},
     "output_type": "display_data"
    }
   ],
   "source": [
    "#df <- readRDS((\"../../data/simulated_normal_ratings.rds\"))\n",
    "df <- read.csv(file = '../../data/IXI_ratings_df.csv')\n",
    "# Drop columns we will not use in the analysis\n",
    "df <- df[, !names(df) %in% c(\"dataset\", \"artifacts\", \"time_sec\", \"confidence\", \"comments\")]\n",
    "\n",
    "df"
   ]
  },
  {
   "cell_type": "markdown",
   "id": "247792e8",
   "metadata": {},
   "source": [
    "## Repeated-measures ANOVA"
   ]
  },
  {
   "cell_type": "markdown",
   "id": "0bc257ed",
   "metadata": {},
   "source": [
    "### Check assumptions"
   ]
  },
  {
   "cell_type": "markdown",
   "id": "7e983f99",
   "metadata": {},
   "source": [
    "repeated-measure ANOVA makes the following three assumptions on the data :\n",
    "1. **No significant outlier** : By construction the ratings cannot leave the range we define, so this assumption is granted\n",
    "2. **Normality** : we will have many ratings so by the central theorem this assumption should be ok\n",
    "3. **Sphericity** : the variance of the differences between groups should be equal."
   ]
  },
  {
   "cell_type": "code",
   "execution_count": 4,
   "id": "69c69d14",
   "metadata": {
    "vscode": {
     "languageId": "r"
    }
   },
   "outputs": [
    {
     "ename": "ERROR",
     "evalue": "Error in library(ggpubr): there is no package called ‘ggpubr’\n",
     "output_type": "error",
     "traceback": [
      "Error in library(ggpubr): there is no package called ‘ggpubr’\nTraceback:\n",
      "1. library(ggpubr)"
     ]
    }
   ],
   "source": [
    "##Test for normality\n",
    "library(ggpubr)\n",
    "shapiro.test(df$ratings)"
   ]
  },
  {
   "cell_type": "markdown",
   "id": "44a2f0e4",
   "metadata": {},
   "source": [
    "If the data is normally distributed, p-values should be greater than 0.05"
   ]
  },
  {
   "cell_type": "code",
   "execution_count": null,
   "id": "9f536d6a",
   "metadata": {
    "scrolled": false,
    "vscode": {
     "languageId": "r"
    }
   },
   "outputs": [
    {
     "data": {
      "image/png": "[encoded data removed]",
      "text/plain": [
       "plot without title"
      ]
     },
     "metadata": {
      "image/png": {
       "height": 420,
       "width": 420
      }
     },
     "output_type": "display_data"
    },
    {
     "data": {
      "image/png": "[encoded data removed]",
      "text/plain": [
       "plot without title"
      ]
     },
     "metadata": {
      "image/png": {
       "height": 420,
       "width": 420
      }
     },
     "output_type": "display_data"
    }
   ],
   "source": [
    "## Other test for normality\n",
    "ggqqplot(df, \"ratings\", facet.by = 'defaced')\n",
    "ggqqplot(df, \"ratings\", ggtheme = theme_bw()) +\n",
    "  facet_grid(defaced ~ rater, labeller = \"label_both\")"
   ]
  },
  {
   "cell_type": "markdown",
   "id": "b361756d",
   "metadata": {},
   "source": [
    "We can assume normality if the points fall along the reference line."
   ]
  },
  {
   "cell_type": "code",
   "execution_count": null,
   "id": "79d0c7cd",
   "metadata": {
    "scrolled": false,
    "vscode": {
     "languageId": "r"
    }
   },
   "outputs": [
    {
     "data": {
      "text/html": [
       "<dl>\n",
       "\t<dt>$ANOVA</dt>\n",
       "\t\t<dd><table class=\"dataframe\">\n",
       "<caption>A data.frame: 3 × 7</caption>\n",
       "<thead>\n",
       "\t<tr><th scope=col>Effect</th><th scope=col>DFn</th><th scope=col>DFd</th><th scope=col>F</th><th scope=col>p</th><th scope=col>p&lt;.05</th><th scope=col>ges</th></tr>\n",
       "\t<tr><th scope=col>&lt;chr&gt;</th><th scope=col>&lt;dbl&gt;</th><th scope=col>&lt;dbl&gt;</th><th scope=col>&lt;dbl&gt;</th><th scope=col>&lt;dbl&gt;</th><th scope=col>&lt;chr&gt;</th><th scope=col>&lt;dbl&gt;</th></tr>\n",
       "</thead>\n",
       "<tbody>\n",
       "\t<tr><td>defaced      </td><td>1</td><td>184</td><td>530.324</td><td>4.34e-56</td><td>*</td><td>0.038</td></tr>\n",
       "\t<tr><td>rater        </td><td>3</td><td>552</td><td>  2.376</td><td>6.90e-02</td><td> </td><td>0.008</td></tr>\n",
       "\t<tr><td>defaced:rater</td><td>3</td><td>552</td><td> 23.304</td><td>3.24e-14</td><td>*</td><td>0.005</td></tr>\n",
       "</tbody>\n",
       "</table>\n",
       "</dd>\n",
       "\t<dt>$`Mauchly's Test for Sphericity`</dt>\n",
       "\t\t<dd><table class=\"dataframe\">\n",
       "<caption>A data.frame: 2 × 4</caption>\n",
       "<thead>\n",
       "\t<tr><th></th><th scope=col>Effect</th><th scope=col>W</th><th scope=col>p</th><th scope=col>p&lt;.05</th></tr>\n",
       "\t<tr><th></th><th scope=col>&lt;chr&gt;</th><th scope=col>&lt;dbl&gt;</th><th scope=col>&lt;dbl&gt;</th><th scope=col>&lt;chr&gt;</th></tr>\n",
       "</thead>\n",
       "<tbody>\n",
       "\t<tr><th scope=row>1</th><td>rater        </td><td>0.983</td><td>0.687</td><td> </td></tr>\n",
       "\t<tr><th scope=row>2</th><td>defaced:rater</td><td>0.936</td><td>0.035</td><td>*</td></tr>\n",
       "</tbody>\n",
       "</table>\n",
       "</dd>\n",
       "\t<dt>$`Sphericity Corrections`</dt>\n",
       "\t\t<dd><table class=\"dataframe\">\n",
       "<caption>A data.frame: 2 × 9</caption>\n",
       "<thead>\n",
       "\t<tr><th scope=col>Effect</th><th scope=col>GGe</th><th scope=col>DF[GG]</th><th scope=col>p[GG]</th><th scope=col>p[GG]&lt;.05</th><th scope=col>HFe</th><th scope=col>DF[HF]</th><th scope=col>p[HF]</th><th scope=col>p[HF]&lt;.05</th></tr>\n",
       "\t<tr><th scope=col>&lt;chr&gt;</th><th scope=col>&lt;dbl&gt;</th><th scope=col>&lt;chr&gt;</th><th scope=col>&lt;dbl&gt;</th><th scope=col>&lt;chr&gt;</th><th scope=col>&lt;dbl&gt;</th><th scope=col>&lt;chr&gt;</th><th scope=col>&lt;dbl&gt;</th><th scope=col>&lt;chr&gt;</th></tr>\n",
       "</thead>\n",
       "<tbody>\n",
       "\t<tr><td>rater        </td><td>0.989</td><td>2.97, 545.82</td><td>7.00e-02</td><td> </td><td>1.007</td><td>3.02, 555.74</td><td>6.9e-02</td><td> </td></tr>\n",
       "\t<tr><td>defaced:rater</td><td>0.959</td><td>2.88, 529.59</td><td>9.82e-14</td><td>*</td><td>0.976</td><td>2.93, 538.9 </td><td>6.2e-14</td><td>*</td></tr>\n",
       "</tbody>\n",
       "</table>\n",
       "</dd>\n",
       "</dl>\n"
      ],
      "text/latex": [
       "\\begin{description}\n",
       "\\item[\\$ANOVA] A data.frame: 3 × 7\n",
       "\\begin{tabular}{lllllll}\n",
       " Effect & DFn & DFd & F & p & p<.05 & ges\\\\\n",
       " <chr> & <dbl> & <dbl> & <dbl> & <dbl> & <chr> & <dbl>\\\\\n",
       "\\hline\n",
       "\t defaced       & 1 & 184 & 530.324 & 4.34e-56 & * & 0.038\\\\\n",
       "\t rater         & 3 & 552 &   2.376 & 6.90e-02 &   & 0.008\\\\\n",
       "\t defaced:rater & 3 & 552 &  23.304 & 3.24e-14 & * & 0.005\\\\\n",
       "\\end{tabular}\n",
       "\n",
       "\\item[\\$`Mauchly's Test for Sphericity`] A data.frame: 2 × 4\n",
       "\\begin{tabular}{r|llll}\n",
       "  & Effect & W & p & p<.05\\\\\n",
       "  & <chr> & <dbl> & <dbl> & <chr>\\\\\n",
       "\\hline\n",
       "\t1 & rater         & 0.983 & 0.687 &  \\\\\n",
       "\t2 & defaced:rater & 0.936 & 0.035 & *\\\\\n",
       "\\end{tabular}\n",
       "\n",
       "\\item[\\$`Sphericity Corrections`] A data.frame: 2 × 9\n",
       "\\begin{tabular}{lllllllll}\n",
       " Effect & GGe & DF{[}GG{]} & p{[}GG{]} & p{[}GG{]}<.05 & HFe & DF{[}HF{]} & p{[}HF{]} & p{[}HF{]}<.05\\\\\n",
       " <chr> & <dbl> & <chr> & <dbl> & <chr> & <dbl> & <chr> & <dbl> & <chr>\\\\\n",
       "\\hline\n",
       "\t rater         & 0.989 & 2.97, 545.82 & 7.00e-02 &   & 1.007 & 3.02, 555.74 & 6.9e-02 &  \\\\\n",
       "\t defaced:rater & 0.959 & 2.88, 529.59 & 9.82e-14 & * & 0.976 & 2.93, 538.9  & 6.2e-14 & *\\\\\n",
       "\\end{tabular}\n",
       "\n",
       "\\end{description}\n"
      ],
      "text/markdown": [
       "$ANOVA\n",
       ":   \n",
       "A data.frame: 3 × 7\n",
       "\n",
       "| Effect &lt;chr&gt; | DFn &lt;dbl&gt; | DFd &lt;dbl&gt; | F &lt;dbl&gt; | p &lt;dbl&gt; | p&lt;.05 &lt;chr&gt; | ges &lt;dbl&gt; |\n",
       "|---|---|---|---|---|---|---|\n",
       "| defaced       | 1 | 184 | 530.324 | 4.34e-56 | * | 0.038 |\n",
       "| rater         | 3 | 552 |   2.376 | 6.90e-02 | <!----> | 0.008 |\n",
       "| defaced:rater | 3 | 552 |  23.304 | 3.24e-14 | * | 0.005 |\n",
       "\n",
       "\n",
       "$`Mauchly's Test for Sphericity`\n",
       ":   \n",
       "A data.frame: 2 × 4\n",
       "\n",
       "| <!--/--> | Effect &lt;chr&gt; | W &lt;dbl&gt; | p &lt;dbl&gt; | p&lt;.05 &lt;chr&gt; |\n",
       "|---|---|---|---|---|\n",
       "| 1 | rater         | 0.983 | 0.687 | <!----> |\n",
       "| 2 | defaced:rater | 0.936 | 0.035 | * |\n",
       "\n",
       "\n",
       "$`Sphericity Corrections`\n",
       ":   \n",
       "A data.frame: 2 × 9\n",
       "\n",
       "| Effect &lt;chr&gt; | GGe &lt;dbl&gt; | DF[GG] &lt;chr&gt; | p[GG] &lt;dbl&gt; | p[GG]&lt;.05 &lt;chr&gt; | HFe &lt;dbl&gt; | DF[HF] &lt;chr&gt; | p[HF] &lt;dbl&gt; | p[HF]&lt;.05 &lt;chr&gt; |\n",
       "|---|---|---|---|---|---|---|---|---|\n",
       "| rater         | 0.989 | 2.97, 545.82 | 7.00e-02 | <!----> | 1.007 | 3.02, 555.74 | 6.9e-02 | <!----> |\n",
       "| defaced:rater | 0.959 | 2.88, 529.59 | 9.82e-14 | * | 0.976 | 2.93, 538.9  | 6.2e-14 | * |\n",
       "\n",
       "\n",
       "\n",
       "\n"
      ],
      "text/plain": [
       "ANOVA Table (type III tests)\n",
       "\n",
       "$ANOVA\n",
       "         Effect DFn DFd       F        p p<.05   ges\n",
       "1       defaced   1 184 530.324 4.34e-56     * 0.038\n",
       "2         rater   3 552   2.376 6.90e-02       0.008\n",
       "3 defaced:rater   3 552  23.304 3.24e-14     * 0.005\n",
       "\n",
       "$`Mauchly's Test for Sphericity`\n",
       "         Effect     W     p p<.05\n",
       "1         rater 0.983 0.687      \n",
       "2 defaced:rater 0.936 0.035     *\n",
       "\n",
       "$`Sphericity Corrections`\n",
       "         Effect   GGe       DF[GG]    p[GG] p[GG]<.05   HFe       DF[HF]\n",
       "1         rater 0.989 2.97, 545.82 7.00e-02           1.007 3.02, 555.74\n",
       "2 defaced:rater 0.959 2.88, 529.59 9.82e-14         * 0.976  2.93, 538.9\n",
       "    p[HF] p[HF]<.05\n",
       "1 6.9e-02          \n",
       "2 6.2e-14         *\n"
      ]
     },
     "metadata": {},
     "output_type": "display_data"
    }
   ],
   "source": [
    "## Test for sphericity\n",
    "library(rstatix)\n",
    "suppressWarnings(anova_test(data = df, dv = ratings, wid= sub, within = c(defaced, rater)))"
   ]
  },
  {
   "cell_type": "markdown",
   "id": "354ce05a",
   "metadata": {},
   "source": [
    "For the assumption of sphericity to be verified, the test should not reject the null hypothesis, which is that the variance between group is equal. If any assumption is violated, we will switch to the alternative analysis using linear mixed-effects models."
   ]
  },
  {
   "cell_type": "markdown",
   "id": "ef476ddc",
   "metadata": {},
   "source": [
    "### Run ANOVA"
   ]
  },
  {
   "cell_type": "code",
   "execution_count": null,
   "id": "6aa66020",
   "metadata": {
    "vscode": {
     "languageId": "r"
    }
   },
   "outputs": [
    {
     "data": {
      "text/html": [
       "<table class=\"dataframe\">\n",
       "<caption>A anova_test: 3 × 7</caption>\n",
       "<thead>\n",
       "\t<tr><th></th><th scope=col>Effect</th><th scope=col>DFn</th><th scope=col>DFd</th><th scope=col>F</th><th scope=col>p</th><th scope=col>p&lt;.05</th><th scope=col>ges</th></tr>\n",
       "\t<tr><th></th><th scope=col>&lt;chr&gt;</th><th scope=col>&lt;dbl&gt;</th><th scope=col>&lt;dbl&gt;</th><th scope=col>&lt;dbl&gt;</th><th scope=col>&lt;dbl&gt;</th><th scope=col>&lt;chr&gt;</th><th scope=col>&lt;dbl&gt;</th></tr>\n",
       "</thead>\n",
       "<tbody>\n",
       "\t<tr><th scope=row>1</th><td>defaced      </td><td>1.00</td><td>184.00</td><td>530.324</td><td>4.34e-56</td><td>*</td><td>0.038</td></tr>\n",
       "\t<tr><th scope=row>2</th><td>rater        </td><td>3.00</td><td>552.00</td><td>  2.376</td><td>6.90e-02</td><td> </td><td>0.008</td></tr>\n",
       "\t<tr><th scope=row>3</th><td>defaced:rater</td><td>2.88</td><td>529.59</td><td> 23.304</td><td>9.82e-14</td><td>*</td><td>0.005</td></tr>\n",
       "</tbody>\n",
       "</table>\n"
      ],
      "text/latex": [
       "A anova\\_test: 3 × 7\n",
       "\\begin{tabular}{r|lllllll}\n",
       "  & Effect & DFn & DFd & F & p & p<.05 & ges\\\\\n",
       "  & <chr> & <dbl> & <dbl> & <dbl> & <dbl> & <chr> & <dbl>\\\\\n",
       "\\hline\n",
       "\t1 & defaced       & 1.00 & 184.00 & 530.324 & 4.34e-56 & * & 0.038\\\\\n",
       "\t2 & rater         & 3.00 & 552.00 &   2.376 & 6.90e-02 &   & 0.008\\\\\n",
       "\t3 & defaced:rater & 2.88 & 529.59 &  23.304 & 9.82e-14 & * & 0.005\\\\\n",
       "\\end{tabular}\n"
      ],
      "text/markdown": [
       "\n",
       "A anova_test: 3 × 7\n",
       "\n",
       "| <!--/--> | Effect &lt;chr&gt; | DFn &lt;dbl&gt; | DFd &lt;dbl&gt; | F &lt;dbl&gt; | p &lt;dbl&gt; | p&lt;.05 &lt;chr&gt; | ges &lt;dbl&gt; |\n",
       "|---|---|---|---|---|---|---|---|\n",
       "| 1 | defaced       | 1.00 | 184.00 | 530.324 | 4.34e-56 | * | 0.038 |\n",
       "| 2 | rater         | 3.00 | 552.00 |   2.376 | 6.90e-02 | <!----> | 0.008 |\n",
       "| 3 | defaced:rater | 2.88 | 529.59 |  23.304 | 9.82e-14 | * | 0.005 |\n",
       "\n"
      ],
      "text/plain": [
       "  Effect        DFn  DFd    F       p        p<.05 ges  \n",
       "1 defaced       1.00 184.00 530.324 4.34e-56 *     0.038\n",
       "2 rater         3.00 552.00   2.376 6.90e-02       0.008\n",
       "3 defaced:rater 2.88 529.59  23.304 9.82e-14 *     0.005"
      ]
     },
     "metadata": {},
     "output_type": "display_data"
    }
   ],
   "source": [
    "suppressWarnings(res.aov <- anova_test(data = df, dv = ratings, wid = sub, within = c(defaced, rater)))\n",
    "get_anova_table(res.aov)"
   ]
  },
  {
   "cell_type": "markdown",
   "id": "c58fab1c",
   "metadata": {},
   "source": [
    "### Verify that the null hypothesis is not rejected if no bias has been introduced"
   ]
  },
  {
   "cell_type": "code",
   "execution_count": null,
   "id": "0d97623f",
   "metadata": {
    "vscode": {
     "languageId": "r"
    }
   },
   "outputs": [
    {
     "data": {
      "text/html": [
       "<table class=\"dataframe\">\n",
       "<caption>A anova_test: 3 × 7</caption>\n",
       "<thead>\n",
       "\t<tr><th></th><th scope=col>Effect</th><th scope=col>DFn</th><th scope=col>DFd</th><th scope=col>F</th><th scope=col>p</th><th scope=col>p&lt;.05</th><th scope=col>ges</th></tr>\n",
       "\t<tr><th></th><th scope=col>&lt;chr&gt;</th><th scope=col>&lt;dbl&gt;</th><th scope=col>&lt;dbl&gt;</th><th scope=col>&lt;dbl&gt;</th><th scope=col>&lt;dbl&gt;</th><th scope=col>&lt;chr&gt;</th><th scope=col>&lt;dbl&gt;</th></tr>\n",
       "</thead>\n",
       "<tbody>\n",
       "\t<tr><th scope=row>1</th><td>defaced      </td><td>1</td><td>184</td><td>78.645</td><td>6.41e-16</td><td>*</td><td>2.41e-05</td></tr>\n",
       "\t<tr><th scope=row>2</th><td>rater        </td><td>3</td><td>552</td><td> 1.660</td><td>1.75e-01</td><td> </td><td>7.00e-03</td></tr>\n",
       "\t<tr><th scope=row>3</th><td>defaced:rater</td><td>3</td><td>552</td><td> 0.015</td><td>9.97e-01</td><td> </td><td>1.44e-08</td></tr>\n",
       "</tbody>\n",
       "</table>\n"
      ],
      "text/latex": [
       "A anova\\_test: 3 × 7\n",
       "\\begin{tabular}{r|lllllll}\n",
       "  & Effect & DFn & DFd & F & p & p<.05 & ges\\\\\n",
       "  & <chr> & <dbl> & <dbl> & <dbl> & <dbl> & <chr> & <dbl>\\\\\n",
       "\\hline\n",
       "\t1 & defaced       & 1 & 184 & 78.645 & 6.41e-16 & * & 2.41e-05\\\\\n",
       "\t2 & rater         & 3 & 552 &  1.660 & 1.75e-01 &   & 7.00e-03\\\\\n",
       "\t3 & defaced:rater & 3 & 552 &  0.015 & 9.97e-01 &   & 1.44e-08\\\\\n",
       "\\end{tabular}\n"
      ],
      "text/markdown": [
       "\n",
       "A anova_test: 3 × 7\n",
       "\n",
       "| <!--/--> | Effect &lt;chr&gt; | DFn &lt;dbl&gt; | DFd &lt;dbl&gt; | F &lt;dbl&gt; | p &lt;dbl&gt; | p&lt;.05 &lt;chr&gt; | ges &lt;dbl&gt; |\n",
       "|---|---|---|---|---|---|---|---|\n",
       "| 1 | defaced       | 1 | 184 | 78.645 | 6.41e-16 | * | 2.41e-05 |\n",
       "| 2 | rater         | 3 | 552 |  1.660 | 1.75e-01 | <!----> | 7.00e-03 |\n",
       "| 3 | defaced:rater | 3 | 552 |  0.015 | 9.97e-01 | <!----> | 1.44e-08 |\n",
       "\n"
      ],
      "text/plain": [
       "  Effect        DFn DFd F      p        p<.05 ges     \n",
       "1 defaced       1   184 78.645 6.41e-16 *     2.41e-05\n",
       "2 rater         3   552  1.660 1.75e-01       7.00e-03\n",
       "3 defaced:rater 3   552  0.015 9.97e-01       1.44e-08"
      ]
     },
     "metadata": {},
     "output_type": "display_data"
    }
   ],
   "source": [
    "#Define for each rater the percentage of biased ratings\n",
    "perc_biased <- c(10,10,10,10)\n",
    "bias <- 1\n",
    "\n",
    "df_nobias <- simulate_normal_data(n_rated, n_sub, n_rater, perc_biased, mean=mean, sd=sd, bias=bias)\n",
    "df_nobias$ratings <- as.numeric(df_nobias$ratings)\n",
    "\n",
    "## Lmer should not find significant result\n",
    "suppressWarnings(res.aov <- anova_test(data = df_nobias, dv = ratings, wid = sub, within = c(defaced, rater)))\n",
    "get_anova_table(res.aov)"
   ]
  },
  {
   "cell_type": "markdown",
   "id": "73f35e0e",
   "metadata": {},
   "source": [
    "## Friedman test"
   ]
  },
  {
   "cell_type": "markdown",
   "id": "71924801",
   "metadata": {},
   "source": [
    "Non-parametric alternative to repeated-measure ANOVA."
   ]
  },
  {
   "cell_type": "code",
   "execution_count": null,
   "id": "3e4978b5",
   "metadata": {
    "vscode": {
     "languageId": "r"
    }
   },
   "outputs": [
    {
     "ename": "ERROR",
     "evalue": "Error in friedman.test.default(y = df$ratings, groups = factor(df$defaced), : not an unreplicated complete block design\n",
     "output_type": "error",
     "traceback": [
      "Error in friedman.test.default(y = df$ratings, groups = factor(df$defaced), : not an unreplicated complete block design\nTraceback:\n",
      "1. friedman.test(y = df$ratings, groups = factor(df$defaced), blocks = factor(df$sub))",
      "2. friedman.test.default(y = df$ratings, groups = factor(df$defaced), \n .     blocks = factor(df$sub))",
      "3. stop(\"not an unreplicated complete block design\")"
     ]
    }
   ],
   "source": [
    "friedman.test(y=df$ratings, groups=factor(df$defaced), blocks=factor(df$sub))"
   ]
  },
  {
   "cell_type": "markdown",
   "id": "8471d35e",
   "metadata": {},
   "source": [
    "Cannot use this function : An unreplicated complete block design has exactly 1 observation for each combination of the two grouping factors. But we have 4 observations of the combination defaced + sub 1 : rater01,02,03,04."
   ]
  }
 ],
 "metadata": {
  "kernelspec": {
   "display_name": "R",
   "language": "R",
   "name": "ir"
  },
  "language_info": {
   "codemirror_mode": "r",
   "file_extension": ".r",
   "mimetype": "text/x-r-source",
   "name": "R",
   "pygments_lexer": "r",
   "version": "4.4.0"
  }
 },
 "nbformat": 4,
 "nbformat_minor": 5
}
