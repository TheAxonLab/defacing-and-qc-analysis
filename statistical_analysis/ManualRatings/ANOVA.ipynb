{
 "cells": [
  {
   "cell_type": "markdown",
   "id": "e0f93bbf",
   "metadata": {},
   "source": [
    "# Defacing pre-registration - Statistical analysis in R"
   ]
  },
  {
   "cell_type": "markdown",
   "id": "254464db",
   "metadata": {},
   "source": [
    "## Function to simulate data with missing values"
   ]
  },
  {
   "cell_type": "code",
   "execution_count": 25,
   "id": "0858036e",
   "metadata": {},
   "outputs": [],
   "source": [
    "source(\"simulate_data.R\")"
   ]
  },
  {
   "cell_type": "markdown",
   "id": "8f266a07",
   "metadata": {},
   "source": [
    "Simulate normally-distributed ratings"
   ]
  },
  {
   "cell_type": "code",
   "execution_count": 26,
   "id": "2cd2527e",
   "metadata": {},
   "outputs": [
    {
     "data": {
      "text/html": [
       "<table class=\"dataframe\">\n",
       "<caption>A data.frame: 1440 × 4</caption>\n",
       "<thead>\n",
       "\t<tr><th scope=col>sub</th><th scope=col>defaced</th><th scope=col>rater</th><th scope=col>ratings</th></tr>\n",
       "\t<tr><th scope=col>&lt;int&gt;</th><th scope=col>&lt;fct&gt;</th><th scope=col>&lt;fct&gt;</th><th scope=col>&lt;dbl&gt;</th></tr>\n",
       "</thead>\n",
       "<tbody>\n",
       "\t<tr><td> 1</td><td>original</td><td>rater01</td><td>NA</td></tr>\n",
       "\t<tr><td> 1</td><td>defaced </td><td>rater01</td><td>NA</td></tr>\n",
       "\t<tr><td> 2</td><td>original</td><td>rater01</td><td>26</td></tr>\n",
       "\t<tr><td> 2</td><td>defaced </td><td>rater01</td><td>26</td></tr>\n",
       "\t<tr><td> 3</td><td>original</td><td>rater01</td><td>33</td></tr>\n",
       "\t<tr><td> 3</td><td>defaced </td><td>rater01</td><td>33</td></tr>\n",
       "\t<tr><td> 4</td><td>original</td><td>rater01</td><td>48</td></tr>\n",
       "\t<tr><td> 4</td><td>defaced </td><td>rater01</td><td>48</td></tr>\n",
       "\t<tr><td> 5</td><td>original</td><td>rater01</td><td>33</td></tr>\n",
       "\t<tr><td> 5</td><td>defaced </td><td>rater01</td><td>33</td></tr>\n",
       "\t<tr><td> 6</td><td>original</td><td>rater01</td><td>36</td></tr>\n",
       "\t<tr><td> 6</td><td>defaced </td><td>rater01</td><td>36</td></tr>\n",
       "\t<tr><td> 7</td><td>original</td><td>rater01</td><td>16</td></tr>\n",
       "\t<tr><td> 7</td><td>defaced </td><td>rater01</td><td>26</td></tr>\n",
       "\t<tr><td> 8</td><td>original</td><td>rater01</td><td>41</td></tr>\n",
       "\t<tr><td> 8</td><td>defaced </td><td>rater01</td><td>51</td></tr>\n",
       "\t<tr><td> 9</td><td>original</td><td>rater01</td><td>22</td></tr>\n",
       "\t<tr><td> 9</td><td>defaced </td><td>rater01</td><td>22</td></tr>\n",
       "\t<tr><td>10</td><td>original</td><td>rater01</td><td>30</td></tr>\n",
       "\t<tr><td>10</td><td>defaced </td><td>rater01</td><td>30</td></tr>\n",
       "\t<tr><td>11</td><td>original</td><td>rater01</td><td>NA</td></tr>\n",
       "\t<tr><td>11</td><td>defaced </td><td>rater01</td><td>NA</td></tr>\n",
       "\t<tr><td>12</td><td>original</td><td>rater01</td><td>16</td></tr>\n",
       "\t<tr><td>12</td><td>defaced </td><td>rater01</td><td>16</td></tr>\n",
       "\t<tr><td>13</td><td>original</td><td>rater01</td><td>NA</td></tr>\n",
       "\t<tr><td>13</td><td>defaced </td><td>rater01</td><td>NA</td></tr>\n",
       "\t<tr><td>14</td><td>original</td><td>rater01</td><td>38</td></tr>\n",
       "\t<tr><td>14</td><td>defaced </td><td>rater01</td><td>38</td></tr>\n",
       "\t<tr><td>15</td><td>original</td><td>rater01</td><td>21</td></tr>\n",
       "\t<tr><td>15</td><td>defaced </td><td>rater01</td><td>21</td></tr>\n",
       "\t<tr><td>⋮</td><td>⋮</td><td>⋮</td><td>⋮</td></tr>\n",
       "\t<tr><td>166</td><td>original</td><td>rater04</td><td>34</td></tr>\n",
       "\t<tr><td>166</td><td>defaced </td><td>rater04</td><td>44</td></tr>\n",
       "\t<tr><td>167</td><td>original</td><td>rater04</td><td>NA</td></tr>\n",
       "\t<tr><td>167</td><td>defaced </td><td>rater04</td><td>NA</td></tr>\n",
       "\t<tr><td>168</td><td>original</td><td>rater04</td><td>15</td></tr>\n",
       "\t<tr><td>168</td><td>defaced </td><td>rater04</td><td>15</td></tr>\n",
       "\t<tr><td>169</td><td>original</td><td>rater04</td><td>21</td></tr>\n",
       "\t<tr><td>169</td><td>defaced </td><td>rater04</td><td>21</td></tr>\n",
       "\t<tr><td>170</td><td>original</td><td>rater04</td><td>NA</td></tr>\n",
       "\t<tr><td>170</td><td>defaced </td><td>rater04</td><td>NA</td></tr>\n",
       "\t<tr><td>171</td><td>original</td><td>rater04</td><td> 1</td></tr>\n",
       "\t<tr><td>171</td><td>defaced </td><td>rater04</td><td> 6</td></tr>\n",
       "\t<tr><td>172</td><td>original</td><td>rater04</td><td>29</td></tr>\n",
       "\t<tr><td>172</td><td>defaced </td><td>rater04</td><td>29</td></tr>\n",
       "\t<tr><td>173</td><td>original</td><td>rater04</td><td>39</td></tr>\n",
       "\t<tr><td>173</td><td>defaced </td><td>rater04</td><td>39</td></tr>\n",
       "\t<tr><td>174</td><td>original</td><td>rater04</td><td>NA</td></tr>\n",
       "\t<tr><td>174</td><td>defaced </td><td>rater04</td><td>NA</td></tr>\n",
       "\t<tr><td>175</td><td>original</td><td>rater04</td><td>31</td></tr>\n",
       "\t<tr><td>175</td><td>defaced </td><td>rater04</td><td>41</td></tr>\n",
       "\t<tr><td>176</td><td>original</td><td>rater04</td><td>25</td></tr>\n",
       "\t<tr><td>176</td><td>defaced </td><td>rater04</td><td>35</td></tr>\n",
       "\t<tr><td>177</td><td>original</td><td>rater04</td><td> 7</td></tr>\n",
       "\t<tr><td>177</td><td>defaced </td><td>rater04</td><td>17</td></tr>\n",
       "\t<tr><td>178</td><td>original</td><td>rater04</td><td>34</td></tr>\n",
       "\t<tr><td>178</td><td>defaced </td><td>rater04</td><td>34</td></tr>\n",
       "\t<tr><td>179</td><td>original</td><td>rater04</td><td>NA</td></tr>\n",
       "\t<tr><td>179</td><td>defaced </td><td>rater04</td><td>NA</td></tr>\n",
       "\t<tr><td>180</td><td>original</td><td>rater04</td><td>15</td></tr>\n",
       "\t<tr><td>180</td><td>defaced </td><td>rater04</td><td>25</td></tr>\n",
       "</tbody>\n",
       "</table>\n"
      ],
      "text/latex": [
       "A data.frame: 1440 × 4\n",
       "\\begin{tabular}{llll}\n",
       " sub & defaced & rater & ratings\\\\\n",
       " <int> & <fct> & <fct> & <dbl>\\\\\n",
       "\\hline\n",
       "\t  1 & original & rater01 & NA\\\\\n",
       "\t  1 & defaced  & rater01 & NA\\\\\n",
       "\t  2 & original & rater01 & 26\\\\\n",
       "\t  2 & defaced  & rater01 & 26\\\\\n",
       "\t  3 & original & rater01 & 33\\\\\n",
       "\t  3 & defaced  & rater01 & 33\\\\\n",
       "\t  4 & original & rater01 & 48\\\\\n",
       "\t  4 & defaced  & rater01 & 48\\\\\n",
       "\t  5 & original & rater01 & 33\\\\\n",
       "\t  5 & defaced  & rater01 & 33\\\\\n",
       "\t  6 & original & rater01 & 36\\\\\n",
       "\t  6 & defaced  & rater01 & 36\\\\\n",
       "\t  7 & original & rater01 & 16\\\\\n",
       "\t  7 & defaced  & rater01 & 26\\\\\n",
       "\t  8 & original & rater01 & 41\\\\\n",
       "\t  8 & defaced  & rater01 & 51\\\\\n",
       "\t  9 & original & rater01 & 22\\\\\n",
       "\t  9 & defaced  & rater01 & 22\\\\\n",
       "\t 10 & original & rater01 & 30\\\\\n",
       "\t 10 & defaced  & rater01 & 30\\\\\n",
       "\t 11 & original & rater01 & NA\\\\\n",
       "\t 11 & defaced  & rater01 & NA\\\\\n",
       "\t 12 & original & rater01 & 16\\\\\n",
       "\t 12 & defaced  & rater01 & 16\\\\\n",
       "\t 13 & original & rater01 & NA\\\\\n",
       "\t 13 & defaced  & rater01 & NA\\\\\n",
       "\t 14 & original & rater01 & 38\\\\\n",
       "\t 14 & defaced  & rater01 & 38\\\\\n",
       "\t 15 & original & rater01 & 21\\\\\n",
       "\t 15 & defaced  & rater01 & 21\\\\\n",
       "\t ⋮ & ⋮ & ⋮ & ⋮\\\\\n",
       "\t 166 & original & rater04 & 34\\\\\n",
       "\t 166 & defaced  & rater04 & 44\\\\\n",
       "\t 167 & original & rater04 & NA\\\\\n",
       "\t 167 & defaced  & rater04 & NA\\\\\n",
       "\t 168 & original & rater04 & 15\\\\\n",
       "\t 168 & defaced  & rater04 & 15\\\\\n",
       "\t 169 & original & rater04 & 21\\\\\n",
       "\t 169 & defaced  & rater04 & 21\\\\\n",
       "\t 170 & original & rater04 & NA\\\\\n",
       "\t 170 & defaced  & rater04 & NA\\\\\n",
       "\t 171 & original & rater04 &  1\\\\\n",
       "\t 171 & defaced  & rater04 &  6\\\\\n",
       "\t 172 & original & rater04 & 29\\\\\n",
       "\t 172 & defaced  & rater04 & 29\\\\\n",
       "\t 173 & original & rater04 & 39\\\\\n",
       "\t 173 & defaced  & rater04 & 39\\\\\n",
       "\t 174 & original & rater04 & NA\\\\\n",
       "\t 174 & defaced  & rater04 & NA\\\\\n",
       "\t 175 & original & rater04 & 31\\\\\n",
       "\t 175 & defaced  & rater04 & 41\\\\\n",
       "\t 176 & original & rater04 & 25\\\\\n",
       "\t 176 & defaced  & rater04 & 35\\\\\n",
       "\t 177 & original & rater04 &  7\\\\\n",
       "\t 177 & defaced  & rater04 & 17\\\\\n",
       "\t 178 & original & rater04 & 34\\\\\n",
       "\t 178 & defaced  & rater04 & 34\\\\\n",
       "\t 179 & original & rater04 & NA\\\\\n",
       "\t 179 & defaced  & rater04 & NA\\\\\n",
       "\t 180 & original & rater04 & 15\\\\\n",
       "\t 180 & defaced  & rater04 & 25\\\\\n",
       "\\end{tabular}\n"
      ],
      "text/markdown": [
       "\n",
       "A data.frame: 1440 × 4\n",
       "\n",
       "| sub &lt;int&gt; | defaced &lt;fct&gt; | rater &lt;fct&gt; | ratings &lt;dbl&gt; |\n",
       "|---|---|---|---|\n",
       "|  1 | original | rater01 | NA |\n",
       "|  1 | defaced  | rater01 | NA |\n",
       "|  2 | original | rater01 | 26 |\n",
       "|  2 | defaced  | rater01 | 26 |\n",
       "|  3 | original | rater01 | 33 |\n",
       "|  3 | defaced  | rater01 | 33 |\n",
       "|  4 | original | rater01 | 48 |\n",
       "|  4 | defaced  | rater01 | 48 |\n",
       "|  5 | original | rater01 | 33 |\n",
       "|  5 | defaced  | rater01 | 33 |\n",
       "|  6 | original | rater01 | 36 |\n",
       "|  6 | defaced  | rater01 | 36 |\n",
       "|  7 | original | rater01 | 16 |\n",
       "|  7 | defaced  | rater01 | 26 |\n",
       "|  8 | original | rater01 | 41 |\n",
       "|  8 | defaced  | rater01 | 51 |\n",
       "|  9 | original | rater01 | 22 |\n",
       "|  9 | defaced  | rater01 | 22 |\n",
       "| 10 | original | rater01 | 30 |\n",
       "| 10 | defaced  | rater01 | 30 |\n",
       "| 11 | original | rater01 | NA |\n",
       "| 11 | defaced  | rater01 | NA |\n",
       "| 12 | original | rater01 | 16 |\n",
       "| 12 | defaced  | rater01 | 16 |\n",
       "| 13 | original | rater01 | NA |\n",
       "| 13 | defaced  | rater01 | NA |\n",
       "| 14 | original | rater01 | 38 |\n",
       "| 14 | defaced  | rater01 | 38 |\n",
       "| 15 | original | rater01 | 21 |\n",
       "| 15 | defaced  | rater01 | 21 |\n",
       "| ⋮ | ⋮ | ⋮ | ⋮ |\n",
       "| 166 | original | rater04 | 34 |\n",
       "| 166 | defaced  | rater04 | 44 |\n",
       "| 167 | original | rater04 | NA |\n",
       "| 167 | defaced  | rater04 | NA |\n",
       "| 168 | original | rater04 | 15 |\n",
       "| 168 | defaced  | rater04 | 15 |\n",
       "| 169 | original | rater04 | 21 |\n",
       "| 169 | defaced  | rater04 | 21 |\n",
       "| 170 | original | rater04 | NA |\n",
       "| 170 | defaced  | rater04 | NA |\n",
       "| 171 | original | rater04 |  1 |\n",
       "| 171 | defaced  | rater04 |  6 |\n",
       "| 172 | original | rater04 | 29 |\n",
       "| 172 | defaced  | rater04 | 29 |\n",
       "| 173 | original | rater04 | 39 |\n",
       "| 173 | defaced  | rater04 | 39 |\n",
       "| 174 | original | rater04 | NA |\n",
       "| 174 | defaced  | rater04 | NA |\n",
       "| 175 | original | rater04 | 31 |\n",
       "| 175 | defaced  | rater04 | 41 |\n",
       "| 176 | original | rater04 | 25 |\n",
       "| 176 | defaced  | rater04 | 35 |\n",
       "| 177 | original | rater04 |  7 |\n",
       "| 177 | defaced  | rater04 | 17 |\n",
       "| 178 | original | rater04 | 34 |\n",
       "| 178 | defaced  | rater04 | 34 |\n",
       "| 179 | original | rater04 | NA |\n",
       "| 179 | defaced  | rater04 | NA |\n",
       "| 180 | original | rater04 | 15 |\n",
       "| 180 | defaced  | rater04 | 25 |\n",
       "\n"
      ],
      "text/plain": [
       "     sub defaced  rater   ratings\n",
       "1     1  original rater01 NA     \n",
       "2     1  defaced  rater01 NA     \n",
       "3     2  original rater01 26     \n",
       "4     2  defaced  rater01 26     \n",
       "5     3  original rater01 33     \n",
       "6     3  defaced  rater01 33     \n",
       "7     4  original rater01 48     \n",
       "8     4  defaced  rater01 48     \n",
       "9     5  original rater01 33     \n",
       "10    5  defaced  rater01 33     \n",
       "11    6  original rater01 36     \n",
       "12    6  defaced  rater01 36     \n",
       "13    7  original rater01 16     \n",
       "14    7  defaced  rater01 26     \n",
       "15    8  original rater01 41     \n",
       "16    8  defaced  rater01 51     \n",
       "17    9  original rater01 22     \n",
       "18    9  defaced  rater01 22     \n",
       "19   10  original rater01 30     \n",
       "20   10  defaced  rater01 30     \n",
       "21   11  original rater01 NA     \n",
       "22   11  defaced  rater01 NA     \n",
       "23   12  original rater01 16     \n",
       "24   12  defaced  rater01 16     \n",
       "25   13  original rater01 NA     \n",
       "26   13  defaced  rater01 NA     \n",
       "27   14  original rater01 38     \n",
       "28   14  defaced  rater01 38     \n",
       "29   15  original rater01 21     \n",
       "30   15  defaced  rater01 21     \n",
       "⋮    ⋮   ⋮        ⋮       ⋮      \n",
       "1411 166 original rater04 34     \n",
       "1412 166 defaced  rater04 44     \n",
       "1413 167 original rater04 NA     \n",
       "1414 167 defaced  rater04 NA     \n",
       "1415 168 original rater04 15     \n",
       "1416 168 defaced  rater04 15     \n",
       "1417 169 original rater04 21     \n",
       "1418 169 defaced  rater04 21     \n",
       "1419 170 original rater04 NA     \n",
       "1420 170 defaced  rater04 NA     \n",
       "1421 171 original rater04  1     \n",
       "1422 171 defaced  rater04  6     \n",
       "1423 172 original rater04 29     \n",
       "1424 172 defaced  rater04 29     \n",
       "1425 173 original rater04 39     \n",
       "1426 173 defaced  rater04 39     \n",
       "1427 174 original rater04 NA     \n",
       "1428 174 defaced  rater04 NA     \n",
       "1429 175 original rater04 31     \n",
       "1430 175 defaced  rater04 41     \n",
       "1431 176 original rater04 25     \n",
       "1432 176 defaced  rater04 35     \n",
       "1433 177 original rater04  7     \n",
       "1434 177 defaced  rater04 17     \n",
       "1435 178 original rater04 34     \n",
       "1436 178 defaced  rater04 34     \n",
       "1437 179 original rater04 NA     \n",
       "1438 179 defaced  rater04 NA     \n",
       "1439 180 original rater04 15     \n",
       "1440 180 defaced  rater04 25     "
      ]
     },
     "metadata": {},
     "output_type": "display_data"
    }
   ],
   "source": [
    "n_sub <- 180 #nbr of subjects available in the dataset\n",
    "n_rated <- 130\n",
    "n_rater <- 4 #nbr of raters\n",
    "mean <- 20\n",
    "sd <- 10\n",
    "#Define for each rater the percentage of biased ratings\n",
    "perc_biased <- c(20,40,50,60)\n",
    "bias <- 10\n",
    "\n",
    "df <- simulate_normal_data(n_rated, n_sub, n_rater, perc_biased, mean=mean, sd=sd, bias=bias)\n",
    "df$ratings <- as.numeric(df$ratings)\n",
    "df"
   ]
  },
  {
   "cell_type": "markdown",
   "id": "247792e8",
   "metadata": {},
   "source": [
    "## repeated-measure ANOVA"
   ]
  },
  {
   "cell_type": "markdown",
   "id": "0bc257ed",
   "metadata": {},
   "source": [
    "### Check assumptions"
   ]
  },
  {
   "cell_type": "markdown",
   "id": "7e983f99",
   "metadata": {},
   "source": [
    "repeated-measure ANOVA makes the following three assumptions on the data :\n",
    "1. **No significant outlier** : By construction the ratings cannot leave the range we define, so this assumption is granted\n",
    "2. **Normality** : we will have many ratings so by the central theorem this assumption should be ok\n",
    "3. **Sphericity** : the variance of the differences between groups should be equal."
   ]
  },
  {
   "cell_type": "code",
   "execution_count": 27,
   "id": "69c69d14",
   "metadata": {},
   "outputs": [
    {
     "data": {
      "text/plain": [
       "\n",
       "\tShapiro-Wilk normality test\n",
       "\n",
       "data:  df$ratings\n",
       "W = 0.99555, p-value = 0.004024\n"
      ]
     },
     "metadata": {},
     "output_type": "display_data"
    }
   ],
   "source": [
    "##Test for normality\n",
    "library(ggpubr)\n",
    "shapiro.test(df$ratings)"
   ]
  },
  {
   "cell_type": "markdown",
   "id": "44a2f0e4",
   "metadata": {},
   "source": [
    "If the data is normally distributed, p-values should be greater than 0.05"
   ]
  },
  {
   "cell_type": "code",
   "execution_count": 28,
   "id": "9f536d6a",
   "metadata": {
    "scrolled": false
   },
   "outputs": [
    {
     "name": "stderr",
     "output_type": "stream",
     "text": [
      "Warning message:\n",
      "“Removed 400 rows containing non-finite values (stat_qq).”\n",
      "Warning message:\n",
      "“Removed 400 rows containing non-finite values (stat_qq_line).”\n",
      "Warning message:\n",
      "“Removed 400 rows containing non-finite values (stat_qq_line).”\n",
      "Warning message:\n",
      "“Removed 400 rows containing non-finite values (stat_qq).”\n",
      "Warning message:\n",
      "“Removed 400 rows containing non-finite values (stat_qq_line).”\n",
      "Warning message:\n",
      "“Removed 400 rows containing non-finite values (stat_qq_line).”\n"
     ]
    },
    {
     "data": {
      "image/png": "[encoded data removed]",
      "text/plain": [
       "plot without title"
      ]
     },
     "metadata": {
      "image/png": {
       "height": 420,
       "width": 420
      }
     },
     "output_type": "display_data"
    },
    {
     "data": {
      "image/png": "[encoded data removed]",
      "text/plain": [
       "plot without title"
      ]
     },
     "metadata": {
      "image/png": {
       "height": 420,
       "width": 420
      }
     },
     "output_type": "display_data"
    }
   ],
   "source": [
    "## Other test for normality\n",
    "ggqqplot(df, \"ratings\", facet.by = 'defaced')\n",
    "ggqqplot(df, \"ratings\", ggtheme = theme_bw()) +\n",
    "  facet_grid(defaced ~ rater, labeller = \"label_both\")"
   ]
  },
  {
   "cell_type": "markdown",
   "id": "b361756d",
   "metadata": {},
   "source": [
    "We can assume normality if the points fall along the reference line."
   ]
  },
  {
   "cell_type": "code",
   "execution_count": 29,
   "id": "79d0c7cd",
   "metadata": {
    "scrolled": false
   },
   "outputs": [
    {
     "data": {
      "text/html": [
       "<dl>\n",
       "\t<dt>$ANOVA</dt>\n",
       "\t\t<dd><table class=\"dataframe\">\n",
       "<caption>A data.frame: 3 × 7</caption>\n",
       "<thead>\n",
       "\t<tr><th scope=col>Effect</th><th scope=col>DFn</th><th scope=col>DFd</th><th scope=col>F</th><th scope=col>p</th><th scope=col>p&lt;.05</th><th scope=col>ges</th></tr>\n",
       "\t<tr><th scope=col>&lt;chr&gt;</th><th scope=col>&lt;dbl&gt;</th><th scope=col>&lt;dbl&gt;</th><th scope=col>&lt;dbl&gt;</th><th scope=col>&lt;dbl&gt;</th><th scope=col>&lt;chr&gt;</th><th scope=col>&lt;dbl&gt;</th></tr>\n",
       "</thead>\n",
       "<tbody>\n",
       "\t<tr><td>defaced      </td><td>1</td><td> 53</td><td>144.127</td><td>9.67e-17</td><td>*</td><td>0.034</td></tr>\n",
       "\t<tr><td>rater        </td><td>3</td><td>159</td><td>  1.591</td><td>1.94e-01</td><td> </td><td>0.021</td></tr>\n",
       "\t<tr><td>defaced:rater</td><td>3</td><td>159</td><td>  5.120</td><td>2.00e-03</td><td>*</td><td>0.003</td></tr>\n",
       "</tbody>\n",
       "</table>\n",
       "</dd>\n",
       "\t<dt>$`Mauchly's Test for Sphericity`</dt>\n",
       "\t\t<dd><table class=\"dataframe\">\n",
       "<caption>A data.frame: 2 × 4</caption>\n",
       "<thead>\n",
       "\t<tr><th></th><th scope=col>Effect</th><th scope=col>W</th><th scope=col>p</th><th scope=col>p&lt;.05</th></tr>\n",
       "\t<tr><th></th><th scope=col>&lt;chr&gt;</th><th scope=col>&lt;dbl&gt;</th><th scope=col>&lt;dbl&gt;</th><th scope=col>&lt;chr&gt;</th></tr>\n",
       "</thead>\n",
       "<tbody>\n",
       "\t<tr><th scope=row>1</th><td>rater        </td><td>0.961</td><td>0.841</td><td></td></tr>\n",
       "\t<tr><th scope=row>2</th><td>defaced:rater</td><td>0.940</td><td>0.670</td><td></td></tr>\n",
       "</tbody>\n",
       "</table>\n",
       "</dd>\n",
       "\t<dt>$`Sphericity Corrections`</dt>\n",
       "\t\t<dd><table class=\"dataframe\">\n",
       "<caption>A data.frame: 2 × 9</caption>\n",
       "<thead>\n",
       "\t<tr><th scope=col>Effect</th><th scope=col>GGe</th><th scope=col>DF[GG]</th><th scope=col>p[GG]</th><th scope=col>p[GG]&lt;.05</th><th scope=col>HFe</th><th scope=col>DF[HF]</th><th scope=col>p[HF]</th><th scope=col>p[HF]&lt;.05</th></tr>\n",
       "\t<tr><th scope=col>&lt;chr&gt;</th><th scope=col>&lt;dbl&gt;</th><th scope=col>&lt;chr&gt;</th><th scope=col>&lt;dbl&gt;</th><th scope=col>&lt;chr&gt;</th><th scope=col>&lt;dbl&gt;</th><th scope=col>&lt;chr&gt;</th><th scope=col>&lt;dbl&gt;</th><th scope=col>&lt;chr&gt;</th></tr>\n",
       "</thead>\n",
       "<tbody>\n",
       "\t<tr><td>rater        </td><td>0.976</td><td>2.93, 155.21</td><td>0.195</td><td> </td><td>1.039</td><td>3.12, 165.27</td><td>0.194</td><td> </td></tr>\n",
       "\t<tr><td>defaced:rater</td><td>0.963</td><td>2.89, 153.18</td><td>0.002</td><td>*</td><td>1.025</td><td>3.07, 162.95</td><td>0.002</td><td>*</td></tr>\n",
       "</tbody>\n",
       "</table>\n",
       "</dd>\n",
       "</dl>\n"
      ],
      "text/latex": [
       "\\begin{description}\n",
       "\\item[\\$ANOVA] A data.frame: 3 × 7\n",
       "\\begin{tabular}{lllllll}\n",
       " Effect & DFn & DFd & F & p & p<.05 & ges\\\\\n",
       " <chr> & <dbl> & <dbl> & <dbl> & <dbl> & <chr> & <dbl>\\\\\n",
       "\\hline\n",
       "\t defaced       & 1 &  53 & 144.127 & 9.67e-17 & * & 0.034\\\\\n",
       "\t rater         & 3 & 159 &   1.591 & 1.94e-01 &   & 0.021\\\\\n",
       "\t defaced:rater & 3 & 159 &   5.120 & 2.00e-03 & * & 0.003\\\\\n",
       "\\end{tabular}\n",
       "\n",
       "\\item[\\$`Mauchly's Test for Sphericity`] A data.frame: 2 × 4\n",
       "\\begin{tabular}{r|llll}\n",
       "  & Effect & W & p & p<.05\\\\\n",
       "  & <chr> & <dbl> & <dbl> & <chr>\\\\\n",
       "\\hline\n",
       "\t1 & rater         & 0.961 & 0.841 & \\\\\n",
       "\t2 & defaced:rater & 0.940 & 0.670 & \\\\\n",
       "\\end{tabular}\n",
       "\n",
       "\\item[\\$`Sphericity Corrections`] A data.frame: 2 × 9\n",
       "\\begin{tabular}{lllllllll}\n",
       " Effect & GGe & DF{[}GG{]} & p{[}GG{]} & p{[}GG{]}<.05 & HFe & DF{[}HF{]} & p{[}HF{]} & p{[}HF{]}<.05\\\\\n",
       " <chr> & <dbl> & <chr> & <dbl> & <chr> & <dbl> & <chr> & <dbl> & <chr>\\\\\n",
       "\\hline\n",
       "\t rater         & 0.976 & 2.93, 155.21 & 0.195 &   & 1.039 & 3.12, 165.27 & 0.194 &  \\\\\n",
       "\t defaced:rater & 0.963 & 2.89, 153.18 & 0.002 & * & 1.025 & 3.07, 162.95 & 0.002 & *\\\\\n",
       "\\end{tabular}\n",
       "\n",
       "\\end{description}\n"
      ],
      "text/markdown": [
       "$ANOVA\n",
       ":   \n",
       "A data.frame: 3 × 7\n",
       "\n",
       "| Effect &lt;chr&gt; | DFn &lt;dbl&gt; | DFd &lt;dbl&gt; | F &lt;dbl&gt; | p &lt;dbl&gt; | p&lt;.05 &lt;chr&gt; | ges &lt;dbl&gt; |\n",
       "|---|---|---|---|---|---|---|\n",
       "| defaced       | 1 |  53 | 144.127 | 9.67e-17 | * | 0.034 |\n",
       "| rater         | 3 | 159 |   1.591 | 1.94e-01 | <!----> | 0.021 |\n",
       "| defaced:rater | 3 | 159 |   5.120 | 2.00e-03 | * | 0.003 |\n",
       "\n",
       "\n",
       "$`Mauchly's Test for Sphericity`\n",
       ":   \n",
       "A data.frame: 2 × 4\n",
       "\n",
       "| <!--/--> | Effect &lt;chr&gt; | W &lt;dbl&gt; | p &lt;dbl&gt; | p&lt;.05 &lt;chr&gt; |\n",
       "|---|---|---|---|---|\n",
       "| 1 | rater         | 0.961 | 0.841 | <!----> |\n",
       "| 2 | defaced:rater | 0.940 | 0.670 | <!----> |\n",
       "\n",
       "\n",
       "$`Sphericity Corrections`\n",
       ":   \n",
       "A data.frame: 2 × 9\n",
       "\n",
       "| Effect &lt;chr&gt; | GGe &lt;dbl&gt; | DF[GG] &lt;chr&gt; | p[GG] &lt;dbl&gt; | p[GG]&lt;.05 &lt;chr&gt; | HFe &lt;dbl&gt; | DF[HF] &lt;chr&gt; | p[HF] &lt;dbl&gt; | p[HF]&lt;.05 &lt;chr&gt; |\n",
       "|---|---|---|---|---|---|---|---|---|\n",
       "| rater         | 0.976 | 2.93, 155.21 | 0.195 | <!----> | 1.039 | 3.12, 165.27 | 0.194 | <!----> |\n",
       "| defaced:rater | 0.963 | 2.89, 153.18 | 0.002 | * | 1.025 | 3.07, 162.95 | 0.002 | * |\n",
       "\n",
       "\n",
       "\n",
       "\n"
      ],
      "text/plain": [
       "ANOVA Table (type III tests)\n",
       "\n",
       "$ANOVA\n",
       "         Effect DFn DFd       F        p p<.05   ges\n",
       "1       defaced   1  53 144.127 9.67e-17     * 0.034\n",
       "2         rater   3 159   1.591 1.94e-01       0.021\n",
       "3 defaced:rater   3 159   5.120 2.00e-03     * 0.003\n",
       "\n",
       "$`Mauchly's Test for Sphericity`\n",
       "         Effect     W     p p<.05\n",
       "1         rater 0.961 0.841      \n",
       "2 defaced:rater 0.940 0.670      \n",
       "\n",
       "$`Sphericity Corrections`\n",
       "         Effect   GGe       DF[GG] p[GG] p[GG]<.05   HFe       DF[HF] p[HF]\n",
       "1         rater 0.976 2.93, 155.21 0.195           1.039 3.12, 165.27 0.194\n",
       "2 defaced:rater 0.963 2.89, 153.18 0.002         * 1.025 3.07, 162.95 0.002\n",
       "  p[HF]<.05\n",
       "1          \n",
       "2         *\n"
      ]
     },
     "metadata": {},
     "output_type": "display_data"
    }
   ],
   "source": [
    "## Test for sphericity\n",
    "library(rstatix)\n",
    "suppressWarnings(anova_test(data = df, dv = ratings, wid= sub, within = c(defaced, rater)))"
   ]
  },
  {
   "cell_type": "markdown",
   "id": "354ce05a",
   "metadata": {},
   "source": [
    "For the assumption of sphericity to be verified, the test should not reject the null hypothesis, which is that the variance between group is equal. The assumption is violated by the interaction defaced:rater, thus anova_test can apply automatically sphericity correction"
   ]
  },
  {
   "cell_type": "markdown",
   "id": "ef476ddc",
   "metadata": {},
   "source": [
    "### Run ANOVA"
   ]
  },
  {
   "cell_type": "code",
   "execution_count": 30,
   "id": "6aa66020",
   "metadata": {},
   "outputs": [
    {
     "data": {
      "text/html": [
       "<table class=\"dataframe\">\n",
       "<caption>A anova_test: 3 × 7</caption>\n",
       "<thead>\n",
       "\t<tr><th></th><th scope=col>Effect</th><th scope=col>DFn</th><th scope=col>DFd</th><th scope=col>F</th><th scope=col>p</th><th scope=col>p&lt;.05</th><th scope=col>ges</th></tr>\n",
       "\t<tr><th></th><th scope=col>&lt;chr&gt;</th><th scope=col>&lt;dbl&gt;</th><th scope=col>&lt;dbl&gt;</th><th scope=col>&lt;dbl&gt;</th><th scope=col>&lt;dbl&gt;</th><th scope=col>&lt;chr&gt;</th><th scope=col>&lt;dbl&gt;</th></tr>\n",
       "</thead>\n",
       "<tbody>\n",
       "\t<tr><th scope=row>1</th><td>defaced      </td><td>1</td><td> 53</td><td>144.127</td><td>9.67e-17</td><td>*</td><td>0.034</td></tr>\n",
       "\t<tr><th scope=row>2</th><td>rater        </td><td>3</td><td>159</td><td>  1.591</td><td>1.94e-01</td><td> </td><td>0.021</td></tr>\n",
       "\t<tr><th scope=row>3</th><td>defaced:rater</td><td>3</td><td>159</td><td>  5.120</td><td>2.00e-03</td><td>*</td><td>0.003</td></tr>\n",
       "</tbody>\n",
       "</table>\n"
      ],
      "text/latex": [
       "A anova\\_test: 3 × 7\n",
       "\\begin{tabular}{r|lllllll}\n",
       "  & Effect & DFn & DFd & F & p & p<.05 & ges\\\\\n",
       "  & <chr> & <dbl> & <dbl> & <dbl> & <dbl> & <chr> & <dbl>\\\\\n",
       "\\hline\n",
       "\t1 & defaced       & 1 &  53 & 144.127 & 9.67e-17 & * & 0.034\\\\\n",
       "\t2 & rater         & 3 & 159 &   1.591 & 1.94e-01 &   & 0.021\\\\\n",
       "\t3 & defaced:rater & 3 & 159 &   5.120 & 2.00e-03 & * & 0.003\\\\\n",
       "\\end{tabular}\n"
      ],
      "text/markdown": [
       "\n",
       "A anova_test: 3 × 7\n",
       "\n",
       "| <!--/--> | Effect &lt;chr&gt; | DFn &lt;dbl&gt; | DFd &lt;dbl&gt; | F &lt;dbl&gt; | p &lt;dbl&gt; | p&lt;.05 &lt;chr&gt; | ges &lt;dbl&gt; |\n",
       "|---|---|---|---|---|---|---|---|\n",
       "| 1 | defaced       | 1 |  53 | 144.127 | 9.67e-17 | * | 0.034 |\n",
       "| 2 | rater         | 3 | 159 |   1.591 | 1.94e-01 | <!----> | 0.021 |\n",
       "| 3 | defaced:rater | 3 | 159 |   5.120 | 2.00e-03 | * | 0.003 |\n",
       "\n"
      ],
      "text/plain": [
       "  Effect        DFn DFd F       p        p<.05 ges  \n",
       "1 defaced       1    53 144.127 9.67e-17 *     0.034\n",
       "2 rater         3   159   1.591 1.94e-01       0.021\n",
       "3 defaced:rater 3   159   5.120 2.00e-03 *     0.003"
      ]
     },
     "metadata": {},
     "output_type": "display_data"
    }
   ],
   "source": [
    "suppressWarnings(res.aov <- anova_test(data = df, dv = ratings, wid = sub, within = c(defaced, rater)))\n",
    "get_anova_table(res.aov)"
   ]
  },
  {
   "cell_type": "markdown",
   "id": "c58fab1c",
   "metadata": {},
   "source": [
    "### Verify that the null hypothesis is not rejected if no bias has been introduced"
   ]
  },
  {
   "cell_type": "code",
   "execution_count": 31,
   "id": "0d97623f",
   "metadata": {},
   "outputs": [
    {
     "data": {
      "text/html": [
       "<table class=\"dataframe\">\n",
       "<caption>A anova_test: 3 × 7</caption>\n",
       "<thead>\n",
       "\t<tr><th></th><th scope=col>Effect</th><th scope=col>DFn</th><th scope=col>DFd</th><th scope=col>F</th><th scope=col>p</th><th scope=col>p&lt;.05</th><th scope=col>ges</th></tr>\n",
       "\t<tr><th></th><th scope=col>&lt;chr&gt;</th><th scope=col>&lt;dbl&gt;</th><th scope=col>&lt;dbl&gt;</th><th scope=col>&lt;dbl&gt;</th><th scope=col>&lt;dbl&gt;</th><th scope=col>&lt;chr&gt;</th><th scope=col>&lt;dbl&gt;</th></tr>\n",
       "</thead>\n",
       "<tbody>\n",
       "\t<tr><th scope=row>1</th><td>defaced      </td><td>1</td><td> 50</td><td>23.558</td><td>1.23e-05</td><td>*</td><td>2.52e-05</td></tr>\n",
       "\t<tr><th scope=row>2</th><td>rater        </td><td>3</td><td>150</td><td> 1.636</td><td>1.84e-01</td><td> </td><td>2.40e-02</td></tr>\n",
       "\t<tr><th scope=row>3</th><td>defaced:rater</td><td>3</td><td>150</td><td> 0.190</td><td>9.03e-01</td><td> </td><td>6.28e-07</td></tr>\n",
       "</tbody>\n",
       "</table>\n"
      ],
      "text/latex": [
       "A anova\\_test: 3 × 7\n",
       "\\begin{tabular}{r|lllllll}\n",
       "  & Effect & DFn & DFd & F & p & p<.05 & ges\\\\\n",
       "  & <chr> & <dbl> & <dbl> & <dbl> & <dbl> & <chr> & <dbl>\\\\\n",
       "\\hline\n",
       "\t1 & defaced       & 1 &  50 & 23.558 & 1.23e-05 & * & 2.52e-05\\\\\n",
       "\t2 & rater         & 3 & 150 &  1.636 & 1.84e-01 &   & 2.40e-02\\\\\n",
       "\t3 & defaced:rater & 3 & 150 &  0.190 & 9.03e-01 &   & 6.28e-07\\\\\n",
       "\\end{tabular}\n"
      ],
      "text/markdown": [
       "\n",
       "A anova_test: 3 × 7\n",
       "\n",
       "| <!--/--> | Effect &lt;chr&gt; | DFn &lt;dbl&gt; | DFd &lt;dbl&gt; | F &lt;dbl&gt; | p &lt;dbl&gt; | p&lt;.05 &lt;chr&gt; | ges &lt;dbl&gt; |\n",
       "|---|---|---|---|---|---|---|---|\n",
       "| 1 | defaced       | 1 |  50 | 23.558 | 1.23e-05 | * | 2.52e-05 |\n",
       "| 2 | rater         | 3 | 150 |  1.636 | 1.84e-01 | <!----> | 2.40e-02 |\n",
       "| 3 | defaced:rater | 3 | 150 |  0.190 | 9.03e-01 | <!----> | 6.28e-07 |\n",
       "\n"
      ],
      "text/plain": [
       "  Effect        DFn DFd F      p        p<.05 ges     \n",
       "1 defaced       1    50 23.558 1.23e-05 *     2.52e-05\n",
       "2 rater         3   150  1.636 1.84e-01       2.40e-02\n",
       "3 defaced:rater 3   150  0.190 9.03e-01       6.28e-07"
      ]
     },
     "metadata": {},
     "output_type": "display_data"
    }
   ],
   "source": [
    "#Define for each rater the percentage of biased ratings\n",
    "perc_biased <- c(10,10,10,10)\n",
    "bias <- 1\n",
    "\n",
    "df_nobias <- simulate_normal_data(n_rated, n_sub, n_rater, perc_biased, mean=mean, sd=sd, bias=bias)\n",
    "df_nobias$ratings <- as.numeric(df_nobias$ratings)\n",
    "\n",
    "## Lmer should not find significant result\n",
    "suppressWarnings(res.aov <- anova_test(data = df_nobias, dv = ratings, wid = sub, within = c(defaced, rater)))\n",
    "get_anova_table(res.aov)"
   ]
  },
  {
   "cell_type": "markdown",
   "id": "73f35e0e",
   "metadata": {},
   "source": [
    "## Friedman test"
   ]
  },
  {
   "cell_type": "markdown",
   "id": "71924801",
   "metadata": {},
   "source": [
    "Non-parametric alternative to repeated-measure ANOVA."
   ]
  },
  {
   "cell_type": "code",
   "execution_count": 32,
   "id": "3e4978b5",
   "metadata": {},
   "outputs": [
    {
     "ename": "ERROR",
     "evalue": "Error in friedman.test.default(y = df$ratings, groups = factor(df$defaced), : not an unreplicated complete block design\n",
     "output_type": "error",
     "traceback": [
      "Error in friedman.test.default(y = df$ratings, groups = factor(df$defaced), : not an unreplicated complete block design\nTraceback:\n",
      "1. friedman.test(y = df$ratings, groups = factor(df$defaced), blocks = factor(df$sub))",
      "2. friedman.test.default(y = df$ratings, groups = factor(df$defaced), \n .     blocks = factor(df$sub))",
      "3. stop(\"not an unreplicated complete block design\")"
     ]
    }
   ],
   "source": [
    "friedman.test(y=df$ratings, groups=factor(df$defaced), blocks=factor(df$sub))"
   ]
  },
  {
   "cell_type": "markdown",
   "id": "8471d35e",
   "metadata": {},
   "source": [
    "Cannot use this function : An unreplicated complete block design has exactly 1 observation for each combination of the two grouping factors. But we have 4 observations of the combination defaced + sub 1 : rater01,02,03,04."
   ]
  }
 ],
 "metadata": {
  "kernelspec": {
   "display_name": "R",
   "language": "R",
   "name": "ir"
  },
  "language_info": {
   "codemirror_mode": "r",
   "file_extension": ".r",
   "mimetype": "text/x-r-source",
   "name": "R",
   "pygments_lexer": "r",
   "version": "4.2.0"
  }
 },
 "nbformat": 4,
 "nbformat_minor": 5
}
