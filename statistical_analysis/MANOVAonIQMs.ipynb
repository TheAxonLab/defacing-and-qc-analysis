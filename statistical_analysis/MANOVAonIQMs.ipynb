{
 "cells": [
  {
   "cell_type": "markdown",
   "id": "bc1ded66",
   "metadata": {},
   "source": [
    "# Defacing pre-registration - Statistical analysis on image quality metrics (IQMs) in python"
   ]
  },
  {
   "cell_type": "markdown",
   "id": "620d6277",
   "metadata": {},
   "source": [
    "## Load IQMs from MRIQC output"
   ]
  },
  {
   "cell_type": "code",
   "execution_count": null,
   "id": "d4ce4d52",
   "metadata": {},
   "outputs": [],
   "source": [
    "n_sub <- 580 #nbr of subjects available in the dataset\n",
    "\n",
    "randomization_path = \"../randomization/\"\n",
    "data_path = \"/data/derivatives/mriqc/RoyalCarpetPlot/DefacingPilotData/shuffled\""
   ]
  },
  {
   "cell_type": "markdown",
   "id": "5922af47",
   "metadata": {},
   "source": [
    "So that human raters cannot match the image with and without face for a single individual, participant identifiers were randomized by reassigning 1160 randomly drawn unique identifiers. To compare the IQMs from the two conditions, we need to retrieve the participants' original id using the dictionary that generated the anonymization."
   ]
  },
  {
   "cell_type": "code",
   "execution_count": null,
   "id": "ab7ba474",
   "metadata": {},
   "outputs": [],
   "source": [
    "#Load dictionary to map back anomymized id to participants' original identifier\n",
    "with open(os.path.join(randomization_path,\"DefacingPilotData_blind_dict.json\")) as json_file:\n",
    "    blind_dict = json.load(json_file)\n",
    "with open(os.path.join(randomization_path,\"DefacingPilotData_pos_dict.json\")) as json_file:\n",
    "    pos_dict = json.load(json_file)\n",
    "\n",
    "def get_key(my_dict,val):\n",
    "    \"\"\"Get the key associated to the know value in a dictionary\n",
    "    \n",
    "    Parameters\n",
    "    ----------\n",
    "    my_dict : dictionary to search the value in \n",
    "    val : value to search\n",
    "    \n",
    "    Returns\n",
    "    -------\n",
    "    key : string associated to the value\n",
    "    \n",
    "    \"\"\"\n",
    "    for key, value in my_dict.items():\n",
    "         if val == value:\n",
    "             return key"
   ]
  },
  {
   "cell_type": "markdown",
   "id": "db783c35",
   "metadata": {},
   "source": [
    "Now that we have the tools to map MRIQC output back to the participants' original identifier, we have load the IQMs into two dataframes : one for original and one for defaced data."
   ]
  },
  {
   "cell_type": "code",
   "execution_count": null,
   "id": "fe609a71",
   "metadata": {},
   "outputs": [],
   "source": [
    "## Load IQMs\n",
    "iqms_original = np.zeros((n_sub,61))\n",
    "iqms_defaced = np.zeros((n_sub,61))\n",
    "for s in range(0,n_sub*2):\n",
    "    with open(os.path.join(data_path, 'sub-{}'.format(s), \"ses-V1\", \"anat\",\"sub-{}_ses-V1_run-1_T1w.json\".format(s))) as json_file:\n",
    "        iqms = json.load(json_file)\n",
    "        iqms_keys = list(iqms.keys())\n",
    "        #Drop non-IQMs keys\n",
    "        iqms_keys.remove('bids_meta')\n",
    "        iqms_keys.remove('provenance')\n",
    "        iqms_keys.remove('size_x')\n",
    "        iqms_keys.remove('size_y')\n",
    "        iqms_keys.remove('size_z')\n",
    "        iqms_keys.remove('spacing_x')\n",
    "        iqms_keys.remove('spacing_y')\n",
    "        iqms_keys.remove('spacing_z')\n",
    "\n",
    "    #Retrieve participant's original identifier\n",
    "    sub = get_key(blind_dict,s)\n",
    "    pos = int(get_key(pos_dict,sub[0:8]))\n",
    "\n",
    "    if \"non_deface\" in sub:\n",
    "        for i,key in enumerate(iqms_keys):\n",
    "            iqms_original[pos,i] = iqms[key]\n",
    "    elif \"pydeface\" in sub:\n",
    "        for i,key in enumerate(iqms_keys):\n",
    "            iqms_defaced[pos,i] = iqms[key]\n",
    "    else:\n",
    "        raise ValueError(\"{} is an invalid name\".format(sub)) "
   ]
  },
  {
   "cell_type": "markdown",
   "id": "2ea60e08",
   "metadata": {},
   "source": [
    "## Run MANOVA"
   ]
  },
  {
   "cell_type": "code",
   "execution_count": null,
   "id": "85691f0f",
   "metadata": {},
   "outputs": [],
   "source": [
    "# Build dataframe\n",
    "i_o = np.hstack((iqms_original,np.zeros((10,1))))\n",
    "i_d = np.hstack((iqms_defaced,np.ones((10,1))))\n",
    "print(i_o.shape)\n",
    "print(i_d.shape)\n",
    "i_merge = np.vstack((i_o,i_d))\n",
    "#Verify shape matches expectation\n",
    "print(i_merge.shape)\n",
    "\n",
    "iqms_df = pd.DataFrame(i_merge, columns = iqms_keys + ['Defaced'])\n",
    "print(iqms_keys)\n",
    "\n",
    "#Construct formula\n",
    "dep_var = '' \n",
    "for key in iqms_keys:\n",
    "    dep_var += '{} +'.format(key)\n",
    "#Remove the last ' +'\n",
    "dep_var = dep_var[:-2]\n",
    "\n",
    "#Run MANOVA\n",
    "maov = MANOVA.from_formula('{} ~ Defaced'.format(dep_var), data=iqms_df)\n",
    "\n",
    "print(maov.mv_test())"
   ]
  }
 ],
 "metadata": {
  "kernelspec": {
   "display_name": "Python 3 (ipykernel)",
   "language": "python",
   "name": "python3"
  },
  "language_info": {
   "codemirror_mode": {
    "name": "ipython",
    "version": 3
   },
   "file_extension": ".py",
   "mimetype": "text/x-python",
   "name": "python",
   "nbconvert_exporter": "python",
   "pygments_lexer": "ipython3",
   "version": "3.8.13"
  }
 },
 "nbformat": 4,
 "nbformat_minor": 5
}
