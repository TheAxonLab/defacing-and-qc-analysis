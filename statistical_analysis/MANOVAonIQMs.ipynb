{
 "cells": [
  {
   "cell_type": "markdown",
   "id": "bc1ded66",
   "metadata": {},
   "source": [
    "# Defacing pre-registration - Statistical analysis on image quality metrics (IQMs) in python"
   ]
  },
  {
   "cell_type": "markdown",
   "id": "620d6277",
   "metadata": {},
   "source": [
    "## Load IQMs from MRIQC output"
   ]
  },
  {
   "cell_type": "code",
   "execution_count": null,
   "id": "d4ce4d52",
   "metadata": {},
   "outputs": [],
   "source": [
    "## LOAD IQMs\n",
    "\n",
    "randomization_path = \"../randomization/\"\n",
    "data_path = \"/data/derivatives/mriqc/RoyalCarpetPlot/DefacingPilotData/shuffled\"\n",
    "manualQCpathCP = \"/data/code/DefacingProject/ManualQC/Celine\"\n",
    "manualQCpathOE = \"/data/code/DefacingProject/ManualQC/Oscar\"\n",
    "\n",
    "with open(os.path.join(randomization_path,\"DefacingPilotData_blind_dict.json\")) as json_file:\n",
    "    blind_dict = json.load(json_file)\n",
    "with open(os.path.join(randomization_path,\"DefacingPilotData_pos_dict.json\")) as json_file:\n",
    "    pos_dict = json.load(json_file)\n",
    " \n",
    "anonym_dict = {'{}'.format(i) : i+1 for i in range(0,9)}\n",
    "print(anonym_dict)\n",
    "def get_key(my_dict,val):\n",
    "    for key, value in my_dict.items():\n",
    "         if val == value:\n",
    "             return key\n",
    "        \n",
    "df_api = pd.read_pickle('./MRIQC_API_T1w/T1w_siemens_prisma')\n",
    "df_api = df_api.reindex(sorted(df_api.columns), axis=1)\n",
    "api = df_api.to_numpy()\n",
    "\n",
    "manual_original = np.zeros((10,2))\n",
    "manual_defaced = np.zeros((10,2))  \n",
    "iqms_original = np.zeros((10,61))\n",
    "iqms_defaced = np.zeros((10,61))\n",
    "for s in range(0,20):\n",
    "    with open(os.path.join(data_path, 'sub-{}'.format(s), \"ses-V1\", \"anat\",\"sub-{}_ses-V1_run-1_T1w.json\".format(s))) as json_file:\n",
    "        iqms = json.load(json_file)\n",
    "        iqms_keys = list(iqms.keys())\n",
    "        #Drop non IQMs field\n",
    "        iqms_keys.remove('bids_meta')\n",
    "        iqms_keys.remove('provenance')\n",
    "        iqms_keys.remove('size_x')\n",
    "        iqms_keys.remove('size_y')\n",
    "        iqms_keys.remove('size_z')\n",
    "        iqms_keys.remove('spacing_x')\n",
    "        iqms_keys.remove('spacing_y')\n",
    "        iqms_keys.remove('spacing_z')\n",
    "        iqms_keys.remove('summary_bg_p05')\n",
    "        \n",
    "    assert len(df_api.columns) == len(iqms_keys), 'There is not the same nbr of iqms in the API based and in this dataset'\n",
    "\n",
    "    sub = get_key(blind_dict,s)\n",
    "    pos = int(get_key(pos_dict,sub[0:8]))\n",
    "\n",
    "    if \"non_deface\" in sub:\n",
    "        # Manual quality rating\n",
    "        manual_original[pos,0] = scoreCP['rating']\n",
    "        manual_original[pos,1] = scoreOE['rating']\n",
    "        # Automatic quality metrics\n",
    "        for i,key in enumerate(iqms_keys):\n",
    "            iqms_original[pos,i] = iqms[key]\n",
    "    elif \"pydeface\" in sub:\n",
    "        # Manual quality rating\n",
    "        manual_defaced[pos,0] = scoreCP['rating']\n",
    "        manual_defaced[pos,1] = scoreOE['rating']\n",
    "        # Automatic quality metrics\n",
    "        for i,key in enumerate(iqms_keys):\n",
    "            iqms_defaced[pos,i] = iqms[key]\n",
    "    else:\n",
    "        raise ValueError(\"{} is an invalid name\".format(sub)) "
   ]
  },
  {
   "cell_type": "markdown",
   "id": "2ea60e08",
   "metadata": {},
   "source": [
    "## Run MANOVA"
   ]
  },
  {
   "cell_type": "code",
   "execution_count": null,
   "id": "85691f0f",
   "metadata": {},
   "outputs": [],
   "source": [
    "# Build dataframe\n",
    "i_o = np.hstack((iqms_original,np.zeros((10,1))))\n",
    "i_d = np.hstack((iqms_defaced,np.ones((10,1))))\n",
    "print(i_o.shape)\n",
    "print(i_d.shape)\n",
    "i_merge = np.vstack((i_o,i_d))\n",
    "#Verify shape matches expectation\n",
    "print(i_merge.shape)\n",
    "\n",
    "iqms_df = pd.DataFrame(i_merge, columns = iqms_keys + ['Defaced'])\n",
    "print(iqms_keys)\n",
    "\n",
    "#Construct formula\n",
    "dep_var = '' \n",
    "for key in iqms_keys:\n",
    "    dep_var += '{} +'.format(key)\n",
    "#Remove the last ' +'\n",
    "dep_var = dep_var[:-2]\n",
    "\n",
    "#Run MANOVA\n",
    "maov = MANOVA.from_formula('{} ~ Defaced'.format(dep_var), data=iqms_df)\n",
    "\n",
    "print(maov.mv_test())"
   ]
  }
 ],
 "metadata": {
  "kernelspec": {
   "display_name": "Python 3 (ipykernel)",
   "language": "python",
   "name": "python3"
  },
  "language_info": {
   "codemirror_mode": {
    "name": "ipython",
    "version": 3
   },
   "file_extension": ".py",
   "mimetype": "text/x-python",
   "name": "python",
   "nbconvert_exporter": "python",
   "pygments_lexer": "ipython3",
   "version": "3.8.13"
  }
 },
 "nbformat": 4,
 "nbformat_minor": 5
}
